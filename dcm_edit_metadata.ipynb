{
 "cells": [
  {
   "cell_type": "code",
   "execution_count": 1,
   "id": "3834ed35-9727-4a8b-b171-5733294c7792",
   "metadata": {},
   "outputs": [],
   "source": [
    "import os\n",
    "from pydicom import dcmread\n",
    "import matplotlib.pyplot as plt"
   ]
  },
  {
   "cell_type": "code",
   "execution_count": 4,
   "id": "57cf08eb-ca61-420e-8eb9-7ee0ae5255d8",
   "metadata": {},
   "outputs": [],
   "source": [
    "path = r'C:\\Users\\tdelg\\OneDrive\\Desktop\\No_Name\\015101_Alxn1840Wd205 - 695575972\\MRE_4sl__401'\n",
    "output = r'N:\\2_Analysis\\automated_analysis\\dcm_edits\\401_MRE'"
   ]
  },
  {
   "cell_type": "code",
   "execution_count": 5,
   "id": "8949256f-91ff-408b-9319-9aa8769e4cf6",
   "metadata": {},
   "outputs": [
    {
     "data": {
      "text/plain": [
       "(32, 320, 320)"
      ]
     },
     "execution_count": 5,
     "metadata": {},
     "output_type": "execute_result"
    }
   ],
   "source": [
    "ds = dcmread(os.path.join(path, 'IM-0001-0032.dcm'))\n",
    "arr = ds.pixel_array\n",
    "\n",
    "arr.shape"
   ]
  },
  {
   "cell_type": "code",
   "execution_count": null,
   "id": "e81efb7a-f0e8-45b2-9fe7-60dde1359b87",
   "metadata": {},
   "outputs": [],
   "source": []
  },
  {
   "cell_type": "code",
   "execution_count": null,
   "id": "12ba41c1-af53-4309-9351-ed9bda86f35a",
   "metadata": {},
   "outputs": [],
   "source": []
  },
  {
   "cell_type": "code",
   "execution_count": 29,
   "id": "72be914a-2de6-4aef-8d55-4e3958c974ef",
   "metadata": {},
   "outputs": [],
   "source": [
    "dcm = dcmread(r'N:\\2_Analysis\\_Research\\Loomba\\GOLD-MINE\\_Completed\\GLD_0261_20220415_3547\\Mri_Abdomen_WO_Contrast - 9012\\MRE_fGRE_OW_4_sl_60HZ_4\\IM-0004-0023.dcm')"
   ]
  },
  {
   "cell_type": "code",
   "execution_count": null,
   "id": "9a57ec05-5412-4600-b59d-638bea3fe567",
   "metadata": {},
   "outputs": [],
   "source": []
  },
  {
   "cell_type": "code",
   "execution_count": 20,
   "id": "edcec331-f689-4ef2-9c61-a8b32aacfd3e",
   "metadata": {},
   "outputs": [
    {
     "data": {
      "text/plain": [
       "False"
      ]
     },
     "execution_count": 20,
     "metadata": {},
     "output_type": "execute_result"
    }
   ],
   "source": [
    "'ImageLocation' in ds"
   ]
  },
  {
   "cell_type": "code",
   "execution_count": 31,
   "id": "504ce55f-6f32-4914-b059-244899716457",
   "metadata": {},
   "outputs": [
    {
     "data": {
      "text/plain": [
       "(0018, 1310) Acquisition Matrix                  US: [256, 0, 0, 80]"
      ]
     },
     "execution_count": 31,
     "metadata": {},
     "output_type": "execute_result"
    }
   ],
   "source": [
    "dcm[0x18, 0x1310]"
   ]
  },
  {
   "cell_type": "code",
   "execution_count": null,
   "id": "48717750-b980-4fd9-bb51-d44bb2a07c3f",
   "metadata": {},
   "outputs": [],
   "source": []
  },
  {
   "cell_type": "code",
   "execution_count": null,
   "id": "dee39764-978e-41bf-9b9c-505e9b6049c6",
   "metadata": {},
   "outputs": [],
   "source": []
  },
  {
   "cell_type": "code",
   "execution_count": null,
   "id": "7d0d7b82-3635-41ce-ab07-29c7baa624ab",
   "metadata": {},
   "outputs": [],
   "source": []
  },
  {
   "cell_type": "code",
   "execution_count": null,
   "id": "3c01b64a-9b4b-4583-b8af-eb341481c35f",
   "metadata": {},
   "outputs": [],
   "source": []
  },
  {
   "cell_type": "code",
   "execution_count": null,
   "id": "9eb5fb07-c86c-402e-91fa-fc760d1442ac",
   "metadata": {},
   "outputs": [],
   "source": []
  },
  {
   "cell_type": "code",
   "execution_count": null,
   "id": "109b3b5f-4961-48fe-a78d-87fa45e69992",
   "metadata": {},
   "outputs": [],
   "source": []
  },
  {
   "cell_type": "code",
   "execution_count": null,
   "id": "55929923-915e-4adb-b1b3-12d1f5a9e5cd",
   "metadata": {},
   "outputs": [],
   "source": []
  },
  {
   "cell_type": "code",
   "execution_count": 4,
   "id": "34eee38e-dd8c-47ca-a8ac-9af6ce786e72",
   "metadata": {},
   "outputs": [
    {
     "name": "stdout",
     "output_type": "stream",
     "text": [
      "te:          (2001, 1025) [Echo Time Display MR]              SH: '1.15/2.3'\n",
      "tr:          (2005, 1030) [Repetition Time]                   FL: [119.9988021850586, 0.0]\n",
      "flip angle:  (2001, 1023) [Flip Angle Philips]                DS: '10.0'\n",
      "sop ID:      (0008, 0018) SOP Instance UID                    UI: 1.3.46.670589.11.42400.5.20.1.1.8044.2022042010524690200\n",
      "sop ID pre:  1.3.46.670589.11.42400.5.20.1.1.8044.2022042010524690\n"
     ]
    }
   ],
   "source": [
    "flip_angle = ds[0x2001, 0x1023]\n",
    "te = ds[0x2001, 0x1025]\n",
    "tr = ds[0x2005, 0x1030]\n",
    "sop_id = ds[0x0008, 0x0018]\n",
    "sop_id_pre = sop_id[:-3]\n",
    "\n",
    "print('te:         ', te)\n",
    "print('tr:         ', tr)\n",
    "print('flip angle: ', flip_angle)\n",
    "print('sop ID:     ', sop_id)\n",
    "print('sop ID pre: ', sop_id_pre)"
   ]
  },
  {
   "cell_type": "code",
   "execution_count": 6,
   "id": "85a5ae18-71cb-4f9e-9ef9-e182a978a279",
   "metadata": {},
   "outputs": [],
   "source": [
    "rep_time = ds[0x2005, 0x1030][0]\n",
    "echo_time = 1.15\n",
    "flip_angle = 10\n",
    "echo_nums = [1, 2] * 27\n",
    "\n",
    "for i in range(arr.shape[0]):\n",
    "    echo_num = echo_nums[i]\n",
    "    \n",
    "    im_arr = arr[i,:,:]\n",
    "    \n",
    "    ds.PixelData = im_arr.tobytes()\n",
    "    ds.NumberOfFrames = 1\n",
    "    del ds.NumberOfFrames\n",
    "    \n",
    "    ds.EchoTime = str(round(echo_num * echo_time, 2))\n",
    "    ds.RepetitionTime = rep_time\n",
    "    \n",
    "    ds.FlipAngle = flip_angle\n",
    "    \n",
    "    ds.EchoNumbers = echo_num \n",
    "    \n",
    "    ds.SOPInstanceUID = sop_id_pre + str(i+1).zfill(3)\n",
    "    \n",
    "    ds.InstanceNumber = i+1\n",
    "    \n",
    "    ds.save_as(os.path.join(output, 'IM-0002-' + str(i+1).zfill(4) + '.dcm'))"
   ]
  },
  {
   "cell_type": "code",
   "execution_count": null,
   "id": "4185d273-ec40-4264-8b43-7606d2dea8f4",
   "metadata": {},
   "outputs": [],
   "source": []
  },
  {
   "cell_type": "code",
   "execution_count": null,
   "id": "b1aeb2a7-8a32-45cf-89eb-93214dbcfafc",
   "metadata": {},
   "outputs": [],
   "source": []
  },
  {
   "cell_type": "code",
   "execution_count": null,
   "id": "093ab24c-ad35-4eb7-9f7b-a4af611f1c28",
   "metadata": {},
   "outputs": [],
   "source": []
  },
  {
   "cell_type": "code",
   "execution_count": null,
   "id": "eeaf866b-4249-4505-8975-55feb3f63156",
   "metadata": {},
   "outputs": [],
   "source": []
  },
  {
   "cell_type": "code",
   "execution_count": null,
   "id": "31020e63-db82-4150-b848-287112c39fd6",
   "metadata": {},
   "outputs": [],
   "source": []
  },
  {
   "cell_type": "code",
   "execution_count": null,
   "id": "2fcf0f1a-7a31-4f87-9c37-f29abc4558eb",
   "metadata": {},
   "outputs": [],
   "source": []
  },
  {
   "cell_type": "code",
   "execution_count": null,
   "id": "45ed220f-dbfd-4650-bc68-3085a36c87ea",
   "metadata": {},
   "outputs": [],
   "source": []
  },
  {
   "cell_type": "code",
   "execution_count": null,
   "id": "da1ffff2-f172-47c9-abbc-63b4c890972d",
   "metadata": {},
   "outputs": [],
   "source": []
  },
  {
   "cell_type": "code",
   "execution_count": null,
   "id": "1be6a22f-36e9-4794-b51f-d67a1e57bfae",
   "metadata": {},
   "outputs": [],
   "source": []
  },
  {
   "cell_type": "code",
   "execution_count": 45,
   "id": "ee1abbbd-3c0b-459d-8c96-45ce2c3b196f",
   "metadata": {},
   "outputs": [
    {
     "data": {
      "text/plain": [
       "(162, 256, 256)"
      ]
     },
     "execution_count": 45,
     "metadata": {},
     "output_type": "execute_result"
    }
   ],
   "source": [
    "arr = ds.pixel_array\n",
    "arr.shape"
   ]
  },
  {
   "cell_type": "code",
   "execution_count": 5,
   "id": "863096d3-9512-4230-8d26-daf40462c2d9",
   "metadata": {},
   "outputs": [
    {
     "data": {
      "text/plain": [
       "(256, 256)"
      ]
     },
     "execution_count": 5,
     "metadata": {},
     "output_type": "execute_result"
    }
   ],
   "source": [
    "im_arr = arr[0,:,:]\n",
    "im_arr.shape"
   ]
  },
  {
   "cell_type": "code",
   "execution_count": 6,
   "id": "eed36388-94f3-4419-bd1c-93bfcceb2bf6",
   "metadata": {},
   "outputs": [
    {
     "data": {
      "text/plain": [
       "<function matplotlib.pyplot.show(close=None, block=None)>"
      ]
     },
     "execution_count": 6,
     "metadata": {},
     "output_type": "execute_result"
    },
    {
     "data": {
      "image/png": "[encoded data removed]",
      "text/plain": [
       "<Figure size 432x288 with 1 Axes>"
      ]
     },
     "metadata": {
      "needs_background": "light"
     },
     "output_type": "display_data"
    }
   ],
   "source": [
    "plt.imshow(im_arr,cmap='gray')\n",
    "plt.show"
   ]
  },
  {
   "cell_type": "code",
   "execution_count": 7,
   "id": "55cb7eae-04f1-4a97-b98c-53ccb3cc648a",
   "metadata": {},
   "outputs": [],
   "source": [
    "ds.PixelData = im_arr.tobytes()"
   ]
  },
  {
   "cell_type": "code",
   "execution_count": 8,
   "id": "8d573d60-8b54-4849-81f9-0f49ae4e9b04",
   "metadata": {},
   "outputs": [],
   "source": [
    "ds.NumberOfFrames = 1"
   ]
  },
  {
   "cell_type": "code",
   "execution_count": 9,
   "id": "33fb6075-fae8-4bef-a10e-3d4ceaf36ea6",
   "metadata": {},
   "outputs": [
    {
     "data": {
      "text/plain": [
       "False"
      ]
     },
     "execution_count": 9,
     "metadata": {},
     "output_type": "execute_result"
    }
   ],
   "source": [
    "'EchoTime' in ds"
   ]
  },
  {
   "cell_type": "code",
   "execution_count": 23,
   "id": "1443beef-9434-4f64-807f-c8eec6bc12b3",
   "metadata": {},
   "outputs": [],
   "source": [
    "ds.EchoTime = 1.15"
   ]
  },
  {
   "cell_type": "code",
   "execution_count": 24,
   "id": "ab6284e8-8910-4574-8af1-d0c2946b1c13",
   "metadata": {},
   "outputs": [
    {
     "data": {
      "text/plain": [
       "(0018, 0081) Echo Time                           DS: '1.15'"
      ]
     },
     "execution_count": 24,
     "metadata": {},
     "output_type": "execute_result"
    }
   ],
   "source": [
    "ds['EchoTime']"
   ]
  },
  {
   "cell_type": "code",
   "execution_count": 25,
   "id": "768708f8-5d9d-4cc4-aa56-dd0752e9d94f",
   "metadata": {},
   "outputs": [
    {
     "data": {
      "text/plain": [
       "False"
      ]
     },
     "execution_count": 25,
     "metadata": {},
     "output_type": "execute_result"
    }
   ],
   "source": [
    "'RepetitionTime' in ds"
   ]
  },
  {
   "cell_type": "code",
   "execution_count": 26,
   "id": "69d59c01-bc3d-48cf-b455-115a0a75a5c6",
   "metadata": {},
   "outputs": [],
   "source": [
    "ds.RepetitionTime = ds[0x2005, 0x1030][0]"
   ]
  },
  {
   "cell_type": "code",
   "execution_count": 27,
   "id": "2d94ffc6-aeea-4acb-bbe6-3d63c1a10130",
   "metadata": {},
   "outputs": [
    {
     "data": {
      "text/plain": [
       "(0018, 0080) Repetition Time                     DS: '119.99960327148438'"
      ]
     },
     "execution_count": 27,
     "metadata": {},
     "output_type": "execute_result"
    }
   ],
   "source": [
    "ds['RepetitionTime']"
   ]
  },
  {
   "cell_type": "code",
   "execution_count": 28,
   "id": "fe4ae679-bf5e-48aa-9a50-2a265dbff9a4",
   "metadata": {},
   "outputs": [
    {
     "data": {
      "text/plain": [
       "False"
      ]
     },
     "execution_count": 28,
     "metadata": {},
     "output_type": "execute_result"
    }
   ],
   "source": [
    "'FlipAngle' in ds"
   ]
  },
  {
   "cell_type": "code",
   "execution_count": 36,
   "id": "976a91a2-8c9f-42b8-a29e-a253cd914ec3",
   "metadata": {},
   "outputs": [
    {
     "name": "stdout",
     "output_type": "stream",
     "text": [
      "(2001, 1023) [Flip Angle Philips]                DS: '10.0'\n"
     ]
    }
   ],
   "source": [
    "flip_angle = ds[0x2001, 0x1023]\n",
    "print(flip_angle)"
   ]
  },
  {
   "cell_type": "code",
   "execution_count": 37,
   "id": "e00c4117-51b7-4d6a-9f3c-58e801c0b864",
   "metadata": {},
   "outputs": [],
   "source": [
    "ds.FlipAngle = 10"
   ]
  },
  {
   "cell_type": "code",
   "execution_count": 38,
   "id": "f2e9266a-f217-4ac0-9d42-a733ea57c428",
   "metadata": {},
   "outputs": [
    {
     "data": {
      "text/plain": [
       "(0018, 1314) Flip Angle                          DS: '10.0'"
      ]
     },
     "execution_count": 38,
     "metadata": {},
     "output_type": "execute_result"
    }
   ],
   "source": [
    "ds['FlipAngle']"
   ]
  },
  {
   "cell_type": "code",
   "execution_count": 31,
   "id": "1a21ff07-2c92-4f8e-a856-895efc483ee5",
   "metadata": {},
   "outputs": [
    {
     "data": {
      "text/plain": [
       "False"
      ]
     },
     "execution_count": 31,
     "metadata": {},
     "output_type": "execute_result"
    }
   ],
   "source": [
    "'EchoNumbers' in ds"
   ]
  },
  {
   "cell_type": "code",
   "execution_count": 32,
   "id": "972808d9-1313-4859-9278-116abaa56986",
   "metadata": {},
   "outputs": [],
   "source": [
    "ds.EchoNumbers = 5"
   ]
  },
  {
   "cell_type": "code",
   "execution_count": 33,
   "id": "8a8ded82-0994-451e-b4f1-a38518b84f1a",
   "metadata": {},
   "outputs": [
    {
     "data": {
      "text/plain": [
       "(0018, 0086) Echo Number(s)                      IS: '5'"
      ]
     },
     "execution_count": 33,
     "metadata": {},
     "output_type": "execute_result"
    }
   ],
   "source": [
    "ds['EchoNumbers']"
   ]
  },
  {
   "cell_type": "code",
   "execution_count": 16,
   "id": "c7fc3c90-7652-4b53-91d0-3d557c1e5cfd",
   "metadata": {},
   "outputs": [],
   "source": [
    "ds.save_as('test.dcm')"
   ]
  },
  {
   "cell_type": "code",
   "execution_count": null,
   "id": "f330334e-2547-4249-be4d-e983ab49ff41",
   "metadata": {},
   "outputs": [],
   "source": []
  }
 ],
 "metadata": {
  "kernelspec": {
   "display_name": "gpu",
   "language": "python",
   "name": "gpu"
  },
  "language_info": {
   "codemirror_mode": {
    "name": "ipython",
    "version": 3
   },
   "file_extension": ".py",
   "mimetype": "text/x-python",
   "name": "python",
   "nbconvert_exporter": "python",
   "pygments_lexer": "ipython3",
   "version": "3.9.7"
  }
 },
 "nbformat": 4,
 "nbformat_minor": 5
}
