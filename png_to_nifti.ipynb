{
 "cells": [
  {
   "cell_type": "code",
   "execution_count": 81,
   "id": "620a4b31-fd24-44c3-b5a1-2c7c1091e7e0",
   "metadata": {},
   "outputs": [],
   "source": [
    "import glob\n",
    "from PIL import Image\n",
    "import numpy as np\n",
    "import matplotlib.pyplot as plt\n",
    "import nibabel as nib\n",
    "import os"
   ]
  },
  {
   "cell_type": "code",
   "execution_count": 103,
   "id": "9b5bf722-e106-41b0-9458-74b0e0ec5a00",
   "metadata": {},
   "outputs": [],
   "source": [
    "numbers = [1, 2, 3, 5, 8, 10, 13, 15, 19, 20, 21, 22, 31, 32, 33, 34, 36, 37, 38, 39]\n",
    "dest = r'N:\\2_Analysis\\automated_analysis\\00_2D_UNET_FRAMEWORK\\Binary\\Spleen Segmentation\\3D_NII_IMAGES\\CHAOS_SPLEEN_MR\\T1DUAL\\Mask'"
   ]
  },
  {
   "cell_type": "code",
   "execution_count": 104,
   "id": "f590b9e5-7cc5-4169-941f-b65e3898cb8d",
   "metadata": {},
   "outputs": [],
   "source": [
    "for i in numbers:\n",
    "    num = str(i)\n",
    "    first = r'D:\\CHAOS_Train_Sets (1)\\Train_Sets\\MR'\n",
    "    filepath = os.path.join(r'D:\\CHAOS_Train_Sets (1)\\Train_Sets\\MR/' + num + '\\T1DUAL\\Ground\\*.png')\n",
    "    filelist = glob.glob(filepath)\n",
    "    \n",
    "    x = np.array([np.array(Image.open(fname)) for fname in filelist])\n",
    "    x = np.moveaxis(x, 0, -1)\n",
    "    x.shape\n",
    "    \n",
    "    spleen = x\n",
    "    spleen[x != 252] = 0\n",
    "\n",
    "    spleen_ni = nib.Nifti1Image(np.flip(np.rot90(x), 1), affine = np.eye(4))\n",
    "    nib.save(spleen_ni, os.path.join(dest, num + '.nii'))"
   ]
  },
  {
   "cell_type": "code",
   "execution_count": null,
   "id": "9d4ef6c7-d7e6-4ecf-9f22-cfbd6435b3a4",
   "metadata": {},
   "outputs": [],
   "source": []
  }
 ],
 "metadata": {
  "kernelspec": {
   "display_name": "gpu",
   "language": "python",
   "name": "gpu"
  },
  "language_info": {
   "codemirror_mode": {
    "name": "ipython",
    "version": 3
   },
   "file_extension": ".py",
   "mimetype": "text/x-python",
   "name": "python",
   "nbconvert_exporter": "python",
   "pygments_lexer": "ipython3",
   "version": "3.9.7"
  }
 },
 "nbformat": 4,
 "nbformat_minor": 5
}
