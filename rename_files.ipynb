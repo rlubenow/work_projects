{
 "cells": [
  {
   "cell_type": "code",
   "execution_count": 7,
   "id": "2da34ecb-5bb2-45eb-ba45-c03a49ae8999",
   "metadata": {},
   "outputs": [],
   "source": [
    "import os"
   ]
  },
  {
   "cell_type": "code",
   "execution_count": 8,
   "id": "aedf7927-6651-4dfc-aae5-207ff33406de",
   "metadata": {},
   "outputs": [],
   "source": [
    "directory = r'N:\\2_Analysis\\automated_analysis\\Flint_SOT_EOT_volume\\nii files\\FLINT_SOT_WHOLE_LIVER_MASKS_NII'"
   ]
  },
  {
   "cell_type": "code",
   "execution_count": 9,
   "id": "517f6e33-a57a-46d4-9c53-9d57c0ae6f67",
   "metadata": {},
   "outputs": [],
   "source": [
    "for root, dirs, files in os.walk(directory):\n",
    "    for file in files:\n",
    "        os.rename(os.path.join(root, file), os.path.join(root, file[:6] + '_SOT_whole_liver.nii'))"
   ]
  },
  {
   "cell_type": "code",
   "execution_count": null,
   "id": "e0e316f7-8707-47d6-8bb3-76dcb0c9b51d",
   "metadata": {},
   "outputs": [],
   "source": []
  }
 ],
 "metadata": {
  "kernelspec": {
   "display_name": "gpu",
   "language": "python",
   "name": "gpu"
  },
  "language_info": {
   "codemirror_mode": {
    "name": "ipython",
    "version": 3
   },
   "file_extension": ".py",
   "mimetype": "text/x-python",
   "name": "python",
   "nbconvert_exporter": "python",
   "pygments_lexer": "ipython3",
   "version": "3.9.7"
  }
 },
 "nbformat": 4,
 "nbformat_minor": 5
}
