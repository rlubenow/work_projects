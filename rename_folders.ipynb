{
 "cells": [
  {
   "cell_type": "code",
   "execution_count": 10,
   "id": "5425d29c-4cf9-46ed-ba10-e00eb6241dac",
   "metadata": {},
   "outputs": [],
   "source": [
    "import os\n",
    "import pydicom\n",
    "import pandas as pd\n",
    "import numpy as np"
   ]
  },
  {
   "cell_type": "code",
   "execution_count": 11,
   "id": "33ef0de4-b194-483b-af15-abd3800e6093",
   "metadata": {},
   "outputs": [
    {
     "name": "stdout",
     "output_type": "stream",
     "text": [
      "N:\\1_Databases\\_Research\\DOD AMRI\\7. Images\\Ultrasounds\n"
     ]
    }
   ],
   "source": [
    "study_folder = r'N:\\1_Databases\\_Research\\DOD AMRI\\7. Images\\Ultrasounds'\n",
    "print(study_folder)"
   ]
  },
  {
   "cell_type": "code",
   "execution_count": 12,
   "id": "c6be3b61-6106-4942-9d87-da44c74d74b3",
   "metadata": {},
   "outputs": [],
   "source": [
    "def get_all_paths(study_folder):\n",
    "    paths=[]\n",
    "    for path in os.listdir(study_folder):\n",
    "        rpath = os.path.join(study_folder, path)\n",
    "        paths.append(rpath)\n",
    "    return paths"
   ]
  },
  {
   "cell_type": "code",
   "execution_count": 13,
   "id": "1c6e0aeb-735f-4332-b27a-f0c15b4785f7",
   "metadata": {},
   "outputs": [
    {
     "name": "stdout",
     "output_type": "stream",
     "text": [
      "81\n",
      "N:\\1_Databases\\_Research\\DOD AMRI\\7. Images\\Ultrasounds\\DOD-001\n"
     ]
    }
   ],
   "source": [
    "all_paths = get_all_paths(study_folder)\n",
    "print(len(all_paths))\n",
    "print(all_paths[0])"
   ]
  },
  {
   "cell_type": "code",
   "execution_count": 14,
   "id": "fd70f3d0-187b-47d5-b341-fb3e274e3a22",
   "metadata": {},
   "outputs": [
    {
     "name": "stdout",
     "output_type": "stream",
     "text": [
      "DOD-001\n"
     ]
    }
   ],
   "source": [
    "t1 = get_all_paths(all_paths[0])\n",
    "t2 = get_all_paths(t1[0])\n",
    "t3 = get_all_paths(t2[0])\n",
    "dcom = t3[0]\n",
    "\n",
    "ds = pydicom.filereader.dcmread(dcom)\n",
    "patient_ID = ds.PatientID\n",
    "print(patient_ID)"
   ]
  },
  {
   "cell_type": "code",
   "execution_count": 15,
   "id": "38cc0758-4d8a-4ebd-8902-d5177f8437a3",
   "metadata": {},
   "outputs": [],
   "source": [
    "def get_id_from_dcm(path):\n",
    "    \n",
    "    t1 = get_all_paths(path)\n",
    "    t2 = get_all_paths(t1[0])\n",
    "    t3 = get_all_paths(t2[0])\n",
    "    dcom = t3[0]\n",
    "\n",
    "    ds = pydicom.filereader.dcmread(dcom)\n",
    "    patient_ID = ds.PatientID\n",
    "\n",
    "    return patient_ID"
   ]
  },
  {
   "cell_type": "code",
   "execution_count": 16,
   "id": "c4819ce2-d755-4bb1-a2c4-936a213f247c",
   "metadata": {},
   "outputs": [
    {
     "name": "stdout",
     "output_type": "stream",
     "text": [
      "DOD-002\n",
      "N:\\1_Databases\\_Research\\DOD AMRI\\7. Images\\Ultrasounds\\DOD-002\n"
     ]
    }
   ],
   "source": [
    "# TEST TO SEE IF IT ACTUALLY WORKS\n",
    "\n",
    "set = 1\n",
    "\n",
    "print(get_id_from_dcm(all_paths[set]))\n",
    "print(all_paths[set])"
   ]
  },
  {
   "cell_type": "code",
   "execution_count": null,
   "id": "476df0a9-cbaa-4181-8d67-241934f11c91",
   "metadata": {},
   "outputs": [],
   "source": [
    "for path in all_paths:\n",
    "    patient_ID = get_id_from_dcm(path)\n",
    "    new_name = patient_ID\n",
    "    os.rename(path, r'N:\\1_Databases\\_Research\\DOD AMRI\\7. Images\\Ultrasounds/' + new_name + '_ultrasound')"
   ]
  },
  {
   "cell_type": "code",
   "execution_count": null,
   "id": "622da5a3-5bed-4e97-824c-b36945570043",
   "metadata": {},
   "outputs": [],
   "source": []
  }
 ],
 "metadata": {
  "kernelspec": {
   "display_name": "gpu",
   "language": "python",
   "name": "gpu"
  },
  "language_info": {
   "codemirror_mode": {
    "name": "ipython",
    "version": 3
   },
   "file_extension": ".py",
   "mimetype": "text/x-python",
   "name": "python",
   "nbconvert_exporter": "python",
   "pygments_lexer": "ipython3",
   "version": "3.9.7"
  }
 },
 "nbformat": 4,
 "nbformat_minor": 5
}
