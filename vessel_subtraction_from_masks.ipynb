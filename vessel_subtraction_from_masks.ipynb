{
 "cells": [
  {
   "cell_type": "code",
   "execution_count": 1,
   "id": "1b6a5ef0-811d-4a86-b5f0-8277b663482b",
   "metadata": {},
   "outputs": [],
   "source": [
    "import os, glob\n",
    "import nibabel as nib\n",
    "import numpy as np\n",
    "import matplotlib.pyplot as plt\n",
    "import cv2"
   ]
  },
  {
   "cell_type": "code",
   "execution_count": 2,
   "id": "2f466628-b03b-4e61-8c28-604fd534d255",
   "metadata": {},
   "outputs": [
    {
     "name": "stdout",
     "output_type": "stream",
     "text": [
      "WARNING:tensorflow:From C:\\Users\\tdelg\\AppData\\Local\\Temp/ipykernel_40404/3053053118.py:4: is_gpu_available (from tensorflow.python.framework.test_util) is deprecated and will be removed in a future version.\n",
      "Instructions for updating:\n",
      "Use `tf.config.list_physical_devices('GPU')` instead.\n",
      "True\n",
      "------------------------------\n",
      "/device:GPU:0\n",
      "------------------------------\n",
      "[PhysicalDevice(name='/physical_device:GPU:0', device_type='GPU')]\n",
      "------------------------------\n",
      "[name: \"/device:CPU:0\"\n",
      "device_type: \"CPU\"\n",
      "memory_limit: 268435456\n",
      "locality {\n",
      "}\n",
      "incarnation: 6593605547789184683\n",
      "xla_global_id: -1\n",
      ", name: \"/device:GPU:0\"\n",
      "device_type: \"GPU\"\n",
      "memory_limit: 10317004800\n",
      "locality {\n",
      "  bus_id: 1\n",
      "  links {\n",
      "  }\n",
      "}\n",
      "incarnation: 10918168492399093519\n",
      "physical_device_desc: \"device: 0, name: NVIDIA TITAN V, pci bus id: 0000:01:00.0, compute capability: 7.0\"\n",
      "xla_global_id: 416903419\n",
      "]\n"
     ]
    }
   ],
   "source": [
    "import tensorflow as tf\n",
    "from tensorflow.python.client import device_lib\n",
    "\n",
    "print(tf.test.is_gpu_available())\n",
    "print('-'*30)\n",
    "print(tf.test.gpu_device_name())\n",
    "print('-'*30)\n",
    "print(tf.config.list_physical_devices('GPU'))\n",
    "print('-'*30)\n",
    "print(device_lib.list_local_devices())"
   ]
  },
  {
   "cell_type": "code",
   "execution_count": 3,
   "id": "d9486fb9-d339-492f-afca-c22e389febdc",
   "metadata": {},
   "outputs": [
    {
     "name": "stdout",
     "output_type": "stream",
     "text": [
      "N:\\2_Analysis\\automated_analysis\\cynch_segmentations\\segseg_subtract_vessel_mb-reviewed\n",
      "N:\\2_Analysis\\automated_analysis\\cynch_segmentations\\vessel_segmentation_summer2021_ALL\n",
      "N:\\2_Analysis\\automated_analysis\\flint_segmentations\\segseg_subtract_vessel_masks/\n"
     ]
    }
   ],
   "source": [
    "segseg_path = r'N:\\2_Analysis\\automated_analysis\\cynch_segmentations\\segseg_subtract_vessel_mb-reviewed'\n",
    "vessel_path = r'N:\\2_Analysis\\automated_analysis\\cynch_segmentations\\vessel_segmentation_summer2021_ALL'\n",
    "\n",
    "output_dir = r'N:\\2_Analysis\\automated_analysis\\flint_segmentations\\segseg_subtract_vessel_masks/'\n",
    "\n",
    "print(segseg_path)\n",
    "print(vessel_path)\n",
    "print(output_dir)"
   ]
  },
  {
   "cell_type": "code",
   "execution_count": 4,
   "id": "4d8d50ab-de6d-405e-945a-4a1b27ad9b36",
   "metadata": {},
   "outputs": [],
   "source": [
    "def get_all_paths(study_folder):\n",
    "    paths=[]\n",
    "    for path in os.listdir(study_folder):\n",
    "        rpath = os.path.join(study_folder, path)\n",
    "        paths.append(rpath)\n",
    "    return paths"
   ]
  },
  {
   "cell_type": "code",
   "execution_count": 5,
   "id": "aee3df48-f5cc-403f-a0ca-c42b6a69cac3",
   "metadata": {},
   "outputs": [
    {
     "ename": "FileNotFoundError",
     "evalue": "[WinError 3] The system cannot find the path specified: 'N:\\\\2_Analysis\\\\automated_analysis\\\\cynch_segmentations\\\\vessel_segmentation_summer2021_ALL'",
     "output_type": "error",
     "traceback": [
      "\u001b[1;31m---------------------------------------------------------------------------\u001b[0m",
      "\u001b[1;31mFileNotFoundError\u001b[0m                         Traceback (most recent call last)",
      "\u001b[1;32m~\\AppData\\Local\\Temp/ipykernel_40404/758002979.py\u001b[0m in \u001b[0;36m<module>\u001b[1;34m\u001b[0m\n\u001b[0;32m      1\u001b[0m \u001b[0msegseg_paths\u001b[0m \u001b[1;33m=\u001b[0m \u001b[0mget_all_paths\u001b[0m\u001b[1;33m(\u001b[0m\u001b[0msegseg_path\u001b[0m\u001b[1;33m)\u001b[0m\u001b[1;33m\u001b[0m\u001b[1;33m\u001b[0m\u001b[0m\n\u001b[1;32m----> 2\u001b[1;33m \u001b[0mvessel_paths\u001b[0m \u001b[1;33m=\u001b[0m \u001b[0mget_all_paths\u001b[0m\u001b[1;33m(\u001b[0m\u001b[0mvessel_path\u001b[0m\u001b[1;33m)\u001b[0m\u001b[1;33m\u001b[0m\u001b[1;33m\u001b[0m\u001b[0m\n\u001b[0m\u001b[0;32m      3\u001b[0m \u001b[1;33m\u001b[0m\u001b[0m\n\u001b[0;32m      4\u001b[0m \u001b[0mprint\u001b[0m\u001b[1;33m(\u001b[0m\u001b[0mlen\u001b[0m\u001b[1;33m(\u001b[0m\u001b[0msegseg_paths\u001b[0m\u001b[1;33m)\u001b[0m\u001b[1;33m)\u001b[0m\u001b[1;33m\u001b[0m\u001b[1;33m\u001b[0m\u001b[0m\n\u001b[0;32m      5\u001b[0m \u001b[0mprint\u001b[0m\u001b[1;33m(\u001b[0m\u001b[0mlen\u001b[0m\u001b[1;33m(\u001b[0m\u001b[0mvessel_paths\u001b[0m\u001b[1;33m)\u001b[0m\u001b[1;33m)\u001b[0m\u001b[1;33m\u001b[0m\u001b[1;33m\u001b[0m\u001b[0m\n",
      "\u001b[1;32m~\\AppData\\Local\\Temp/ipykernel_40404/480370694.py\u001b[0m in \u001b[0;36mget_all_paths\u001b[1;34m(study_folder)\u001b[0m\n\u001b[0;32m      1\u001b[0m \u001b[1;32mdef\u001b[0m \u001b[0mget_all_paths\u001b[0m\u001b[1;33m(\u001b[0m\u001b[0mstudy_folder\u001b[0m\u001b[1;33m)\u001b[0m\u001b[1;33m:\u001b[0m\u001b[1;33m\u001b[0m\u001b[1;33m\u001b[0m\u001b[0m\n\u001b[0;32m      2\u001b[0m     \u001b[0mpaths\u001b[0m\u001b[1;33m=\u001b[0m\u001b[1;33m[\u001b[0m\u001b[1;33m]\u001b[0m\u001b[1;33m\u001b[0m\u001b[1;33m\u001b[0m\u001b[0m\n\u001b[1;32m----> 3\u001b[1;33m     \u001b[1;32mfor\u001b[0m \u001b[0mpath\u001b[0m \u001b[1;32min\u001b[0m \u001b[0mos\u001b[0m\u001b[1;33m.\u001b[0m\u001b[0mlistdir\u001b[0m\u001b[1;33m(\u001b[0m\u001b[0mstudy_folder\u001b[0m\u001b[1;33m)\u001b[0m\u001b[1;33m:\u001b[0m\u001b[1;33m\u001b[0m\u001b[1;33m\u001b[0m\u001b[0m\n\u001b[0m\u001b[0;32m      4\u001b[0m         \u001b[0mrpath\u001b[0m \u001b[1;33m=\u001b[0m \u001b[0mos\u001b[0m\u001b[1;33m.\u001b[0m\u001b[0mpath\u001b[0m\u001b[1;33m.\u001b[0m\u001b[0mjoin\u001b[0m\u001b[1;33m(\u001b[0m\u001b[0mstudy_folder\u001b[0m\u001b[1;33m,\u001b[0m \u001b[0mpath\u001b[0m\u001b[1;33m)\u001b[0m\u001b[1;33m\u001b[0m\u001b[1;33m\u001b[0m\u001b[0m\n\u001b[0;32m      5\u001b[0m         \u001b[0mpaths\u001b[0m\u001b[1;33m.\u001b[0m\u001b[0mappend\u001b[0m\u001b[1;33m(\u001b[0m\u001b[0mrpath\u001b[0m\u001b[1;33m)\u001b[0m\u001b[1;33m\u001b[0m\u001b[1;33m\u001b[0m\u001b[0m\n",
      "\u001b[1;31mFileNotFoundError\u001b[0m: [WinError 3] The system cannot find the path specified: 'N:\\\\2_Analysis\\\\automated_analysis\\\\cynch_segmentations\\\\vessel_segmentation_summer2021_ALL'"
     ]
    }
   ],
   "source": [
    "segseg_paths = get_all_paths(segseg_path)\n",
    "vessel_paths = get_all_paths(vessel_path)\n",
    "\n",
    "print(len(segseg_paths))\n",
    "print(len(vessel_paths))\n",
    "\n",
    "print(segseg_paths[5])\n",
    "print(vessel_paths[5])"
   ]
  },
  {
   "cell_type": "code",
   "execution_count": 6,
   "id": "b58b2673-ee41-4751-a384-36f66f6970c9",
   "metadata": {},
   "outputs": [
    {
     "name": "stdout",
     "output_type": "stream",
     "text": [
      "N:\\2_Analysis\\automated_analysis\\cynch_segmentations\\segmental_segmentations\\caudate_edits\\c_1459_edited.nii\n"
     ]
    },
    {
     "data": {
      "image/png": "[encoded data removed]",
      "text/plain": [
       "<Figure size 432x288 with 1 Axes>"
      ]
     },
     "metadata": {
      "needs_background": "light"
     },
     "output_type": "display_data"
    },
    {
     "data": {
      "text/plain": [
       "(224, 224, 23)"
      ]
     },
     "execution_count": 6,
     "metadata": {},
     "output_type": "execute_result"
    }
   ],
   "source": [
    "print(segseg_paths[5])\n",
    "seg_ni = nib.load(segseg_paths[5])\n",
    "seg = seg_ni.get_fdata()\n",
    "seg = np.flip(np.rot90(seg), 1)\n",
    "\n",
    "plt.imshow(seg[:,:,15], cmap='gray')\n",
    "plt.show()\n",
    "\n",
    "seg.shape"
   ]
  },
  {
   "cell_type": "code",
   "execution_count": 7,
   "id": "24987756-4330-4d83-a744-2baaf63d1dd6",
   "metadata": {},
   "outputs": [
    {
     "name": "stdout",
     "output_type": "stream",
     "text": [
      "N:\\2_Analysis\\automated_analysis\\cynch_segmentations\\vessel_segmentation_summer2021_ALL\\c_1459.nii.gz\n"
     ]
    },
    {
     "data": {
      "image/png": "[encoded data removed]",
      "text/plain": [
       "<Figure size 432x288 with 1 Axes>"
      ]
     },
     "metadata": {
      "needs_background": "light"
     },
     "output_type": "display_data"
    },
    {
     "data": {
      "text/plain": [
       "6.0"
      ]
     },
     "execution_count": 7,
     "metadata": {},
     "output_type": "execute_result"
    }
   ],
   "source": [
    "print(vessel_paths[5])\n",
    "vessel_ni = nib.load(vessel_paths[5])\n",
    "vessel = vessel_ni.get_fdata()\n",
    "vessel = np.flip(np.rot90(vessel), 1)\n",
    "\n",
    "plt.imshow(vessel[:,:,15], cmap='gray')\n",
    "plt.show()\n",
    "\n",
    "vessel.max()"
   ]
  },
  {
   "cell_type": "code",
   "execution_count": 9,
   "id": "ca53ee43-3a88-4401-af37-e0858ed20193",
   "metadata": {},
   "outputs": [
    {
     "data": {
      "image/png": "[encoded data removed]",
      "text/plain": [
       "<Figure size 432x288 with 1 Axes>"
      ]
     },
     "metadata": {
      "needs_background": "light"
     },
     "output_type": "display_data"
    },
    {
     "data": {
      "text/plain": [
       "(224, 224, 23)"
      ]
     },
     "execution_count": 9,
     "metadata": {},
     "output_type": "execute_result"
    }
   ],
   "source": [
    "seg_sub = seg\n",
    "seg_sub[vessel != 0] = 0\n",
    "\n",
    "plt.imshow(seg_sub[:,:,15], cmap='gray')\n",
    "plt.show()\n",
    "\n",
    "seg_sub.shape"
   ]
  },
  {
   "cell_type": "code",
   "execution_count": 34,
   "id": "092ef703-ecba-499e-a5af-618fcdf4fcad",
   "metadata": {},
   "outputs": [
    {
     "name": "stdout",
     "output_type": "stream",
     "text": [
      "N:\\2_Analysis\\automated_analysis\\cynch_segmentations\\segmental_segmentations\\caudate_edits\\c_1370_edited.nii\n",
      "N:\\2_Analysis\\automated_analysis\\cynch_segmentations\\vessel_segmentation_summer2021_ALL\\c_1370.nii.gz\n"
     ]
    }
   ],
   "source": [
    "test_seg = segseg_paths[:5]\n",
    "test_vessel = vessel_paths[:5]\n",
    "\n",
    "print(test_seg[2])\n",
    "print(test_vessel[2])"
   ]
  },
  {
   "cell_type": "code",
   "execution_count": 35,
   "id": "b25bccb4-275c-4bd3-9a56-320484c7b15d",
   "metadata": {},
   "outputs": [
    {
     "name": "stdout",
     "output_type": "stream",
     "text": [
      "c_1309\n",
      "c_1326\n",
      "c_1370\n",
      "c_1445\n",
      "c_1453\n"
     ]
    }
   ],
   "source": [
    "for i in enumerate(test_seg):\n",
    "    name = i[1][91:]\n",
    "    name = name[:6]\n",
    "    print(name)"
   ]
  },
  {
   "cell_type": "code",
   "execution_count": 37,
   "id": "945efa84-237f-4438-b3bb-e205b6d295d9",
   "metadata": {},
   "outputs": [],
   "source": [
    "def subtract_vessels(segseg_path, vessel_path):\n",
    "    for i in enumerate(segseg_path):\n",
    "        num = int(i[0])\n",
    "        \n",
    "        name = i[1][91:]\n",
    "        name = name[:6]\n",
    "    \n",
    "        seg_ni = nib.load(segseg_path[num])\n",
    "        seg = seg_ni.get_fdata()\n",
    "        seg = np.flip(np.rot90(seg), 1)\n",
    "    \n",
    "        vessel_ni = nib.load(vessel_path[num])\n",
    "        vessel = vessel_ni.get_fdata()\n",
    "        vessel = np.flip(np.rot90(vessel), 1)\n",
    "    \n",
    "        seg_sub = seg\n",
    "        seg_sub[vessel != 0] = 0\n",
    "        \n",
    "        seg_vessel_ni = nib.Nifti1Image(np.flip(np.rot90(seg_sub,3),0), vessel_ni.affine)\n",
    "    \n",
    "        nib.save(seg_vessel_ni, output_dir + name + '.nii')"
   ]
  },
  {
   "cell_type": "code",
   "execution_count": 13,
   "id": "cdefdd87-b960-483a-b9fc-4873f7dcffb5",
   "metadata": {},
   "outputs": [],
   "source": [
    "subtract_vessels(segseg_paths, vessel_paths)"
   ]
  },
  {
   "cell_type": "code",
   "execution_count": null,
   "id": "f963c1ef-65e9-4c3d-a9ac-966bd5108855",
   "metadata": {},
   "outputs": [],
   "source": [
    "subtract_vessels)test_"
   ]
  }
 ],
 "metadata": {
  "kernelspec": {
   "display_name": "gpu",
   "language": "python",
   "name": "gpu"
  },
  "language_info": {
   "codemirror_mode": {
    "name": "ipython",
    "version": 3
   },
   "file_extension": ".py",
   "mimetype": "text/x-python",
   "name": "python",
   "nbconvert_exporter": "python",
   "pygments_lexer": "ipython3",
   "version": "3.9.7"
  }
 },
 "nbformat": 4,
 "nbformat_minor": 5
}
