{
 "cells": [
  {
   "cell_type": "code",
   "execution_count": 1,
   "id": "00a5021d",
   "metadata": {},
   "outputs": [],
   "source": [
    "import os\n",
    "import numpy as np\n",
    "import matplotlib.pyplot as plt\n",
    "import nibabel as nib\n",
    "import pandas as pd"
   ]
  },
  {
   "cell_type": "code",
   "execution_count": 2,
   "id": "5b5f03ba",
   "metadata": {},
   "outputs": [
    {
     "name": "stdout",
     "output_type": "stream",
     "text": [
      "81\n",
      "81\n",
      "[]\n"
     ]
    }
   ],
   "source": [
    "mag_dir = r'N:\\2_Analysis\\automated_analysis\\Flint_SOT_EOT_volume\\nii files\\FLINT_EOT_NII_CORRECTED_AFFINE'\n",
    "seg_dir = r'N:\\2_Analysis\\automated_analysis\\Flint_SOT_EOT_volume\\nii files\\FLINT_EOT_WHOLE_LIVER_MASKS_NII\\corrected'\n",
    "\n",
    "mag_paths = []\n",
    "seg_paths = []\n",
    "\n",
    "for root, dirs, files in os.walk(mag_dir):\n",
    "    for file in files:\n",
    "        if file.endswith('.nii') and not file.startswith('f_5478'):\n",
    "            mag_paths.append(file[:6])\n",
    "            \n",
    "for root, dirs, files in os.walk(seg_dir):\n",
    "    for file in files:\n",
    "        if file.endswith('.nii'):\n",
    "            seg_paths.append(os.path.join(file[:6]))\n",
    "            \n",
    "mag_paths = sorted(mag_paths)\n",
    "seg_paths = sorted(seg_paths)\n",
    "\n",
    "print(len(mag_paths)), print(len(seg_paths))\n",
    "\n",
    "missing = sorted(list(set(mag_paths) - set(seg_paths)))\n",
    "print(missing)"
   ]
  },
  {
   "cell_type": "code",
   "execution_count": 3,
   "id": "339b5180",
   "metadata": {},
   "outputs": [],
   "source": [
    "columns = {'Patient ID': [], 'liver_volume': [], 'N_voxels': [], 'pixel_spacing x': [], 'pixel_spacing y': [], 'slice_spacing': []}\n",
    "\n",
    "for i in mag_paths:\n",
    "    mag_ni = nib.load(os.path.join(mag_dir, i + '_EOT.nii'))\n",
    "    seg = nib.load(os.path.join(seg_dir, i + '_EOT_whole_liver.nii')).get_fdata()\n",
    "    \n",
    "    voxel_dimensions = (mag_ni.affine[0,0],mag_ni.affine[1,1],mag_ni.affine[2,2])\n",
    "    voxel_volume = voxel_dimensions[0] * voxel_dimensions[1] * voxel_dimensions[2]\n",
    "    \n",
    "    patient_id = i\n",
    "    liv_vol = str(round((seg.sum() * voxel_volume) / 1000, 1))\n",
    "    n_voxels = seg.sum()\n",
    "    ps_x, ps_y, ps_z = mag_ni.affine[0,0], mag_ni.affine[1,1], mag_ni.affine[2,2]\n",
    "    \n",
    "    columns['Patient ID'].append(patient_id)\n",
    "    columns['liver_volume'].append(liv_vol)\n",
    "    columns['N_voxels'].append(n_voxels)\n",
    "    columns['pixel_spacing x'].append(ps_x)\n",
    "    columns['pixel_spacing y'].append(ps_y)\n",
    "    columns['slice_spacing'].append(ps_z)"
   ]
  },
  {
   "cell_type": "code",
   "execution_count": 4,
   "id": "d5367ae7",
   "metadata": {},
   "outputs": [
    {
     "data": {
      "text/plain": [
       "(81, 6)"
      ]
     },
     "execution_count": 4,
     "metadata": {},
     "output_type": "execute_result"
    }
   ],
   "source": [
    "df = pd.DataFrame(columns)\n",
    "df.shape"
   ]
  },
  {
   "cell_type": "code",
   "execution_count": 5,
   "id": "5929acb6",
   "metadata": {},
   "outputs": [],
   "source": [
    "df.to_excel(os.path.join(r'N:\\2_Analysis\\automated_analysis\\Flint_SOT_EOT_volume',\n",
    "                         'Flint_EOT_Volume.xlsx'), index = False, header = True)"
   ]
  },
  {
   "cell_type": "code",
   "execution_count": null,
   "id": "edae1c1c-d190-4a35-85c9-482a82b626cf",
   "metadata": {},
   "outputs": [],
   "source": []
  }
 ],
 "metadata": {
  "kernelspec": {
   "display_name": "Python 3 (ipykernel)",
   "language": "python",
   "name": "python3"
  },
  "language_info": {
   "codemirror_mode": {
    "name": "ipython",
    "version": 3
   },
   "file_extension": ".py",
   "mimetype": "text/x-python",
   "name": "python",
   "nbconvert_exporter": "python",
   "pygments_lexer": "ipython3",
   "version": "3.9.7"
  }
 },
 "nbformat": 4,
 "nbformat_minor": 5
}
