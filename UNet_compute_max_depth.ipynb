{
 "cells": [
  {
   "cell_type": "code",
   "execution_count": 3,
   "metadata": {},
   "outputs": [
    {
     "name": "stdout",
     "output_type": "stream",
     "text": [
      "Level 1: 256.0\n",
      "Level 2: 128.0\n",
      "Level 3: 64.0\n",
      "Level 4: 32.0\n",
      "Level 5: 16.0\n",
      "Level 6: 8.0\n",
      "Level 7: 4.0\n",
      "Max-level: 7\n"
     ]
    }
   ],
   "source": [
    "# Compute the maximum suggested depth of a U-Net to ensure correct semantic concatenations. \n",
    "\n",
    "shape = 256 #change to shape x shape \n",
    "\n",
    "\n",
    "def compute_max_depth(shape, max_depth=10, print_out=True):\n",
    "    shapes = []\n",
    "    shapes.append(shape)\n",
    "    for level in range(1, max_depth):\n",
    "        if shape % 2 ** level == 0 and shape / 2 ** level > 1:\n",
    "            shapes.append(shape / 2 ** level)\n",
    "            if print_out:\n",
    "                print(f'Level {level}: {2 * shape / 2 ** level}')\n",
    "                #print(f'Level {level}: {shape / 2 ** level}') original\n",
    "        else:\n",
    "            if print_out:\n",
    "                print(f'Max-level: {level - 1}')\n",
    "            break\n",
    "\n",
    "    return shapes\n",
    "\n",
    "\n",
    "out = compute_max_depth(shape, print_out=True, max_depth=10)"
   ]
  },
  {
   "cell_type": "code",
   "execution_count": 6,
   "metadata": {},
   "outputs": [],
   "source": [
    "# Compute the different input shapes for a given number of layers\n",
    "\n",
    "low = 1     # Lowest dimension shape (low x low)\n",
    "high = 256   # Highest dimension shape (high x high)\n",
    "depth = 7    # Number of layers you want\n",
    "\n",
    "\n",
    "def compute_possible_shapes(low, high, depth):\n",
    "    possible_shapes = {}\n",
    "    for shape in range(low, high + 1):\n",
    "        shapes = compute_max_depth(shape,\n",
    "                                   max_depth=depth,\n",
    "                                   print_out=False)\n",
    "        if len(shapes) == depth:\n",
    "            possible_shapes[shape] = shapes\n",
    "\n",
    "    return possible_shapes\n",
    "\n",
    "possible_shapes = compute_possible_shapes(low, high, depth)"
   ]
  },
  {
   "cell_type": "code",
   "execution_count": 7,
   "metadata": {},
   "outputs": [
    {
     "data": {
      "text/plain": [
       "{128: [128, 64.0, 32.0, 16.0, 8.0, 4.0, 2.0],\n",
       " 192: [192, 96.0, 48.0, 24.0, 12.0, 6.0, 3.0],\n",
       " 256: [256, 128.0, 64.0, 32.0, 16.0, 8.0, 4.0]}"
      ]
     },
     "execution_count": 7,
     "metadata": {},
     "output_type": "execute_result"
    }
   ],
   "source": [
    "possible_shapes"
   ]
  },
  {
   "cell_type": "code",
   "execution_count": null,
   "metadata": {},
   "outputs": [],
   "source": []
  }
 ],
 "metadata": {
  "kernelspec": {
   "display_name": "Python 3 (ipykernel)",
   "language": "python",
   "name": "python3"
  },
  "language_info": {
   "codemirror_mode": {
    "name": "ipython",
    "version": 3
   },
   "file_extension": ".py",
   "mimetype": "text/x-python",
   "name": "python",
   "nbconvert_exporter": "python",
   "pygments_lexer": "ipython3",
   "version": "3.9.7"
  }
 },
 "nbformat": 4,
 "nbformat_minor": 4
}
