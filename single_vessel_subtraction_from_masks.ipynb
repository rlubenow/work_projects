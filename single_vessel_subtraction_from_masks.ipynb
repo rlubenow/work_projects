{
 "cells": [
  {
   "cell_type": "code",
   "execution_count": 1,
   "id": "1b6a5ef0-811d-4a86-b5f0-8277b663482b",
   "metadata": {},
   "outputs": [],
   "source": [
    "import os, glob\n",
    "import nibabel as nib\n",
    "import numpy as np\n",
    "import matplotlib.pyplot as plt\n",
    "import cv2"
   ]
  },
  {
   "cell_type": "code",
   "execution_count": 2,
   "id": "2f466628-b03b-4e61-8c28-604fd534d255",
   "metadata": {},
   "outputs": [
    {
     "name": "stdout",
     "output_type": "stream",
     "text": [
      "WARNING:tensorflow:From C:\\Users\\tdelg\\AppData\\Local\\Temp/ipykernel_9616/3053053118.py:4: is_gpu_available (from tensorflow.python.framework.test_util) is deprecated and will be removed in a future version.\n",
      "Instructions for updating:\n",
      "Use `tf.config.list_physical_devices('GPU')` instead.\n",
      "True\n",
      "------------------------------\n",
      "/device:GPU:0\n",
      "------------------------------\n",
      "[PhysicalDevice(name='/physical_device:GPU:0', device_type='GPU')]\n",
      "------------------------------\n",
      "[name: \"/device:CPU:0\"\n",
      "device_type: \"CPU\"\n",
      "memory_limit: 268435456\n",
      "locality {\n",
      "}\n",
      "incarnation: 5890266573551623371\n",
      "xla_global_id: -1\n",
      ", name: \"/device:GPU:0\"\n",
      "device_type: \"GPU\"\n",
      "memory_limit: 9963843584\n",
      "locality {\n",
      "  bus_id: 1\n",
      "  links {\n",
      "  }\n",
      "}\n",
      "incarnation: 3645701728387507878\n",
      "physical_device_desc: \"device: 0, name: NVIDIA TITAN V, pci bus id: 0000:01:00.0, compute capability: 7.0\"\n",
      "xla_global_id: 416903419\n",
      "]\n"
     ]
    }
   ],
   "source": [
    "import tensorflow as tf\n",
    "from tensorflow.python.client import device_lib\n",
    "\n",
    "print(tf.test.is_gpu_available())\n",
    "print('-'*30)\n",
    "print(tf.test.gpu_device_name())\n",
    "print('-'*30)\n",
    "print(tf.config.list_physical_devices('GPU'))\n",
    "print('-'*30)\n",
    "print(device_lib.list_local_devices())"
   ]
  },
  {
   "cell_type": "code",
   "execution_count": 3,
   "id": "d9486fb9-d339-492f-afca-c22e389febdc",
   "metadata": {},
   "outputs": [
    {
     "name": "stdout",
     "output_type": "stream",
     "text": [
      "N:\\2_Analysis\\automated_analysis\\flint_segmentations\\flint_additions\\analysis masks\\original_segseg/\n",
      "N:\\2_Analysis\\automated_analysis\\flint_segmentations\\flint_additions\\analysis masks\\vessel_segmentation/\n"
     ]
    }
   ],
   "source": [
    "segseg_path = r'N:\\2_Analysis\\automated_analysis\\flint_segmentations\\flint_additions\\analysis masks\\original_segseg/'\n",
    "#vessel_path = r'N:\\2_Analysis\\automated_analysis\\flint_segmentations\\vessel_segmentations\\2 point masks -mb/'\n",
    "\n",
    "output_dir = r'N:\\2_Analysis\\automated_analysis\\flint_segmentations\\flint_additions\\analysis masks\\vessel_segmentation/'\n",
    "\n",
    "print(segseg_path)\n",
    "#print(vessel_path)\n",
    "print(output_dir)"
   ]
  },
  {
   "cell_type": "code",
   "execution_count": 4,
   "id": "622f5f95-2ae2-41ff-9ea4-bd5f29cf0303",
   "metadata": {},
   "outputs": [
    {
     "name": "stdout",
     "output_type": "stream",
     "text": [
      "N:\\2_Analysis\\automated_analysis\\flint_segmentations\\analysis_masks\\human_corrected_without_vessel_removal/f_5481_edited.nii\n",
      "N:\\2_Analysis\\automated_analysis\\flint_segmentations\\vessel_segmentations\\2 point masks -mb/f_5481-vessels-only-mb.nii.gz\n"
     ]
    }
   ],
   "source": [
    "case_id = 'f_2429'\n",
    "\n",
    "segseg_id = os.path.join(segseg_path + case_id + '_edited.nii')\n",
    "vessel_id = os.path.join(vessel_path + case_id + '-vessels-only-mb.nii.gz')\n",
    "\n",
    "print(segseg_id)\n",
    "print(vessel_id)"
   ]
  },
  {
   "cell_type": "code",
   "execution_count": 5,
   "id": "b58b2673-ee41-4751-a384-36f66f6970c9",
   "metadata": {},
   "outputs": [
    {
     "name": "stdout",
     "output_type": "stream",
     "text": [
      "N:\\2_Analysis\\automated_analysis\\flint_segmentations\\analysis_masks\\human_corrected_without_vessel_removal/f_5481_edited.nii\n"
     ]
    },
    {
     "data": {
      "image/png": "[encoded data removed]",
      "text/plain": [
       "<Figure size 432x288 with 1 Axes>"
      ]
     },
     "metadata": {
      "needs_background": "light"
     },
     "output_type": "display_data"
    },
    {
     "data": {
      "text/plain": [
       "(224, 224, 37)"
      ]
     },
     "execution_count": 5,
     "metadata": {},
     "output_type": "execute_result"
    }
   ],
   "source": [
    "print(segseg_id)\n",
    "seg_ni = nib.load(segseg_id)\n",
    "seg = seg_ni.get_fdata()\n",
    "seg = np.flip(np.rot90(seg), 1)\n",
    "\n",
    "plt.imshow(seg[:,:,15], cmap='gray')\n",
    "plt.show()\n",
    "\n",
    "seg.shape"
   ]
  },
  {
   "cell_type": "code",
   "execution_count": 6,
   "id": "24987756-4330-4d83-a744-2baaf63d1dd6",
   "metadata": {},
   "outputs": [
    {
     "name": "stdout",
     "output_type": "stream",
     "text": [
      "N:\\2_Analysis\\automated_analysis\\flint_segmentations\\vessel_segmentations\\2 point masks -mb/f_5481-vessels-only-mb.nii.gz\n"
     ]
    },
    {
     "data": {
      "image/png": "[encoded data removed]",
      "text/plain": [
       "<Figure size 432x288 with 1 Axes>"
      ]
     },
     "metadata": {
      "needs_background": "light"
     },
     "output_type": "display_data"
    },
    {
     "data": {
      "text/plain": [
       "1.0"
      ]
     },
     "execution_count": 6,
     "metadata": {},
     "output_type": "execute_result"
    }
   ],
   "source": [
    "print(vessel_id)\n",
    "vessel_ni = nib.load(vessel_id)\n",
    "vessel = vessel_ni.get_fdata()\n",
    "vessel = np.flip(np.rot90(vessel), 1)\n",
    "\n",
    "plt.imshow(vessel[:,:,15], cmap='gray')\n",
    "plt.show()\n",
    "\n",
    "vessel.max()"
   ]
  },
  {
   "cell_type": "code",
   "execution_count": 8,
   "id": "ca53ee43-3a88-4401-af37-e0858ed20193",
   "metadata": {},
   "outputs": [
    {
     "data": {
      "image/png": "[encoded data removed]",
      "text/plain": [
       "<Figure size 432x288 with 1 Axes>"
      ]
     },
     "metadata": {
      "needs_background": "light"
     },
     "output_type": "display_data"
    },
    {
     "data": {
      "text/plain": [
       "(224, 224, 37)"
      ]
     },
     "execution_count": 8,
     "metadata": {},
     "output_type": "execute_result"
    }
   ],
   "source": [
    "seg_sub = seg\n",
    "seg_sub[vessel != 0] = 0\n",
    "\n",
    "plt.imshow(seg_sub[:,:,18], cmap='gray')\n",
    "plt.show()\n",
    "\n",
    "seg_sub.shape"
   ]
  },
  {
   "cell_type": "code",
   "execution_count": 9,
   "id": "d1072208-9018-4e11-bf27-2c1e5e469258",
   "metadata": {},
   "outputs": [],
   "source": [
    "seg_vessel_ni = nib.Nifti1Image(np.flip(np.rot90(seg_sub,3),0), vessel_ni.affine)\n",
    "nib.save(seg_vessel_ni, os.path.join(output_dir + case_id))"
   ]
  },
  {
   "cell_type": "code",
   "execution_count": null,
   "id": "44aca674-2afc-42e4-a2e4-1e12d031bfe5",
   "metadata": {},
   "outputs": [],
   "source": []
  }
 ],
 "metadata": {
  "kernelspec": {
   "display_name": "gpu",
   "language": "python",
   "name": "gpu"
  },
  "language_info": {
   "codemirror_mode": {
    "name": "ipython",
    "version": 3
   },
   "file_extension": ".py",
   "mimetype": "text/x-python",
   "name": "python",
   "nbconvert_exporter": "python",
   "pygments_lexer": "ipython3",
   "version": "3.9.7"
  }
 },
 "nbformat": 4,
 "nbformat_minor": 5
}
