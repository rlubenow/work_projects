{
 "cells": [
  {
   "cell_type": "code",
   "execution_count": 5,
   "id": "62ab8565-e854-4fe9-a545-86a4e49aace9",
   "metadata": {},
   "outputs": [],
   "source": [
    "import numpy as np\n",
    "import nibabel as nib\n",
    "import os\n",
    "from keras import backend as K"
   ]
  },
  {
   "cell_type": "code",
   "execution_count": 15,
   "id": "c12a7b18-31ee-4386-a9aa-a8da93b7b51f",
   "metadata": {},
   "outputs": [],
   "source": [
    "smooth = 1 \n",
    "\n",
    "def dice_coef(y_true, y_pred):\n",
    "    y_true_f = K.flatten(y_true)\n",
    "    y_pred_f = K.flatten(y_pred)\n",
    "    intersection = K.sum(y_true_f * y_pred_f)\n",
    "    return (2. * intersection + smooth) / (K.sum(y_true_f) + K.sum(y_pred_f) + smooth)"
   ]
  },
  {
   "cell_type": "code",
   "execution_count": 32,
   "id": "939f1236-6bae-445d-87fa-50d3efc2eca7",
   "metadata": {},
   "outputs": [
    {
     "data": {
      "text/plain": [
       "(224, 224, 30)"
      ]
     },
     "execution_count": 32,
     "metadata": {},
     "output_type": "execute_result"
    }
   ],
   "source": [
    "case_id = 'c_1501.nii'\n",
    "\n",
    "lucy_path = r'N:\\2_Analysis\\automated_analysis\\lucy_segmentations\\lucy_liver_segs'\n",
    "mark_path = r'N:\\2_Analysis\\automated_analysis\\lucy_segmentations\\mark_liver_segs'\n",
    "\n",
    "lucy_ni = nib.load(os.path.join(lucy_path, case_id))\n",
    "mark_ni = nib.load(os.path.join(mark_path, case_id))\n",
    "\n",
    "lucy_seg = lucy_ni.get_fdata()\n",
    "mark_seg = mark_ni.get_fdata()\n",
    "\n",
    "lucy_seg.shape\n",
    "mark_seg.shape"
   ]
  },
  {
   "cell_type": "code",
   "execution_count": 33,
   "id": "9b9472d5-8ed2-4965-84b3-20755bdaaab3",
   "metadata": {},
   "outputs": [
    {
     "data": {
      "text/plain": [
       "<tf.Tensor: shape=(), dtype=float64, numpy=0.8198547705594117>"
      ]
     },
     "execution_count": 33,
     "metadata": {},
     "output_type": "execute_result"
    }
   ],
   "source": [
    "dice_coef(mark_seg, lucy_seg)"
   ]
  },
  {
   "cell_type": "code",
   "execution_count": null,
   "id": "7151a735-a34f-4efc-98f6-ff2775d65eca",
   "metadata": {},
   "outputs": [],
   "source": []
  },
  {
   "cell_type": "code",
   "execution_count": null,
   "id": "20e8a3b3-2f1c-4f02-a7f8-4e61723e2e91",
   "metadata": {},
   "outputs": [],
   "source": []
  }
 ],
 "metadata": {
  "kernelspec": {
   "display_name": "gpu",
   "language": "python",
   "name": "gpu"
  },
  "language_info": {
   "codemirror_mode": {
    "name": "ipython",
    "version": 3
   },
   "file_extension": ".py",
   "mimetype": "text/x-python",
   "name": "python",
   "nbconvert_exporter": "python",
   "pygments_lexer": "ipython3",
   "version": "3.9.7"
  }
 },
 "nbformat": 4,
 "nbformat_minor": 5
}
