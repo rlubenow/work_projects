{
 "cells": [
  {
   "cell_type": "code",
   "execution_count": 1,
   "id": "dc24eb56-0cd0-46c1-82ae-c9c567e5736a",
   "metadata": {},
   "outputs": [],
   "source": [
    "import os\n",
    "import numpy as np\n",
    "import matplotlib.pyplot as plt\n",
    "import pydicom\n",
    "import nibabel as nib\n",
    "\n",
    "from scipy.stats import multivariate_normal\n",
    "from skimage.exposure import equalize_hist\n",
    "from scipy.ndimage.measurements import label\n",
    "from scipy.ndimage.interpolation import zoom\n",
    "from scipy.ndimage.morphology import binary_erosion, binary_dilation\n",
    "import statsmodels.api as sm"
   ]
  },
  {
   "cell_type": "code",
   "execution_count": 2,
   "id": "40524e2f-deeb-4edb-b747-07e0502385d4",
   "metadata": {},
   "outputs": [],
   "source": [
    "def find_coords(pts, lab):\n",
    "    y,x,z = np.where(pts == lab)\n",
    "    return np.mean(y), np.mean(x), np.mean(z)\n",
    "\n",
    "\n",
    "def fit_lines(pt1,pt2):\n",
    "    x_coords = np.concatenate([[pt1[0]], [pt2[0]]])\n",
    "    y_coords = np.concatenate([[pt1[1]], [pt2[1]]])\n",
    "    \n",
    "    intercept = np.ones(len(x_coords))\n",
    "    X = np.transpose(np.stack([intercept, x_coords]))\n",
    "    Y = np.transpose(y_coords)\n",
    "\n",
    "    model = sm.OLS(Y, X).fit()\n",
    "    return model.params\n",
    "\n",
    "\n",
    "def create_hv_mask(rhv_coef, mhv_coef, lhv_coef, pts):\n",
    "    mesh = np.meshgrid(range(pts.shape[0]), range(pts.shape[1]), range(pts.shape[2]))\n",
    "    \n",
    "    rhv_line = rhv_coef[0] + mesh[0] * rhv_coef[1]\n",
    "    mhv_line = mhv_coef[0] + mesh[0] * mhv_coef[1]\n",
    "    lhv_line = lhv_coef[0] + mesh[0] * lhv_coef[1]\n",
    "    \n",
    "    if lhv_coef[1] >= 0:\n",
    "        lower = (mesh[1] >= rhv_line)*1\n",
    "        rmid = ((mesh[1] >= mhv_line) & (mesh[1] < rhv_line) & (lower == 0))*2\n",
    "        lmid = ((mesh[1] >= lhv_line) & (mesh[1] < mhv_line) & (lower == 0) & (rmid == 0))*3\n",
    "        #upper = ((mesh[1] < lhv_line)   & (lower == 0) & (rmid == 0) & (lmid == 0))  *4\n",
    "        upper = ((mesh[1] < lhv_line) & (rmid == 0) & (lmid == 0))  *4\n",
    "        lower = ((mesh[1] >= rhv_line) & (upper == 0))*1\n",
    "\n",
    "    elif lhv_coef[1] <0:\n",
    "        lower = (mesh[1] >= rhv_line)*1\n",
    "        rmid = ((mesh[1] >= mhv_line) & (mesh[1] < rhv_line) & (lower == 0))*2\n",
    "        lmid = ((mesh[1] < lhv_line) & (mesh[1] < mhv_line) & (lower == 0) & (rmid == 0))*3\n",
    "        #upper = ((mesh[1] < lhv_line)   & (lower == 0) & (rmid == 0) & (lmid == 0))  *4\n",
    "        upper = ((mesh[1] >= lhv_line) & (rmid == 0) & (lmid == 0))  *4\n",
    "        lower = ((mesh[1] >= rhv_line) & (upper == 0))*1\n",
    "        \n",
    "    \n",
    "    return lower + rmid + lmid + upper\n",
    "\n",
    "\n",
    "def create_cou_mask(pts, liv):\n",
    "\n",
    "    # find coordinates of ivc\n",
    "    ivc_y,ivc_x,ivc_z = find_coords(pts, 1)\n",
    "    # find coordinates of right hepatic vein\n",
    "    rhv_y,rhv_x,rhv_z = find_coords(pts, 2)\n",
    "    # find coordinates of middle hepatic vein\n",
    "    mhv_y,mhv_x,mhv_z = find_coords(pts, 3)\n",
    "    # find coordinates of left hepatic vein\n",
    "    lhv_y,lhv_x,lhv_z = find_coords(pts, 5)\n",
    "    \n",
    "    # find coefficients of hepatic vein dividing lines\n",
    "    rhv_coef = fit_lines( (ivc_x,ivc_y), (rhv_x, rhv_y) )\n",
    "    mhv_coef = fit_lines( (ivc_x,ivc_y), (mhv_x, mhv_y) )\n",
    "    lhv_coef = fit_lines( (ivc_x,ivc_y), (lhv_x, lhv_y) )\n",
    "    \n",
    "    # create mask for ivc to each hepatic vein\n",
    "    hv_mask = create_hv_mask(rhv_coef, mhv_coef, lhv_coef, pts)\n",
    "    \n",
    "    \n",
    "    ###############################################################################\n",
    "    # segments by portal vein\n",
    "    pv1_y,pv1_x,pv1_z = find_coords(pts, 9)\n",
    "    pv2_y,pv2_x,pv2_z = find_coords(pts, 10)\n",
    "    \n",
    "    mesh = np.meshgrid(range(pts.shape[0]), range(pts.shape[1]), range(pts.shape[2]))\n",
    "    \n",
    "    hv_mask[ (mesh[2] <= pv2_z) & (hv_mask == 1) ] = 5\n",
    "    hv_mask[ (mesh[2] <= pv2_z) & (hv_mask == 2) ] = 6\n",
    "    hv_mask[ (mesh[2] > pv1_z) & (hv_mask == 3) ] = 7\n",
    "    hv_mask[ (mesh[2] > pv1_z) & (hv_mask == 4) ] = 8\n",
    "    \n",
    "    \n",
    "    # include segment 1\n",
    "    hv_mask = (hv_mask + 1) * liv\n",
    "    hv_mask[pts == 7] = 1\n",
    "    \n",
    "    # associate labels with segments\n",
    "    cou_mask = np.zeros(hv_mask.shape)\n",
    "    cou_mask[hv_mask == 1] = 1\n",
    "    cou_mask[hv_mask == 9] = 2\n",
    "    cou_mask[hv_mask == 5] = 3\n",
    "    cou_mask[hv_mask == 8] = 4\n",
    "    cou_mask[hv_mask == 7] = 5\n",
    "    cou_mask[hv_mask == 6] = 6\n",
    "    cou_mask[hv_mask == 2] = 7\n",
    "    cou_mask[hv_mask == 3] = 8\n",
    "    cou_mask[hv_mask == 4] = 9\n",
    "    \n",
    "    return cou_mask"
   ]
  },
  {
   "cell_type": "code",
   "execution_count": 208,
   "id": "b2042be1-8c3f-4006-863a-02a15bed60ef",
   "metadata": {},
   "outputs": [
    {
     "data": {
      "text/plain": [
       "((224, 224, 25), (224, 224, 25))"
      ]
     },
     "execution_count": 208,
     "metadata": {},
     "output_type": "execute_result"
    }
   ],
   "source": [
    "case_id = 'f_2429.nii'\n",
    "\n",
    "whole_seg_path = r'N:\\2_Analysis\\automated_analysis\\flint_segmentations\\flint_additions\\whole_liver_seg/'\n",
    "twopt_path = r'N:\\2_Analysis\\automated_analysis\\flint_segmentations\\flint_additions\\2-point annotations/'\n",
    "\n",
    "liv_ni = nib.load(os.path.join(whole_seg_path, case_id))\n",
    "twopt_ni = nib.load(os.path.join(twopt_path, case_id + '.gz'))\n",
    "\n",
    "liv_whole = liv_ni.get_fdata()\n",
    "two_pt = twopt_ni.get_fdata()\n",
    "\n",
    "liv_whole.shape, two_pt.shape"
   ]
  },
  {
   "cell_type": "code",
   "execution_count": 209,
   "id": "a2018611-1bec-48b2-a8a8-4f46c08046d3",
   "metadata": {},
   "outputs": [
    {
     "data": {
      "text/plain": [
       "list"
      ]
     },
     "execution_count": 209,
     "metadata": {},
     "output_type": "execute_result"
    }
   ],
   "source": [
    "mesh = np.meshgrid(two_pt.shape[0], two_pt.shape[1], two_pt.shape[2])\n",
    "type(mesh)"
   ]
  },
  {
   "cell_type": "code",
   "execution_count": 210,
   "id": "6f229435-8fc2-44af-98e3-99e13152e59b",
   "metadata": {},
   "outputs": [
    {
     "name": "stdout",
     "output_type": "stream",
     "text": [
      "123.0 108.0 15.0\n",
      "135.0 109.0 15.0\n",
      "137.0 124.0 15.0\n",
      "137.0 145.0 11.0\n"
     ]
    }
   ],
   "source": [
    "# find coordinates of ivc\n",
    "ivc_y,ivc_x,ivc_z = find_coords(two_pt, 1)\n",
    "# find coordinates of right hepatic vein\n",
    "rhv_y,rhv_x,rhv_z = find_coords(two_pt, 2)\n",
    "# find coordinates of middle hepatic vein\n",
    "mhv_y,mhv_x,mhv_z = find_coords(two_pt, 3)\n",
    "# find coordinates of left hepatic vein\n",
    "lhv_y,lhv_x,lhv_z = find_coords(two_pt, 5)\n",
    "\n",
    "print(ivc_y,ivc_x,ivc_z)\n",
    "print(rhv_y,rhv_x,rhv_z)\n",
    "print(mhv_y,mhv_x,mhv_z)\n",
    "print(lhv_y,lhv_x,lhv_z)"
   ]
  },
  {
   "cell_type": "code",
   "execution_count": 211,
   "id": "28365520-ba69-4f05-9364-70cc8b8539a5",
   "metadata": {},
   "outputs": [
    {
     "name": "stdout",
     "output_type": "stream",
     "text": [
      "[-1173.    12.]\n",
      "[28.5    0.875]\n",
      "[82.13513514  0.37837838]\n"
     ]
    }
   ],
   "source": [
    "rhv_coef = fit_lines( (ivc_x,ivc_y), (rhv_x, rhv_y) )\n",
    "mhv_coef = fit_lines( (ivc_x,ivc_y), (mhv_x, mhv_y) )\n",
    "lhv_coef = fit_lines( (ivc_x,ivc_y), (lhv_x, lhv_y) )\n",
    "\n",
    "print(rhv_coef)\n",
    "print(mhv_coef)\n",
    "print(lhv_coef)"
   ]
  },
  {
   "cell_type": "code",
   "execution_count": 212,
   "id": "c105f71b-ecf9-4d86-9387-a547a5b93952",
   "metadata": {},
   "outputs": [
    {
     "data": {
      "text/plain": [
       "(224, 224, 25)"
      ]
     },
     "execution_count": 212,
     "metadata": {},
     "output_type": "execute_result"
    }
   ],
   "source": [
    "hv_mask = create_hv_mask(rhv_coef, mhv_coef, lhv_coef, two_pt)\n",
    "hv_mask.shape"
   ]
  },
  {
   "cell_type": "code",
   "execution_count": 213,
   "id": "2b7550f7-9299-4eac-aac3-129cf36eeca6",
   "metadata": {},
   "outputs": [
    {
     "data": {
      "text/plain": [
       "<function matplotlib.pyplot.show(close=None, block=None)>"
      ]
     },
     "execution_count": 213,
     "metadata": {},
     "output_type": "execute_result"
    },
    {
     "data": {
      "image/png": "[encoded data removed]",
      "text/plain": [
       "<Figure size 432x288 with 1 Axes>"
      ]
     },
     "metadata": {
      "needs_background": "light"
     },
     "output_type": "display_data"
    }
   ],
   "source": [
    "plt.imshow(hv_mask[:,:,12],cmap='gray')\n",
    "plt.show"
   ]
  },
  {
   "cell_type": "code",
   "execution_count": 214,
   "id": "725df136-6ce1-4c92-8107-027620618843",
   "metadata": {},
   "outputs": [],
   "source": [
    "cou = create_cou_mask(two_pt, liv_whole)"
   ]
  },
  {
   "cell_type": "code",
   "execution_count": 215,
   "id": "14bf0b3d-1a30-487f-a1cc-63e69601aeb2",
   "metadata": {},
   "outputs": [
    {
     "data": {
      "text/plain": [
       "<function matplotlib.pyplot.show(close=None, block=None)>"
      ]
     },
     "execution_count": 215,
     "metadata": {},
     "output_type": "execute_result"
    },
    {
     "data": {
      "image/png": "[encoded data removed]",
      "text/plain": [
       "<Figure size 432x288 with 1 Axes>"
      ]
     },
     "metadata": {
      "needs_background": "light"
     },
     "output_type": "display_data"
    }
   ],
   "source": [
    "plt.imshow(cou[:,:,12],cmap='gray')\n",
    "plt.show"
   ]
  },
  {
   "cell_type": "code",
   "execution_count": 216,
   "id": "3a7fdb1c-e5fe-4cd4-b063-5bf4995e18e3",
   "metadata": {},
   "outputs": [],
   "source": [
    "output_dir = r'N:\\2_Analysis\\automated_analysis\\flint_segmentations\\flint_additions\\segmental_seg/'\n",
    "\n",
    "cou_ni = nib.Nifti1Image(cou, liv_ni.affine)\n",
    "#hv_ni = nib.Nifti1Image(hv_mask, liv_ni.affine)\n",
    "\n",
    "nib.save(cou_ni, os.path.join(output_dir, case_id))\n",
    "#nib.save(hv_ni, 'test_hv.nii')"
   ]
  },
  {
   "cell_type": "code",
   "execution_count": null,
   "id": "4af7d3f4-a530-40f8-8844-6812366ffdc9",
   "metadata": {},
   "outputs": [],
   "source": []
  },
  {
   "cell_type": "code",
   "execution_count": null,
   "id": "253904e5-4885-4547-b66e-f489cf51a9be",
   "metadata": {},
   "outputs": [],
   "source": []
  },
  {
   "cell_type": "code",
   "execution_count": 27,
   "id": "4753b3bb-405d-4464-b195-330eada2a5de",
   "metadata": {},
   "outputs": [
    {
     "data": {
      "text/plain": [
       "((224, 224, 31), (224, 224, 31))"
      ]
     },
     "execution_count": 27,
     "metadata": {},
     "output_type": "execute_result"
    }
   ],
   "source": [
    "case_id1 = 'f_3325.nii'\n",
    "\n",
    "whole_seg_path1 = r'N:\\2_Analysis\\automated_analysis\\flint_segmentations\\flint_additions\\whole_liver_seg/'\n",
    "twopt_path1 = r'N:\\2_Analysis\\automated_analysis\\flint_segmentations\\flint_additions\\2-point annotations/'\n",
    "\n",
    "liv_ni1 = nib.load(os.path.join(whole_seg_path1, case_id1))\n",
    "twopt_ni1 = nib.load(os.path.join(twopt_path1, case_id1 + '.gz'))\n",
    "\n",
    "liv_whole1 = liv_ni1.get_fdata()\n",
    "two_pt1 = twopt_ni1.get_fdata()\n",
    "\n",
    "liv_whole1.shape, two_pt1.shape"
   ]
  },
  {
   "cell_type": "code",
   "execution_count": 28,
   "id": "52df5d44-3636-4000-807d-cf04f765dd4b",
   "metadata": {},
   "outputs": [
    {
     "name": "stdout",
     "output_type": "stream",
     "text": [
      "115.5 107.0 17.5\n",
      "130.0 108.0 22.0\n",
      "123.0 126.0 22.0\n",
      "118.0 168.0 13.0\n"
     ]
    }
   ],
   "source": [
    "# find coordinates of ivc\n",
    "ivc_y,ivc_x,ivc_z = find_coords(two_pt1, 1)\n",
    "# find coordinates of right hepatic vein\n",
    "rhv_y,rhv_x,rhv_z = find_coords(two_pt1, 2)\n",
    "# find coordinates of middle hepatic vein\n",
    "mhv_y,mhv_x,mhv_z = find_coords(two_pt1, 3)\n",
    "# find coordinates of left hepatic vein\n",
    "lhv_y,lhv_x,lhv_z = find_coords(two_pt1, 5)\n",
    "\n",
    "print(ivc_y,ivc_x,ivc_z)\n",
    "print(rhv_y,rhv_x,rhv_z)\n",
    "print(mhv_y,mhv_x,mhv_z)\n",
    "print(lhv_y,lhv_x,lhv_z)"
   ]
  },
  {
   "cell_type": "code",
   "execution_count": 29,
   "id": "cd39b9ff-82ff-4d91-ac61-b687849ea380",
   "metadata": {},
   "outputs": [
    {
     "name": "stdout",
     "output_type": "stream",
     "text": [
      "[-1436.     14.5]\n",
      "[73.26315789  0.39473684]\n",
      "[1.11114754e+02 4.09836066e-02]\n"
     ]
    }
   ],
   "source": [
    "rhv_coef = fit_lines( (ivc_x,ivc_y), (rhv_x, rhv_y) )\n",
    "mhv_coef = fit_lines( (ivc_x,ivc_y), (mhv_x, mhv_y) )\n",
    "lhv_coef = fit_lines( (ivc_x,ivc_y), (lhv_x, lhv_y) )\n",
    "\n",
    "print(rhv_coef)\n",
    "print(mhv_coef)\n",
    "print(lhv_coef)"
   ]
  },
  {
   "cell_type": "code",
   "execution_count": 30,
   "id": "6af170ca-2ba6-4985-bc9b-c28845257be8",
   "metadata": {},
   "outputs": [
    {
     "data": {
      "text/plain": [
       "(224, 224, 31)"
      ]
     },
     "execution_count": 30,
     "metadata": {},
     "output_type": "execute_result"
    }
   ],
   "source": [
    "hv_mask = create_hv_mask(rhv_coef, mhv_coef, lhv_coef, two_pt1)\n",
    "hv_mask.shape"
   ]
  },
  {
   "cell_type": "code",
   "execution_count": 31,
   "id": "b293605c-a9b8-4dbc-b632-4ab85ea438d4",
   "metadata": {},
   "outputs": [
    {
     "data": {
      "text/plain": [
       "<function matplotlib.pyplot.show(close=None, block=None)>"
      ]
     },
     "execution_count": 31,
     "metadata": {},
     "output_type": "execute_result"
    },
    {
     "data": {
      "image/png": "[encoded data removed]",
      "text/plain": [
       "<Figure size 432x288 with 1 Axes>"
      ]
     },
     "metadata": {
      "needs_background": "light"
     },
     "output_type": "display_data"
    }
   ],
   "source": [
    "plt.imshow(hv_mask[:,:,15],cmap='gray')\n",
    "plt.show"
   ]
  },
  {
   "cell_type": "code",
   "execution_count": 17,
   "id": "450c6fb6-e4ec-49ea-9aad-7434e5999c82",
   "metadata": {},
   "outputs": [],
   "source": [
    "cou = create_cou_mask(two_pt1, liv_whole1)"
   ]
  },
  {
   "cell_type": "code",
   "execution_count": 18,
   "id": "261a7469-5847-49e3-9bf3-b49bf0863300",
   "metadata": {},
   "outputs": [
    {
     "data": {
      "text/plain": [
       "<function matplotlib.pyplot.show(close=None, block=None)>"
      ]
     },
     "execution_count": 18,
     "metadata": {},
     "output_type": "execute_result"
    },
    {
     "data": {
      "image/png": "[encoded data removed]",
      "text/plain": [
       "<Figure size 432x288 with 1 Axes>"
      ]
     },
     "metadata": {
      "needs_background": "light"
     },
     "output_type": "display_data"
    }
   ],
   "source": [
    "plt.imshow(cou[:,:,15],cmap='gray')\n",
    "plt.show"
   ]
  },
  {
   "cell_type": "code",
   "execution_count": null,
   "id": "d8d6a1b0-45ec-400f-bc94-70fd911a15f9",
   "metadata": {},
   "outputs": [],
   "source": []
  }
 ],
 "metadata": {
  "kernelspec": {
   "display_name": "gpu",
   "language": "python",
   "name": "gpu"
  },
  "language_info": {
   "codemirror_mode": {
    "name": "ipython",
    "version": 3
   },
   "file_extension": ".py",
   "mimetype": "text/x-python",
   "name": "python",
   "nbconvert_exporter": "python",
   "pygments_lexer": "ipython3",
   "version": "3.9.7"
  }
 },
 "nbformat": 4,
 "nbformat_minor": 5
}
