{
 "cells": [
  {
   "cell_type": "code",
   "execution_count": 110,
   "id": "03674136-fc36-4429-9137-09052785c709",
   "metadata": {},
   "outputs": [],
   "source": [
    "import numpy as np\n",
    "import os\n",
    "import glob\n",
    "import nibabel as nib\n",
    "from scipy.ndimage.interpolation import zoom\n",
    "from scipy.ndimage.measurements import label\n",
    "import matplotlib.pyplot as plt"
   ]
  },
  {
   "cell_type": "code",
   "execution_count": 111,
   "id": "a465b598-48b5-4643-b17a-8fa31ca8ebbf",
   "metadata": {},
   "outputs": [],
   "source": [
    "study_folder = r'N:\\2_Analysis\\automated_analysis\\Training Cases\\FLINT_CYNCH_SEGSEG\\flint_output'"
   ]
  },
  {
   "cell_type": "code",
   "execution_count": 99,
   "id": "bf0d84c9-d09f-414f-b5a0-9c3ab39d580f",
   "metadata": {},
   "outputs": [],
   "source": [
    "def get_all_paths(study_folder):\n",
    "    paths=[]\n",
    "    for path in os.listdir(study_folder):\n",
    "        rpath = os.path.join(study_folder, path)\n",
    "        paths.append(rpath)\n",
    "    return paths\n",
    "\n",
    "def process_mask(arr, out_shape):\n",
    "\n",
    "    liv = arr[:,:,:,0]\n",
    "    liv = zoom(liv, (out_shape[0]/192, out_shape[1]/192, out_shape[2]/96))\n",
    "    liv[liv >= 0.5] = 1; liv[liv < 0.5] = 0\n",
    "    liv = largestConnectedComponent(liv)\n",
    "\n",
    "    arr_resize = np.zeros((out_shape[0], out_shape[1], out_shape[2], 10))\n",
    "    for ii in range(arr.shape[-1]):\n",
    "        arr_resize[:,:,:,ii] = zoom(arr[:,:,:,ii], (out_shape[0]/192, out_shape[1]/192, out_shape[2]/96))\n",
    "\n",
    "    arr_resize[arr_resize <= 0.5] = 0.\n",
    "    arr = np.argmax(np.concatenate([ np.zeros((out_shape[0], out_shape[1], out_shape[2],1)), arr_resize[:,:,:,1:] ], -1), axis=-1)\n",
    "\n",
    "    arr_resize = np.zeros((out_shape[0], out_shape[1], out_shape[2], 9))\n",
    "    for ii in range(9):\n",
    "        arr_resize[:,:,:,ii][np.where(arr == (ii+1))] = 1\n",
    "        arr_resize[:,:,:,ii] = largestConnectedComponent(arr_resize[:,:,:,ii])\n",
    "\n",
    "    arr = np.argmax(np.concatenate([ np.zeros((out_shape[0], out_shape[1], out_shape[2],1)), arr_resize ], -1), axis=-1)\n",
    "\n",
    "    return liv,arr\n",
    "\n",
    "def largestConnectedComponent(cnn_seg):\n",
    "\n",
    "    cnn_seg[cnn_seg >= 0.5] = 1; cnn_seg[cnn_seg < 0.5] = 0\n",
    "\n",
    "    struct = np.ones((3,3,3))\n",
    "\n",
    "    pred_postp1 = cnn_seg\n",
    "\n",
    "    labels, num_features = label(pred_postp1,struct)\n",
    "\n",
    "    if num_features !=0:\n",
    "        feature_size = np.zeros((num_features,))\n",
    "        for ii in range(num_features):\n",
    "            feature_size[ii] = np.sum(labels==(ii+1))\n",
    "\n",
    "            label_liver = np.argmax(feature_size)\n",
    "            pred_postp = np.zeros(cnn_seg.shape)\n",
    "            pred_postp[labels== (label_liver+1)] = 1\n",
    "\n",
    "    else:\n",
    "        pred_postp = cnn_seg\n",
    "    return pred_postp"
   ]
  },
  {
   "cell_type": "code",
   "execution_count": 118,
   "id": "cb5f2adb-1edf-4bdd-9466-5ee7adba78d4",
   "metadata": {},
   "outputs": [
    {
     "name": "stdout",
     "output_type": "stream",
     "text": [
      "691\n",
      "N:\\2_Analysis\\automated_analysis\\Training Cases\\FLINT_CYNCH_SEGSEG\\flint_output\\2396---B17_Upgrade_Evolve_Camrd371 - 1---echo1.npy\n"
     ]
    }
   ],
   "source": [
    "all_paths = get_all_paths(study_folder)\n",
    "print(len(all_paths))\n",
    "print(all_paths[1])"
   ]
  },
  {
   "cell_type": "code",
   "execution_count": 119,
   "id": "4ae97e24-890a-4e2c-9b81-f278854aa0bf",
   "metadata": {},
   "outputs": [],
   "source": [
    "echo5_paths = []\n",
    "\n",
    "for root, dirs, files in os.walk(study_folder):\n",
    "    for file in files:\n",
    "        if file.endswith(\"echo5.npy\"):\n",
    "             echo5_paths.append(os.path.join(root, file))"
   ]
  },
  {
   "cell_type": "code",
   "execution_count": 120,
   "id": "e08ea0a8-b9f1-4822-8d89-5f763ecf4c22",
   "metadata": {},
   "outputs": [
    {
     "name": "stdout",
     "output_type": "stream",
     "text": [
      "115\n"
     ]
    },
    {
     "data": {
      "text/plain": [
       "['N:\\\\2_Analysis\\\\automated_analysis\\\\Training Cases\\\\FLINT_CYNCH_SEGSEG\\\\flint_output\\\\2396---B17_Upgrade_Evolve_Camrd371 - 1---echo5.npy',\n",
       " 'N:\\\\2_Analysis\\\\automated_analysis\\\\Training Cases\\\\FLINT_CYNCH_SEGSEG\\\\flint_output\\\\2413---B17_Upgrade_Evolve_Camrd371 - 1---echo5.npy',\n",
       " 'N:\\\\2_Analysis\\\\automated_analysis\\\\Training Cases\\\\FLINT_CYNCH_SEGSEG\\\\flint_output\\\\2421---Mri_Duke_2421_Smu_092311_1026 - 1---echo5.npy',\n",
       " 'N:\\\\2_Analysis\\\\automated_analysis\\\\Training Cases\\\\FLINT_CYNCH_SEGSEG\\\\flint_output\\\\2422---B17_Upgrade_Evolve_Camrd371 - 1---echo5.npy',\n",
       " 'N:\\\\2_Analysis\\\\automated_analysis\\\\Training Cases\\\\FLINT_CYNCH_SEGSEG\\\\flint_output\\\\2423---Liver_Scan - 1---echo5.npy']"
      ]
     },
     "execution_count": 120,
     "metadata": {},
     "output_type": "execute_result"
    }
   ],
   "source": [
    "print(len(echo5_paths))\n",
    "echo5_paths[:5]"
   ]
  },
  {
   "cell_type": "code",
   "execution_count": 123,
   "id": "8add8afe-9a13-4f5e-8142-a83abf785634",
   "metadata": {},
   "outputs": [],
   "source": [
    "for i in echo5_paths:\n",
    "    study_num = i[80:]\n",
    "    if study_num.startswith('Cynch_'):\n",
    "        study_num = study_num[6:]\n",
    "        study_num = study_num[:4]\n",
    "    else:\n",
    "        study_num = study_num[:4]\n",
    "        \n",
    "    ni_path = r'N:\\2_Analysis\\automated_analysis\\Training Cases\\Flint\\Images\\Mag_echo5/' + 'f_' + study_num + '.nii'\n",
    "    img_ni = nib.load(ni_path)\n",
    "    \n",
    "    npy_path = i\n",
    "    npy_arr = np.load(npy_path)\n",
    "    \n",
    "    liv,seg = process_mask(npy_arr,img_ni.shape)\n",
    "    \n",
    "    liv = np.swapaxes(liv,0,1)\n",
    "    liv = np.flip(liv,0)\n",
    "    liv = np.flip(liv,1)\n",
    "    seg = np.swapaxes(seg,0,1)\n",
    "    seg = np.flip(seg,0)\n",
    "    seg = np.flip(seg,1)\n",
    "    \n",
    "    seg = seg.astype('int8')\n",
    "    seg_ni = nib.Nifti1Image(seg, img_ni.affine)\n",
    "    liv_ni = nib.Nifti1Image(liv, img_ni.affine)\n",
    "    \n",
    "    nib.save(liv_ni, r'N:\\2_Analysis\\automated_analysis\\Training Cases\\FLINT_CYNCH_SEGSEG\\flint_output_nii\\segmentation/' + 'f_'+ study_num + '.nii')\n",
    "    nib.save(seg_ni, r'N:\\2_Analysis\\automated_analysis\\Training Cases\\FLINT_CYNCH_SEGSEG\\flint_output_nii\\segmentalsegmentation/' + 'f_'+ study_num + '.nii')"
   ]
  },
  {
   "cell_type": "code",
   "execution_count": null,
   "id": "5c0fbe31-18a5-47df-8b12-6444b1d18182",
   "metadata": {},
   "outputs": [],
   "source": []
  }
 ],
 "metadata": {
  "kernelspec": {
   "display_name": "gpu",
   "language": "python",
   "name": "gpu"
  },
  "language_info": {
   "codemirror_mode": {
    "name": "ipython",
    "version": 3
   },
   "file_extension": ".py",
   "mimetype": "text/x-python",
   "name": "python",
   "nbconvert_exporter": "python",
   "pygments_lexer": "ipython3",
   "version": "3.9.7"
  }
 },
 "nbformat": 4,
 "nbformat_minor": 5
}
