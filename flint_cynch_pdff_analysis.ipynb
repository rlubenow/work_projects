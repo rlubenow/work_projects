{
 "cells": [
  {
   "cell_type": "code",
   "execution_count": 1,
   "id": "ab2c5ac1-03e1-4610-a80a-fae78a4cc882",
   "metadata": {},
   "outputs": [],
   "source": [
    "import os, glob\n",
    "import nibabel as nib\n",
    "import numpy as np\n",
    "import pandas as pd\n",
    "import matplotlib.pyplot as plt\n",
    "import math\n",
    "from scipy.ndimage.morphology import binary_erosion"
   ]
  },
  {
   "cell_type": "code",
   "execution_count": 2,
   "id": "e3ee13c9-4793-462f-a0a5-08a9e2ea0fb1",
   "metadata": {},
   "outputs": [],
   "source": [
    "def get_mean(array):\n",
    "    if array.size != 0: return array.mean()\n",
    "    else: return math.nan\n",
    "\n",
    "def get_std(array):\n",
    "    if array.size != 0: return array.std()\n",
    "    else: return math.nan\n",
    "\n",
    "def get_median(array):\n",
    "    if array.size != 0: return np.median(array)\n",
    "    else: return math.nan\n",
    "\n",
    "def erode_liver_3D(liver_array, voxel_dimensions):\n",
    "    radius = 5\n",
    "    x_dim = voxel_dimensions[0]\n",
    "    y_dim = voxel_dimensions[1]\n",
    "    z_dim = voxel_dimensions[2]\n",
    "    kernel = np.zeros((2*int(math.ceil(radius/x_dim))+1, 2*int(math.ceil(radius/y_dim))+1, 2*int(math.ceil(radius/z_dim))+1))\n",
    "    x,y,z = np.ogrid[-int(math.ceil(radius/x_dim)):int(math.ceil(radius/x_dim))+1, -int(math.ceil(radius/y_dim)):int(math.ceil(radius/y_dim))+1,-int(math.ceil(radius/z_dim)):int(math.ceil(radius/z_dim))+1]\n",
    "    mask = ((x*x_dim)**2 + (y*y_dim)**2) + (z*z_dim)**2 <= radius**2\n",
    "    kernel[mask] = 1\n",
    "    eroded_liver = binary_erosion(liver_array, structure = kernel)\n",
    "\n",
    "    return eroded_liver"
   ]
  },
  {
   "cell_type": "code",
   "execution_count": 3,
   "id": "6081e016-6ff9-466e-aadf-457e6b89f695",
   "metadata": {},
   "outputs": [
    {
     "name": "stdout",
     "output_type": "stream",
     "text": [
      "N:\\2_Analysis\\automated_analysis\\flint_segmentations\\flint_additions\\analysis masks\\original_segseg/\n",
      "N:\\2_Analysis\\automated_analysis\\flint_segmentations\\flint_additions\\analysis masks\\human_corrected_without_vessel_removal/\n",
      "N:\\2_Analysis\\automated_analysis\\flint_segmentations\\flint_additions\\analysis masks\\human_corrected_with_vessel_removal/\n",
      "N:\\2_Analysis\\automated_analysis\\flint_segmentations\\flint_additions\\analysis masks\\vessel_segmentation/\n",
      "N:\\2_Analysis\\automated_analysis\\flint_segmentations\\flint_additions\\analysis masks\\fatfrac\n"
     ]
    }
   ],
   "source": [
    "original_mask_path =          r'N:\\2_Analysis\\automated_analysis\\flint_segmentations\\flint_additions\\analysis masks\\original_segseg/'\n",
    "corrected_with_vessels_path = r'N:\\2_Analysis\\automated_analysis\\flint_segmentations\\flint_additions\\analysis masks\\human_corrected_without_vessel_removal/'\n",
    "corrected_no_vessels_path =   r'N:\\2_Analysis\\automated_analysis\\flint_segmentations\\flint_additions\\analysis masks\\human_corrected_with_vessel_removal/'\n",
    "new_vessel_mask_path =        r'N:\\2_Analysis\\automated_analysis\\flint_segmentations\\flint_additions\\analysis masks\\vessel_segmentation/'\n",
    "fat_frac_path =               r'N:\\2_Analysis\\automated_analysis\\flint_segmentations\\flint_additions\\analysis masks\\fatfrac'\n",
    "\n",
    "print(original_mask_path)\n",
    "print(corrected_with_vessels_path)\n",
    "print(corrected_no_vessels_path)\n",
    "print(new_vessel_mask_path)\n",
    "print(fat_frac_path)"
   ]
  },
  {
   "cell_type": "code",
   "execution_count": 4,
   "id": "846ed802-674f-471d-8e4b-7ba0c538c28f",
   "metadata": {},
   "outputs": [
    {
     "name": "stdout",
     "output_type": "stream",
     "text": [
      "6\n",
      "6\n",
      "6\n",
      "6\n",
      "6\n",
      "N:\\2_Analysis\\automated_analysis\\flint_segmentations\\flint_additions\\analysis masks\\original_segseg/f_8391.nii\n",
      "N:\\2_Analysis\\automated_analysis\\flint_segmentations\\flint_additions\\analysis masks\\human_corrected_without_vessel_removal/f_8391.nii\n",
      "N:\\2_Analysis\\automated_analysis\\flint_segmentations\\flint_additions\\analysis masks\\human_corrected_with_vessel_removal/f_8391.nii\n",
      "N:\\2_Analysis\\automated_analysis\\flint_segmentations\\flint_additions\\analysis masks\\vessel_segmentation/f_8391.nii\n",
      "N:\\2_Analysis\\automated_analysis\\flint_segmentations\\flint_additions\\analysis masks\\fatfrac\\f_8391.nii\n"
     ]
    }
   ],
   "source": [
    "original_mask_paths = []\n",
    "corrected_with_vessels_paths = []\n",
    "corrected_no_vessels_paths = []\n",
    "new_vessel_mask_paths = []\n",
    "fat_frac_paths = []\n",
    "\n",
    "for root, dirs, files in os.walk(original_mask_path):\n",
    "    for file in files:\n",
    "        if file.endswith(\".nii\"):\n",
    "             original_mask_paths.append(os.path.join(root, file))\n",
    "                \n",
    "for root, dirs, files in os.walk(corrected_with_vessels_path):\n",
    "    for file in files:\n",
    "        if file.endswith(\".nii\"):\n",
    "             corrected_with_vessels_paths.append(os.path.join(root, file))\n",
    "    \n",
    "for root, dirs, files in os.walk(corrected_no_vessels_path):\n",
    "    for file in files:\n",
    "        if file.endswith(\".nii\"):\n",
    "             corrected_no_vessels_paths.append(os.path.join(root, file))\n",
    "        \n",
    "for root, dirs, files in os.walk(new_vessel_mask_path):\n",
    "    for file in files:\n",
    "        if file.endswith(\".nii\"):\n",
    "             new_vessel_mask_paths.append(os.path.join(root, file))\n",
    "                \n",
    "for root, dirs, files in os.walk(fat_frac_path):\n",
    "    for file in files:\n",
    "        if file.endswith(\".nii\"):\n",
    "             fat_frac_paths.append(os.path.join(root, file))\n",
    "\n",
    "original_mask_paths = sorted(original_mask_paths)\n",
    "corrected_with_vessels_paths = sorted(corrected_with_vessels_paths)\n",
    "corrected_no_vessels_paths = sorted(corrected_no_vessels_paths)\n",
    "new_vessel_mask_paths = sorted(new_vessel_mask_paths)\n",
    "fat_frac_paths = sorted(fat_frac_paths)\n",
    "\n",
    "print(len(original_mask_paths))\n",
    "print(len(corrected_with_vessels_paths))\n",
    "print(len(corrected_no_vessels_paths))\n",
    "print(len(new_vessel_mask_paths))\n",
    "print(len(fat_frac_paths))\n",
    "\n",
    "print(original_mask_paths[5])\n",
    "print(corrected_with_vessels_paths[5])\n",
    "print(corrected_no_vessels_paths[5])\n",
    "print(new_vessel_mask_paths[5])\n",
    "print(fat_frac_paths[5])"
   ]
  },
  {
   "cell_type": "code",
   "execution_count": 28,
   "id": "f37a1a00-5db8-4eb1-b38a-e8c6c2f43dcd",
   "metadata": {},
   "outputs": [],
   "source": [
    "data = {'Patient ID' : [],\n",
    "        'vessel_ff_mean' : [],\n",
    "        'vessel_ff_median' : [],\n",
    "        'vessel_ff_std' : []}\n",
    "\n",
    "data['OM_WHOLE_ff_mean'] = []\n",
    "data['OM_WHOLE_ff_median'] = []\n",
    "data['OM_WHOLE_ff_std'] = []\n",
    "data['OM_LEFT_LOBE_ff_mean'] = []\n",
    "data['OM_LEFT_LOBE_ff_median'] = []\n",
    "data['OM_LEFT_LOBE_ff_std'] = []\n",
    "data['OM_RIGHT_LOBE_ff_mean'] = []\n",
    "data['OM_RIGHT_LOBE_ff_median'] = []\n",
    "data['OM_RIGHT_LOBE_ff_std'] = []\n",
    "data['OM_CAUDATE_ff_mean'] = []\n",
    "data['OM_CAUDATE_ff_median'] = []\n",
    "data['OM_CAUDATE_ff_std'] = []\n",
    "\n",
    "for i in range(2):\n",
    "    data['OM_segment_' + str(i+2) + '_ff_mean'] = []\n",
    "    data['OM_segment_' + str(i+2) + '_ff_median'] = []\n",
    "    data['OM_segment_' + str(i+2) + '_ff_std'] = []\n",
    "\n",
    "data['OM_segment_4a_ff_mean'] = []\n",
    "data['OM_segment_4a_ff_median'] = []\n",
    "data['OM_segment_4a_ff_std'] = []\n",
    "data['OM_segment_4b_ff_mean'] = []\n",
    "data['OM_segment_4b_ff_median'] = []\n",
    "data['OM_segment_4b_ff_std'] = []\n",
    "    \n",
    "for i in range(4):\n",
    "    data['OM_segment_' + str(i+5) + '_ff_mean'] = []\n",
    "    data['OM_segment_' + str(i+5) + '_ff_median'] = []\n",
    "    data['OM_segment_' + str(i+5) + '_ff_std'] = []\n",
    "    \n",
    "data['HCBVR_WHOLE_ff_mean'] = []\n",
    "data['HCBVR_WHOLE_ff_median'] = []\n",
    "data['HCBVR_WHOLE_ff_std'] = []\n",
    "data['HCBVR_LEFT_LOBE_ff_mean'] = []\n",
    "data['HCBVR_LEFT_LOBE_ff_median'] = []\n",
    "data['HCBVR_LEFT_LOBE_ff_std'] = []\n",
    "data['HCBVR_RIGHT_LOBE_ff_mean'] = []\n",
    "data['HCBVR_RIGHT_LOBE_ff_median'] = []\n",
    "data['HCBVR_RIGHT_LOBE_ff_std'] = []\n",
    "data['HCBVR_CAUDATE_ff_mean'] = []\n",
    "data['HCBVR_CAUDATE_ff_median'] = []\n",
    "data['HCBVR_CAUDATE_ff_std'] = []\n",
    "\n",
    "for i in range(2):\n",
    "    data['HCBVR_segment_' + str(i+2) + '_ff_mean'] = []\n",
    "    data['HCBVR_segment_' + str(i+2) + '_ff_median'] = []\n",
    "    data['HCBVR_segment_' + str(i+2) + '_ff_std'] = []\n",
    "\n",
    "data['HCBVR_segment_4a_ff_mean'] = []\n",
    "data['HCBVR_segment_4a_ff_median'] = []\n",
    "data['HCBVR_segment_4a_ff_std'] = []\n",
    "data['HCBVR_segment_4b_ff_mean'] = []\n",
    "data['HCBVR_segment_4b_ff_median'] = []\n",
    "data['HCBVR_segment_4b_ff_std'] = []\n",
    "    \n",
    "for i in range(4):\n",
    "    data['HCBVR_segment_' + str(i+5) + '_ff_mean'] = []\n",
    "    data['HCBVR_segment_' + str(i+5) + '_ff_median'] = []\n",
    "    data['HCBVR_segment_' + str(i+5) + '_ff_std'] = []\n",
    "    \n",
    "data['HCAVR_WHOLE_ff_mean'] = []\n",
    "data['HCAVR_WHOLE_ff_median'] = []\n",
    "data['HCAVR_WHOLE_ff_std'] = []\n",
    "data['HCAVR_LEFT_LOBE_ff_mean'] = []\n",
    "data['HCAVR_LEFT_LOBE_ff_median'] = []\n",
    "data['HCAVR_LEFT_LOBE_ff_std'] = []\n",
    "data['HCAVR_RIGHT_LOBE_ff_mean'] = []\n",
    "data['HCAVR_RIGHT_LOBE_ff_median'] = []\n",
    "data['HCAVR_RIGHT_LOBE_ff_std'] = []\n",
    "data['HCAVR_CAUDATE_ff_mean'] = []\n",
    "data['HCAVR_CAUDATE_ff_median'] = []\n",
    "data['HCAVR_CAUDATE_ff_std'] = []\n",
    "\n",
    "for i in range(2):\n",
    "    data['HCAVR_segment_' + str(i+2) + '_ff_mean'] = []\n",
    "    data['HCAVR_segment_' + str(i+2) + '_ff_median'] = []\n",
    "    data['HCAVR_segment_' + str(i+2) + '_ff_std'] = []\n",
    "\n",
    "data['HCAVR_segment_4a_ff_mean'] = []\n",
    "data['HCAVR_segment_4a_ff_median'] = []\n",
    "data['HCAVR_segment_4a_ff_std'] = []\n",
    "data['HCAVR_segment_4b_ff_mean'] = []\n",
    "data['HCAVR_segment_4b_ff_median'] = []\n",
    "data['HCAVR_segment_4b_ff_std'] = []\n",
    "    \n",
    "for i in range(4):\n",
    "    data['HCAVR_segment_' + str(i+5) + '_ff_mean'] = []\n",
    "    data['HCAVR_segment_' + str(i+5) + '_ff_median'] = []\n",
    "    data['HCAVR_segment_' + str(i+5) + '_ff_std'] = []"
   ]
  },
  {
   "cell_type": "code",
   "execution_count": null,
   "id": "25c7fdae-b96c-4cff-871a-68c6ddbd6868",
   "metadata": {},
   "outputs": [],
   "source": [
    "''' AUTO GENERATE FOR AN ENTIRE DIRECTORY '''"
   ]
  },
  {
   "cell_type": "code",
   "execution_count": 36,
   "id": "d84eea14-3040-4afc-93ed-8a1a930470ef",
   "metadata": {},
   "outputs": [],
   "source": [
    "orig_pre   = r'N:\\2_Analysis\\automated_analysis\\cynch_segmentations\\analysis_masks\\original_segseg/'\n",
    "hcbvr_pre  = r'N:\\2_Analysis\\automated_analysis\\cynch_segmentations\\analysis_masks\\human_corrected_without_vessel_removal/'\n",
    "hcavr_pre  = r'N:\\2_Analysis\\automated_analysis\\cynch_segmentations\\analysis_masks\\human_corrected_with_vessel_removal/'\n",
    "ff_pre     = r'N:\\2_Analysis\\automated_analysis\\cynch_segmentations\\analysis_masks\\fatfrac/'\n",
    "vessel_pre = r'N:\\2_Analysis\\automated_analysis\\cynch_segmentations\\analysis_masks\\vessel_segmentation/'"
   ]
  },
  {
   "cell_type": "code",
   "execution_count": null,
   "id": "41bd4727-34d1-4768-9f00-0ec9c0f17493",
   "metadata": {},
   "outputs": [],
   "source": [
    "for i in original_mask_paths:\n",
    "    case_id = i[84:]\n",
    "    \n",
    "    orig   = nib.load(orig_pre + case_id).get_fdata()\n",
    "    hcbvr  = nib.load(hcbvr_pre + case_id[:6] + '_edited.nii').get_fdata()\n",
    "    hcavr  = nib.load(hcavr_pre + case_id[:6] + '.nii').get_fdata()\n",
    "    ff     = nib.load(ff_pre + case_id).get_fdata()\n",
    "    vessel = nib.load(vessel_pre + case_id).get_fdata()\n",
    "    \n",
    "    orig = np.swapaxes(orig, 0, 1)\n",
    "    orig = np.flip(orig, 0)\n",
    "    orig = np.flip(orig, 1)\n",
    "    hcbvr = np.swapaxes(hcbvr, 0, 1)\n",
    "    hcbvr = np.flip(hcbvr, 0)\n",
    "    hcbvr = np.flip(hcbvr, 1)\n",
    "    hcavr = np.swapaxes(hcavr, 0, 1)\n",
    "    hcavr = np.flip(hcavr, 0)\n",
    "    hcavr = np.flip(hcavr, 1)\n",
    "    ff = np.swapaxes(ff, 0, 1)\n",
    "    ff = np.flip(ff, 0)\n",
    "    ff = np.flip(ff, 1)\n",
    "    vessel = np.swapaxes(vessel, 0, 1)\n",
    "    vessel = np.flip(vessel, 0)\n",
    "    vessel = np.flip(vessel, 1)\n",
    "    \n",
    "    \n",
    "    ### ERODE EACH MASK\n",
    "    \n",
    "    image_orig = nib.load(orig_pre + case_id)\n",
    "    voxel_dimensions_orig = (image_orig.affine[0,0],image_orig.affine[1,1],image_orig.affine[2,2])\n",
    "    eroded_orig = erode_liver_3D(orig, voxel_dimensions_orig)\n",
    "    orig = np.multiply(eroded_orig, orig)\n",
    "    \n",
    "    image_hcbvr = nib.load(hcbvr_pre + case_id[:6] + '_edited.nii')\n",
    "    voxel_dimensions_hcbvr = (image_hcbvr.affine[0,0],image_hcbvr.affine[1,1],image_hcbvr.affine[2,2])\n",
    "    eroded_hcbvr = erode_liver_3D(hcbvr, voxel_dimensions_hcbvr)\n",
    "    hcbvr = np.multiply(eroded_hcbvr, hcbvr)\n",
    "    \n",
    "    image_hcavr = nib.load(hcavr_pre + case_id[:6] + '.nii')\n",
    "    voxel_dimensions_hcavr = (image_hcavr.affine[0,0],image_hcavr.affine[1,1],image_hcavr.affine[2,2])\n",
    "    eroded_hcavr = erode_liver_3D(hcavr, voxel_dimensions_hcavr)\n",
    "    hcavr = np.multiply(eroded_hcavr, hcavr)\n",
    "    \n",
    "\n",
    "    \n",
    "    om_ll = np.zeros((orig.shape[0],orig.shape[1],orig.shape[2]))\n",
    "\n",
    "    om_ll[orig != 0] = 1\n",
    "    om_ll[orig == 5] = 0\n",
    "    om_ll[orig == 6] = 0\n",
    "    om_ll[orig == 7] = 0\n",
    "    om_ll[orig == 8] = 0\n",
    "    om_ll[orig == 1] = 0\n",
    "    \n",
    "    om_rl = np.zeros((orig.shape[0],orig.shape[1],orig.shape[2]))\n",
    "\n",
    "    om_rl[orig != 0] = 1\n",
    "    om_rl[orig == 2] = 0\n",
    "    om_rl[orig == 3] = 0\n",
    "    om_rl[orig == 4] = 0\n",
    "    om_rl[orig == 9] = 0\n",
    "    om_rl[orig == 1] = 0\n",
    "    \n",
    "    hcbvr_ll = np.zeros((hcbvr.shape[0],hcbvr.shape[1],hcbvr.shape[2]))\n",
    "\n",
    "    hcbvr_ll[hcbvr != 0] = 1\n",
    "    hcbvr_ll[hcbvr == 5] = 0\n",
    "    hcbvr_ll[hcbvr == 6] = 0\n",
    "    hcbvr_ll[hcbvr == 7] = 0\n",
    "    hcbvr_ll[hcbvr == 8] = 0\n",
    "    hcbvr_ll[hcbvr == 1] = 0\n",
    "    \n",
    "    hcbvr_rl = np.zeros((hcbvr.shape[0],hcbvr.shape[1],hcbvr.shape[2]))\n",
    "\n",
    "    hcbvr_rl[hcbvr != 0] = 1\n",
    "    hcbvr_rl[hcbvr == 2] = 0\n",
    "    hcbvr_rl[hcbvr == 3] = 0\n",
    "    hcbvr_rl[hcbvr == 4] = 0\n",
    "    hcbvr_rl[hcbvr == 9] = 0\n",
    "    hcbvr_rl[hcbvr == 1] = 0\n",
    "\n",
    "    hcavr_ll = np.zeros((hcavr.shape[0],hcavr.shape[1],hcavr.shape[2]))\n",
    "\n",
    "    hcavr_ll[hcavr != 0] = 1\n",
    "    hcavr_ll[hcavr == 5] = 0\n",
    "    hcavr_ll[hcavr == 6] = 0\n",
    "    hcavr_ll[hcavr == 7] = 0\n",
    "    hcavr_ll[hcavr == 8] = 0\n",
    "    hcavr_ll[hcavr == 1] = 0\n",
    "\n",
    "    hcavr_rl = np.zeros((hcavr.shape[0],hcavr.shape[1],hcavr.shape[2]))\n",
    "\n",
    "    hcavr_rl[hcavr != 0] = 1\n",
    "    hcavr_rl[hcavr == 2] = 0\n",
    "    hcavr_rl[hcavr == 3] = 0\n",
    "    hcavr_rl[hcavr == 4] = 0\n",
    "    hcavr_rl[hcavr == 9] = 0\n",
    "    hcavr_rl[hcavr == 1] = 0\n",
    "    \n",
    "    \n",
    "    data['Patient ID'].append(case_id)\n",
    "    data['vessel_ff_mean'].append(get_mean(ff[vessel == 1]))\n",
    "    data['vessel_ff_median'].append(get_median(ff[vessel == 1]))\n",
    "    data['vessel_ff_std'].append(get_std(ff[vessel == 1]))\n",
    "\n",
    "    data['OM_WHOLE_ff_mean'].append(get_mean(ff[orig != 0]))\n",
    "    data['OM_WHOLE_ff_median'].append(get_median(ff[orig != 0]))\n",
    "    data['OM_WHOLE_ff_std'].append(get_std(ff[orig != 0]))\n",
    "    data['OM_LEFT_LOBE_ff_mean'].append(get_mean(ff[om_ll == 1]))\n",
    "    data['OM_LEFT_LOBE_ff_median'].append(get_median(ff[om_ll == 1]))\n",
    "    data['OM_LEFT_LOBE_ff_std'].append(get_std(ff[om_ll == 1]))\n",
    "    data['OM_RIGHT_LOBE_ff_mean'].append(get_mean(ff[om_rl == 1]))\n",
    "    data['OM_RIGHT_LOBE_ff_median'].append(get_median(ff[om_rl == 1]))\n",
    "    data['OM_RIGHT_LOBE_ff_std'].append(get_std(ff[om_rl == 1]))\n",
    "    data['OM_CAUDATE_ff_mean'].append(get_mean(ff[orig == 1]))\n",
    "    data['OM_CAUDATE_ff_median'].append(get_median(ff[orig == 1]))\n",
    "    data['OM_CAUDATE_ff_std'].append(get_std(ff[orig == 1]))\n",
    "\n",
    "    for ii in range(2):\n",
    "        data['OM_segment_' + str(ii+2) + '_ff_mean'].append(get_mean(ff[orig == ii+2]))\n",
    "        data['OM_segment_' + str(ii+2) + '_ff_median'].append(get_median(ff[orig == ii+2]))\n",
    "        data['OM_segment_' + str(ii+2) + '_ff_std'].append(get_std(ff[orig == ii+2]))\n",
    "\n",
    "    data['OM_segment_4a_ff_mean'].append(get_mean(ff[orig == 4]))\n",
    "    data['OM_segment_4a_ff_median'].append(get_median(ff[orig == 4]))\n",
    "    data['OM_segment_4a_ff_std'].append(get_std(ff[orig == 4]))\n",
    "    data['OM_segment_4b_ff_mean'].append(get_mean(ff[orig == 9]))\n",
    "    data['OM_segment_4b_ff_median'].append(get_median(ff[orig == 9]))\n",
    "    data['OM_segment_4b_ff_std'].append(get_std(ff[orig == 9]))\n",
    "    \n",
    "    for ii in range(4):\n",
    "        data['OM_segment_' + str(ii+5) + '_ff_mean'].append(get_mean(ff[orig == ii+5]))\n",
    "        data['OM_segment_' + str(ii+5) + '_ff_median'].append(get_median(ff[orig == ii+5]))\n",
    "        data['OM_segment_' + str(ii+5) + '_ff_std'].append(get_std(ff[orig == ii+5]))\n",
    "    \n",
    "    \n",
    "    \n",
    "    data['HCBVR_WHOLE_ff_mean'].append(get_mean(ff[hcbvr != 0]))\n",
    "    data['HCBVR_WHOLE_ff_median'].append(get_median(ff[hcbvr != 0]))\n",
    "    data['HCBVR_WHOLE_ff_std'].append(get_std(ff[hcbvr != 0]))\n",
    "    data['HCBVR_LEFT_LOBE_ff_mean'].append(get_mean(ff[hcbvr_ll == 1]))\n",
    "    data['HCBVR_LEFT_LOBE_ff_median'].append(get_median(ff[hcbvr_ll == 1]))\n",
    "    data['HCBVR_LEFT_LOBE_ff_std'].append(get_std(ff[hcbvr_ll == 1]))\n",
    "    data['HCBVR_RIGHT_LOBE_ff_mean'].append(get_mean(ff[hcbvr_rl == 1]))\n",
    "    data['HCBVR_RIGHT_LOBE_ff_median'].append(get_median(ff[hcbvr_rl == 1]))\n",
    "    data['HCBVR_RIGHT_LOBE_ff_std'].append(get_std(ff[hcbvr_rl == 1]))\n",
    "    data['HCBVR_CAUDATE_ff_mean'].append(get_mean(ff[hcbvr == 1]))\n",
    "    data['HCBVR_CAUDATE_ff_median'].append(get_median(ff[hcbvr == 1]))\n",
    "    data['HCBVR_CAUDATE_ff_std'].append(get_std(ff[hcbvr == 1]))\n",
    "\n",
    "    for ii in range(2):\n",
    "        data['HCBVR_segment_' + str(ii+2) + '_ff_mean'].append(get_mean(ff[hcbvr == ii+2]))\n",
    "        data['HCBVR_segment_' + str(ii+2) + '_ff_median'].append(get_median(ff[hcbvr == ii+2]))\n",
    "        data['HCBVR_segment_' + str(ii+2) + '_ff_std'].append(get_std(ff[hcbvr == ii+2]))\n",
    "\n",
    "    data['HCBVR_segment_4a_ff_mean'].append(get_mean(ff[hcbvr == 4]))\n",
    "    data['HCBVR_segment_4a_ff_median'].append(get_median(ff[hcbvr == 4]))\n",
    "    data['HCBVR_segment_4a_ff_std'].append(get_std(ff[hcbvr == 4]))\n",
    "    data['HCBVR_segment_4b_ff_mean'].append(get_mean(ff[hcbvr == 9]))\n",
    "    data['HCBVR_segment_4b_ff_median'].append(get_median(ff[hcbvr == 9]))\n",
    "    data['HCBVR_segment_4b_ff_std'].append(get_std(ff[hcbvr == 9]))\n",
    "    \n",
    "    for ii in range(4):\n",
    "        data['HCBVR_segment_' + str(ii+5) + '_ff_mean'].append(get_mean(ff[hcbvr == ii+5]))\n",
    "        data['HCBVR_segment_' + str(ii+5) + '_ff_median'].append(get_median(ff[hcbvr == ii+5]))\n",
    "        data['HCBVR_segment_' + str(ii+5) + '_ff_std'].append(get_std(ff[hcbvr == ii+5]))\n",
    "    \n",
    "    \n",
    "    \n",
    "    data['HCAVR_WHOLE_ff_mean'].append(get_mean(ff[hcavr != 0]))\n",
    "    data['HCAVR_WHOLE_ff_median'].append(get_median(ff[hcavr != 0]))\n",
    "    data['HCAVR_WHOLE_ff_std'].append(get_std(ff[hcavr != 0]))\n",
    "    data['HCAVR_LEFT_LOBE_ff_mean'].append(get_mean(ff[hcavr_ll == 1]))\n",
    "    data['HCAVR_LEFT_LOBE_ff_median'].append(get_median(ff[hcavr_ll == 1]))\n",
    "    data['HCAVR_LEFT_LOBE_ff_std'].append(get_std(ff[hcavr_ll == 1]))\n",
    "    data['HCAVR_RIGHT_LOBE_ff_mean'].append(get_mean(ff[hcavr_rl == 1]))\n",
    "    data['HCAVR_RIGHT_LOBE_ff_median'].append(get_median(ff[hcavr_rl == 1]))\n",
    "    data['HCAVR_RIGHT_LOBE_ff_std'].append(get_std(ff[hcavr_rl == 1]))\n",
    "    data['HCAVR_CAUDATE_ff_mean'].append(get_mean(ff[hcavr == 1]))\n",
    "    data['HCAVR_CAUDATE_ff_median'].append(get_median(ff[hcavr == 1]))\n",
    "    data['HCAVR_CAUDATE_ff_std'].append(get_std(ff[hcavr == 1]))\n",
    "\n",
    "    for ii in range(2):\n",
    "        data['HCAVR_segment_' + str(ii+2) + '_ff_mean'].append(get_mean(ff[hcavr == ii+2]))\n",
    "        data['HCAVR_segment_' + str(ii+2) + '_ff_median'].append(get_median(ff[hcavr == ii+2]))\n",
    "        data['HCAVR_segment_' + str(ii+2) + '_ff_std'].append(get_std(ff[hcavr == ii+2]))\n",
    "\n",
    "    data['HCAVR_segment_4a_ff_mean'].append(get_mean(ff[hcavr == 4]))\n",
    "    data['HCAVR_segment_4a_ff_median'].append(get_median(ff[hcavr == 4]))\n",
    "    data['HCAVR_segment_4a_ff_std'].append(get_std(ff[hcavr == 4]))\n",
    "    data['HCAVR_segment_4b_ff_mean'].append(get_mean(ff[hcavr == 9]))\n",
    "    data['HCAVR_segment_4b_ff_median'].append(get_median(ff[hcavr == 9]))\n",
    "    data['HCAVR_segment_4b_ff_std'].append(get_std(ff[hcavr == 9]))\n",
    "    \n",
    "    for ii in range(4):\n",
    "        data['HCAVR_segment_' + str(ii+5) + '_ff_mean'].append(get_mean(ff[hcavr == ii+5]))\n",
    "        data['HCAVR_segment_' + str(ii+5) + '_ff_median'].append(get_median(ff[hcavr == ii+5]))\n",
    "        data['HCAVR_segment_' + str(ii+5) + '_ff_std'].append(get_std(ff[hcavr == ii+5]))"
   ]
  },
  {
   "cell_type": "code",
   "execution_count": null,
   "id": "1f422b67-d899-4685-a6a1-358b29eee72f",
   "metadata": {},
   "outputs": [],
   "source": [
    "df = pd.DataFrame(data)\n",
    "df.shape"
   ]
  },
  {
   "cell_type": "code",
   "execution_count": 10,
   "id": "f32a000d-ac1c-4b18-95db-9fa8d5ae6140",
   "metadata": {},
   "outputs": [],
   "source": [
    "df.to_excel('cynch_pdff_analysis.xlsx', index=False)"
   ]
  },
  {
   "cell_type": "code",
   "execution_count": null,
   "id": "e67894c1-853b-4107-adb9-8bb7b3d7f267",
   "metadata": {},
   "outputs": [],
   "source": []
  },
  {
   "cell_type": "code",
   "execution_count": null,
   "id": "27e26650-cfd8-4d9a-8e98-8e8ebf2e8845",
   "metadata": {},
   "outputs": [],
   "source": []
  },
  {
   "cell_type": "code",
   "execution_count": null,
   "id": "bcd0db8f-cffe-4d5e-8bc9-828ba56f6737",
   "metadata": {},
   "outputs": [],
   "source": [
    "''' RESIZE NIFTI ARRAY '''"
   ]
  },
  {
   "cell_type": "code",
   "execution_count": 19,
   "id": "5d2198f0-143e-4229-9e7c-600c4062d63d",
   "metadata": {},
   "outputs": [],
   "source": [
    "from scipy.ndimage.interpolation import zoom"
   ]
  },
  {
   "cell_type": "code",
   "execution_count": 131,
   "id": "c7d3f71e-b262-4d7e-881b-241cf2acf07c",
   "metadata": {},
   "outputs": [
    {
     "data": {
      "text/plain": [
       "nibabel.nifti1.Nifti1Image"
      ]
     },
     "execution_count": 131,
     "metadata": {},
     "output_type": "execute_result"
    }
   ],
   "source": [
    "ff_ni = nib.load(ff_pre + case_id)\n",
    "type(ff_ni)"
   ]
  },
  {
   "cell_type": "code",
   "execution_count": 134,
   "id": "ad3a404f-6951-4b2b-adb6-9a1b6a19f2d7",
   "metadata": {},
   "outputs": [
    {
     "data": {
      "text/plain": [
       "(224, 224, 21)"
      ]
     },
     "execution_count": 134,
     "metadata": {},
     "output_type": "execute_result"
    }
   ],
   "source": [
    "ff = zoom(ff, (224/ff.shape[0], 224/ff.shape[1], ff.shape[2]/ff.shape[2]))\n",
    "ff = np.flip(ff, 0)\n",
    "ff = np.flip(ff, 1)\n",
    "ff.shape"
   ]
  },
  {
   "cell_type": "code",
   "execution_count": 158,
   "id": "3a1b27f2-6810-4f90-b2a4-4da3760a1d72",
   "metadata": {},
   "outputs": [
    {
     "data": {
      "text/plain": [
       "<function matplotlib.pyplot.show(close=None, block=None)>"
      ]
     },
     "execution_count": 158,
     "metadata": {},
     "output_type": "execute_result"
    },
    {
     "data": {
      "image/png": "[encoded data removed]",
      "text/plain": [
       "<Figure size 432x288 with 1 Axes>"
      ]
     },
     "metadata": {
      "needs_background": "light"
     },
     "output_type": "display_data"
    }
   ],
   "source": [
    "plt.imshow(ff[:,:,8], cmap='gray')\n",
    "plt.show"
   ]
  },
  {
   "cell_type": "code",
   "execution_count": 159,
   "id": "dd3dbd5d-8665-4bfa-b745-c8e946f58c3f",
   "metadata": {},
   "outputs": [],
   "source": [
    "ff = ff.astype('int8')"
   ]
  },
  {
   "cell_type": "code",
   "execution_count": 160,
   "id": "d4833769-13ef-4311-b8fd-6fce0a725847",
   "metadata": {},
   "outputs": [],
   "source": [
    "ff_nii = nib.Nifti1Image(ff, ff_ni.affine)"
   ]
  },
  {
   "cell_type": "code",
   "execution_count": 161,
   "id": "813304c7-acbb-4430-92b4-2f3868639f21",
   "metadata": {},
   "outputs": [],
   "source": [
    "nib.save(ff_nii, case_id)"
   ]
  },
  {
   "cell_type": "code",
   "execution_count": null,
   "id": "89a309d3-b6ac-4bff-b216-00ef2a23fcd0",
   "metadata": {},
   "outputs": [],
   "source": []
  },
  {
   "cell_type": "code",
   "execution_count": null,
   "id": "b577ceb1-8102-438a-bfb0-dc4b893af6c0",
   "metadata": {},
   "outputs": [],
   "source": []
  },
  {
   "cell_type": "code",
   "execution_count": 18,
   "id": "36aea4b3-3528-4a02-8434-6c1474019b31",
   "metadata": {},
   "outputs": [
    {
     "data": {
      "text/plain": [
       "' SINGLE CALCULATION AND TEST VISUALIZATIONS '"
      ]
     },
     "execution_count": 18,
     "metadata": {},
     "output_type": "execute_result"
    }
   ],
   "source": [
    "''' SINGLE CALCULATION AND TEST VISUALIZATIONS '''"
   ]
  },
  {
   "cell_type": "code",
   "execution_count": 9,
   "id": "5bb2486f-083e-42aa-a15f-16436a1399cc",
   "metadata": {},
   "outputs": [],
   "source": [
    "orig_pre   = r'N:\\2_Analysis\\automated_analysis\\cynch_segmentations\\cynch_additions\\analysis masks\\original_segseg/'\n",
    "hcbvr_pre  = r'N:\\2_Analysis\\automated_analysis\\cynch_segmentations\\cynch_additions\\analysis masks\\human_corrected_without_vessel_removal/'\n",
    "hcavr_pre  = r'N:\\2_Analysis\\automated_analysis\\cynch_segmentations\\cynch_additions\\analysis masks\\human_corrected_with_vessel_removal/'\n",
    "ff_pre     = r'N:\\2_Analysis\\automated_analysis\\cynch_segmentations\\cynch_additions\\analysis masks\\fatfrac/'\n",
    "vessel_pre = r'N:\\2_Analysis\\automated_analysis\\cynch_segmentations\\cynch_additions\\analysis masks\\vessel_segmentation/'"
   ]
  },
  {
   "cell_type": "code",
   "execution_count": 10,
   "id": "4bdf7276-ad5a-4b45-a2dd-f6ed3850fc40",
   "metadata": {},
   "outputs": [
    {
     "data": {
      "text/plain": [
       "'c_9122.nii'"
      ]
     },
     "execution_count": 10,
     "metadata": {},
     "output_type": "execute_result"
    }
   ],
   "source": [
    "case_id = 'c_9122.nii'\n",
    "case_id"
   ]
  },
  {
   "cell_type": "code",
   "execution_count": 11,
   "id": "a365fc42-b686-456a-9b28-7019c5193eb5",
   "metadata": {},
   "outputs": [
    {
     "name": "stdout",
     "output_type": "stream",
     "text": [
      "(224, 224, 27)\n",
      "(224, 224, 27)\n",
      "(224, 224, 27)\n",
      "(224, 224, 27)\n",
      "(224, 224, 27)\n"
     ]
    }
   ],
   "source": [
    "orig   = nib.load(orig_pre + case_id).get_fdata()\n",
    "hcbvr  = nib.load(hcbvr_pre + case_id).get_fdata()\n",
    "hcavr  = nib.load(hcavr_pre + case_id).get_fdata()\n",
    "ff     = nib.load(ff_pre + case_id).get_fdata()\n",
    "vessel = nib.load(vessel_pre + case_id).get_fdata()\n",
    "\n",
    "print(orig.shape)\n",
    "print(hcbvr.shape)\n",
    "print(hcavr.shape)\n",
    "print(ff.shape)\n",
    "print(vessel.shape)"
   ]
  },
  {
   "cell_type": "code",
   "execution_count": 12,
   "id": "7c58014b-3c27-4089-8379-61a48752f7af",
   "metadata": {},
   "outputs": [],
   "source": [
    "orig = np.swapaxes(orig, 0, 1)\n",
    "orig = np.flip(orig, 0)\n",
    "orig = np.flip(orig, 1)\n",
    "hcbvr = np.swapaxes(hcbvr, 0, 1)\n",
    "hcbvr = np.flip(hcbvr, 0)\n",
    "hcbvr = np.flip(hcbvr, 1)\n",
    "hcavr = np.swapaxes(hcavr, 0, 1)\n",
    "hcavr = np.flip(hcavr, 0)\n",
    "hcavr = np.flip(hcavr, 1)\n",
    "ff = np.swapaxes(ff, 0, 1)\n",
    "ff = np.flip(ff, 0)\n",
    "ff = np.flip(ff, 1)\n",
    "vessel = np.swapaxes(vessel, 0, 1)\n",
    "vessel = np.flip(vessel, 0)\n",
    "vessel = np.flip(vessel, 1)"
   ]
  },
  {
   "cell_type": "code",
   "execution_count": 13,
   "id": "9f5bd56d-b156-48ab-a693-e18d7b4be11c",
   "metadata": {},
   "outputs": [],
   "source": [
    "whole = np.zeros((orig.shape[0],orig.shape[1],orig.shape[2]))\n",
    "whole[orig != 0] = 1"
   ]
  },
  {
   "cell_type": "code",
   "execution_count": 14,
   "id": "f05eefae-0617-459c-80c9-d335c0239081",
   "metadata": {},
   "outputs": [
    {
     "data": {
      "text/plain": [
       "<function matplotlib.pyplot.show(close=None, block=None)>"
      ]
     },
     "execution_count": 14,
     "metadata": {},
     "output_type": "execute_result"
    },
    {
     "data": {
      "image/png": "[encoded data removed]",
      "text/plain": [
       "<Figure size 432x288 with 1 Axes>"
      ]
     },
     "metadata": {
      "needs_background": "light"
     },
     "output_type": "display_data"
    }
   ],
   "source": [
    "plt.imshow(whole[:,:,12],cmap='gray')\n",
    "plt.show"
   ]
  },
  {
   "cell_type": "code",
   "execution_count": 15,
   "id": "2956d94d-459e-4958-a19e-58fcfed7e3d9",
   "metadata": {},
   "outputs": [],
   "source": [
    "image = nib.load(orig_pre + case_id)\n",
    "voxel_dimensions = (image.affine[0,0],image.affine[1,1],image.affine[2,2])\n",
    "eroded_whole = erode_liver_3D(whole, voxel_dimensions)"
   ]
  },
  {
   "cell_type": "code",
   "execution_count": 16,
   "id": "861b78c5-a057-4ce2-9bf5-d833ff5c387c",
   "metadata": {},
   "outputs": [
    {
     "data": {
      "text/plain": [
       "(1.875, 1.875, 10.0)"
      ]
     },
     "execution_count": 16,
     "metadata": {},
     "output_type": "execute_result"
    }
   ],
   "source": [
    "voxel_dimensions"
   ]
  },
  {
   "cell_type": "code",
   "execution_count": 17,
   "id": "38312ecd-a10c-4742-bb1e-3fb1be602e1b",
   "metadata": {},
   "outputs": [
    {
     "data": {
      "text/plain": [
       "<function matplotlib.pyplot.show(close=None, block=None)>"
      ]
     },
     "execution_count": 17,
     "metadata": {},
     "output_type": "execute_result"
    },
    {
     "data": {
      "image/png": "[encoded data removed]",
      "text/plain": [
       "<Figure size 432x288 with 1 Axes>"
      ]
     },
     "metadata": {
      "needs_background": "light"
     },
     "output_type": "display_data"
    }
   ],
   "source": [
    "plt.imshow(eroded_whole[:,:,12],cmap='gray')\n",
    "plt.show"
   ]
  },
  {
   "cell_type": "code",
   "execution_count": 18,
   "id": "b0a7d8cb-2c56-47b3-afdb-c73dbabb2dc8",
   "metadata": {},
   "outputs": [],
   "source": [
    "eroded_segments = np.multiply(eroded_whole, orig)"
   ]
  },
  {
   "cell_type": "code",
   "execution_count": 19,
   "id": "304969ca-87fd-4545-959d-db85a9b67e66",
   "metadata": {},
   "outputs": [
    {
     "data": {
      "text/plain": [
       "<function matplotlib.pyplot.show(close=None, block=None)>"
      ]
     },
     "execution_count": 19,
     "metadata": {},
     "output_type": "execute_result"
    },
    {
     "data": {
      "image/png": "[encoded data removed]",
      "text/plain": [
       "<Figure size 432x288 with 1 Axes>"
      ]
     },
     "metadata": {
      "needs_background": "light"
     },
     "output_type": "display_data"
    }
   ],
   "source": [
    "plt.imshow(eroded_segments[:,:,12],cmap='gray')\n",
    "plt.show"
   ]
  },
  {
   "cell_type": "code",
   "execution_count": 20,
   "id": "e82cb1d6-49a3-405d-981e-499aaed4b96b",
   "metadata": {},
   "outputs": [
    {
     "data": {
      "image/png": "[encoded data removed]",
      "text/plain": [
       "<Figure size 432x288 with 1 Axes>"
      ]
     },
     "metadata": {
      "needs_background": "light"
     },
     "output_type": "display_data"
    },
    {
     "data": {
      "image/png": "[encoded data removed]",
      "text/plain": [
       "<Figure size 432x288 with 1 Axes>"
      ]
     },
     "metadata": {
      "needs_background": "light"
     },
     "output_type": "display_data"
    },
    {
     "data": {
      "image/png": "[encoded data removed]",
      "text/plain": [
       "<Figure size 432x288 with 1 Axes>"
      ]
     },
     "metadata": {
      "needs_background": "light"
     },
     "output_type": "display_data"
    },
    {
     "data": {
      "image/png": "[encoded data removed]",
      "text/plain": [
       "<Figure size 432x288 with 1 Axes>"
      ]
     },
     "metadata": {
      "needs_background": "light"
     },
     "output_type": "display_data"
    },
    {
     "data": {
      "image/png": "[encoded data removed]",
      "text/plain": [
       "<Figure size 432x288 with 1 Axes>"
      ]
     },
     "metadata": {
      "needs_background": "light"
     },
     "output_type": "display_data"
    }
   ],
   "source": [
    "plt.imshow(orig[:,:,12],cmap='gray')\n",
    "plt.show()\n",
    "plt.imshow(hcbvr[:,:,12],cmap='gray')\n",
    "plt.show()\n",
    "plt.imshow(hcavr[:,:,12],cmap='gray')\n",
    "plt.show()\n",
    "plt.imshow(ff[:,:,12],cmap='gray')\n",
    "plt.show()\n",
    "plt.imshow(vessel[:,:,12],cmap='gray')\n",
    "plt.show()"
   ]
  },
  {
   "cell_type": "code",
   "execution_count": 21,
   "id": "5efc6995-34c2-4d31-82aa-751e836318d0",
   "metadata": {},
   "outputs": [
    {
     "data": {
      "image/png": "[encoded data removed]",
      "text/plain": [
       "<Figure size 432x288 with 1 Axes>"
      ]
     },
     "metadata": {
      "needs_background": "light"
     },
     "output_type": "display_data"
    }
   ],
   "source": [
    "om_ll = np.zeros((orig.shape[0],orig.shape[1],orig.shape[2]))\n",
    "\n",
    "om_ll[orig != 0] = 1\n",
    "om_ll[orig == 5] = 0\n",
    "om_ll[orig == 6] = 0\n",
    "om_ll[orig == 7] = 0\n",
    "om_ll[orig == 8] = 0\n",
    "om_ll[orig == 1] = 0\n",
    "\n",
    "plt.imshow(om_ll[:,:,12],cmap='gray')\n",
    "plt.show()"
   ]
  },
  {
   "cell_type": "code",
   "execution_count": 22,
   "id": "012ca251-d229-4b44-a0e5-7c24e7c78765",
   "metadata": {},
   "outputs": [
    {
     "data": {
      "image/png": "[encoded data removed]",
      "text/plain": [
       "<Figure size 432x288 with 1 Axes>"
      ]
     },
     "metadata": {
      "needs_background": "light"
     },
     "output_type": "display_data"
    }
   ],
   "source": [
    "om_rl = np.zeros((orig.shape[0],orig.shape[1],orig.shape[2]))\n",
    "\n",
    "om_rl[orig != 0] = 1\n",
    "om_rl[orig == 2] = 0\n",
    "om_rl[orig == 3] = 0\n",
    "om_rl[orig == 4] = 0\n",
    "om_rl[orig == 9] = 0\n",
    "om_rl[orig == 1] = 0\n",
    "\n",
    "plt.imshow(om_rl[:,:,12],cmap='gray')\n",
    "plt.show()"
   ]
  },
  {
   "cell_type": "code",
   "execution_count": 23,
   "id": "60943d23-0c0d-4146-9fc7-6e494b465c64",
   "metadata": {},
   "outputs": [
    {
     "data": {
      "image/png": "[encoded data removed]",
      "text/plain": [
       "<Figure size 432x288 with 1 Axes>"
      ]
     },
     "metadata": {
      "needs_background": "light"
     },
     "output_type": "display_data"
    }
   ],
   "source": [
    "hcbvr_ll = np.zeros((hcbvr.shape[0],hcbvr.shape[1],hcbvr.shape[2]))\n",
    "\n",
    "hcbvr_ll[hcbvr != 0] = 1\n",
    "hcbvr_ll[hcbvr == 5] = 0\n",
    "hcbvr_ll[hcbvr == 6] = 0\n",
    "hcbvr_ll[hcbvr == 7] = 0\n",
    "hcbvr_ll[hcbvr == 8] = 0\n",
    "hcbvr_ll[hcbvr == 1] = 0\n",
    "\n",
    "plt.imshow(hcbvr_ll[:,:,12],cmap='gray')\n",
    "plt.show()"
   ]
  },
  {
   "cell_type": "code",
   "execution_count": 24,
   "id": "1200ccba-bfa0-46f0-9e0c-45b93b87189b",
   "metadata": {},
   "outputs": [
    {
     "data": {
      "image/png": "[encoded data removed]",
      "text/plain": [
       "<Figure size 432x288 with 1 Axes>"
      ]
     },
     "metadata": {
      "needs_background": "light"
     },
     "output_type": "display_data"
    }
   ],
   "source": [
    "hcbvr_rl = np.zeros((hcbvr.shape[0],hcbvr.shape[1],hcbvr.shape[2]))\n",
    "\n",
    "hcbvr_rl[hcbvr != 0] = 1\n",
    "hcbvr_rl[hcbvr == 2] = 0\n",
    "hcbvr_rl[hcbvr == 3] = 0\n",
    "hcbvr_rl[hcbvr == 4] = 0\n",
    "hcbvr_rl[hcbvr == 9] = 0\n",
    "hcbvr_rl[hcbvr == 1] = 0\n",
    "\n",
    "plt.imshow(om_rl[:,:,12],cmap='gray')\n",
    "plt.show()"
   ]
  },
  {
   "cell_type": "code",
   "execution_count": 25,
   "id": "1cd6d69e-7e94-4d2c-bbd9-9d3673a2a895",
   "metadata": {},
   "outputs": [
    {
     "data": {
      "image/png": "[encoded data removed]",
      "text/plain": [
       "<Figure size 432x288 with 1 Axes>"
      ]
     },
     "metadata": {
      "needs_background": "light"
     },
     "output_type": "display_data"
    }
   ],
   "source": [
    "hcavr_ll = np.zeros((hcavr.shape[0],hcavr.shape[1],hcavr.shape[2]))\n",
    "\n",
    "hcavr_ll[hcavr != 0] = 1\n",
    "hcavr_ll[hcavr == 5] = 0\n",
    "hcavr_ll[hcavr == 6] = 0\n",
    "hcavr_ll[hcavr == 7] = 0\n",
    "hcavr_ll[hcavr == 8] = 0\n",
    "hcavr_ll[hcavr == 1] = 0\n",
    "\n",
    "plt.imshow(hcavr_ll[:,:,12],cmap='gray')\n",
    "plt.show()"
   ]
  },
  {
   "cell_type": "code",
   "execution_count": 26,
   "id": "ad89a7c5-7b95-49ff-86eb-b081d1af9669",
   "metadata": {},
   "outputs": [
    {
     "data": {
      "image/png": "[encoded data removed]",
      "text/plain": [
       "<Figure size 432x288 with 1 Axes>"
      ]
     },
     "metadata": {
      "needs_background": "light"
     },
     "output_type": "display_data"
    }
   ],
   "source": [
    "hcavr_rl = np.zeros((hcavr.shape[0],hcavr.shape[1],hcavr.shape[2]))\n",
    "\n",
    "hcavr_rl[hcavr != 0] = 1\n",
    "hcavr_rl[hcavr == 2] = 0\n",
    "hcavr_rl[hcavr == 3] = 0\n",
    "hcavr_rl[hcavr == 4] = 0\n",
    "hcavr_rl[hcavr == 9] = 0\n",
    "hcavr_rl[hcavr == 1] = 0\n",
    "\n",
    "plt.imshow(hcavr_rl[:,:,12],cmap='gray')\n",
    "plt.show()"
   ]
  },
  {
   "cell_type": "code",
   "execution_count": 29,
   "id": "46f1c7cc-8d71-4586-8d5e-4f914917dcb0",
   "metadata": {},
   "outputs": [],
   "source": [
    "data['Patient ID'].append(case_id)\n",
    "data['vessel_ff_mean'].append(get_mean(ff[vessel == 1]))\n",
    "data['vessel_ff_median'].append(get_median(ff[vessel == 1]))\n",
    "data['vessel_ff_std'].append(get_std(ff[vessel == 1]))\n",
    "\n",
    "data['OM_WHOLE_ff_mean'].append(get_mean(ff[orig != 0]))\n",
    "data['OM_WHOLE_ff_median'].append(get_median(ff[orig != 0]))\n",
    "data['OM_WHOLE_ff_std'].append(get_std(ff[orig != 0]))\n",
    "data['OM_LEFT_LOBE_ff_mean'].append(get_mean(ff[om_ll == 1]))\n",
    "data['OM_LEFT_LOBE_ff_median'].append(get_median(ff[om_ll == 1]))\n",
    "data['OM_LEFT_LOBE_ff_std'].append(get_std(ff[om_ll == 1]))\n",
    "data['OM_RIGHT_LOBE_ff_mean'].append(get_mean(ff[om_rl == 1]))\n",
    "data['OM_RIGHT_LOBE_ff_median'].append(get_median(ff[om_rl == 1]))\n",
    "data['OM_RIGHT_LOBE_ff_std'].append(get_std(ff[om_rl == 1]))\n",
    "data['OM_CAUDATE_ff_mean'].append(get_mean(ff[orig == 1]))\n",
    "data['OM_CAUDATE_ff_median'].append(get_median(ff[orig == 1]))\n",
    "data['OM_CAUDATE_ff_std'].append(get_std(ff[orig == 1]))\n",
    "\n",
    "for i in range(2):\n",
    "    data['OM_segment_' + str(i+2) + '_ff_mean'].append(get_mean(ff[orig == i+2]))\n",
    "    data['OM_segment_' + str(i+2) + '_ff_median'].append(get_median(ff[orig == i+2]))\n",
    "    data['OM_segment_' + str(i+2) + '_ff_std'].append(get_std(ff[orig == i+2]))\n",
    "\n",
    "data['OM_segment_4a_ff_mean'].append(get_mean(ff[orig == 4]))\n",
    "data['OM_segment_4a_ff_median'].append(get_median(ff[orig == 4]))\n",
    "data['OM_segment_4a_ff_std'].append(get_std(ff[orig == 4]))\n",
    "data['OM_segment_4b_ff_mean'].append(get_mean(ff[orig == 9]))\n",
    "data['OM_segment_4b_ff_median'].append(get_median(ff[orig == 9]))\n",
    "data['OM_segment_4b_ff_std'].append(get_std(ff[orig == 9]))\n",
    "    \n",
    "for i in range(4):\n",
    "    data['OM_segment_' + str(i+5) + '_ff_mean'].append(get_mean(ff[orig == i+5]))\n",
    "    data['OM_segment_' + str(i+5) + '_ff_median'].append(get_median(ff[orig == i+5]))\n",
    "    data['OM_segment_' + str(i+5) + '_ff_std'].append(get_std(ff[orig == i+5]))\n",
    "    \n",
    "    \n",
    "    \n",
    "data['HCBVR_WHOLE_ff_mean'].append(get_mean(ff[hcbvr != 0]))\n",
    "data['HCBVR_WHOLE_ff_median'].append(get_median(ff[hcbvr != 0]))\n",
    "data['HCBVR_WHOLE_ff_std'].append(get_std(ff[hcbvr != 0]))\n",
    "data['HCBVR_LEFT_LOBE_ff_mean'].append(get_mean(ff[hcbvr_ll == 1]))\n",
    "data['HCBVR_LEFT_LOBE_ff_median'].append(get_median(ff[hcbvr_ll == 1]))\n",
    "data['HCBVR_LEFT_LOBE_ff_std'].append(get_std(ff[hcbvr_ll == 1]))\n",
    "data['HCBVR_RIGHT_LOBE_ff_mean'].append(get_mean(ff[hcbvr_rl == 1]))\n",
    "data['HCBVR_RIGHT_LOBE_ff_median'].append(get_median(ff[hcbvr_rl == 1]))\n",
    "data['HCBVR_RIGHT_LOBE_ff_std'].append(get_std(ff[hcbvr_rl == 1]))\n",
    "data['HCBVR_CAUDATE_ff_mean'].append(get_mean(ff[hcbvr == 1]))\n",
    "data['HCBVR_CAUDATE_ff_median'].append(get_median(ff[hcbvr == 1]))\n",
    "data['HCBVR_CAUDATE_ff_std'].append(get_std(ff[hcbvr == 1]))\n",
    "\n",
    "for i in range(2):\n",
    "    data['HCBVR_segment_' + str(i+2) + '_ff_mean'].append(get_mean(ff[hcbvr == i+2]))\n",
    "    data['HCBVR_segment_' + str(i+2) + '_ff_median'].append(get_median(ff[hcbvr == i+2]))\n",
    "    data['HCBVR_segment_' + str(i+2) + '_ff_std'].append(get_std(ff[hcbvr == i+2]))\n",
    "\n",
    "data['HCBVR_segment_4a_ff_mean'].append(get_mean(ff[hcbvr == 4]))\n",
    "data['HCBVR_segment_4a_ff_median'].append(get_median(ff[hcbvr == 4]))\n",
    "data['HCBVR_segment_4a_ff_std'].append(get_std(ff[hcbvr == 4]))\n",
    "data['HCBVR_segment_4b_ff_mean'].append(get_mean(ff[hcbvr == 9]))\n",
    "data['HCBVR_segment_4b_ff_median'].append(get_median(ff[hcbvr == 9]))\n",
    "data['HCBVR_segment_4b_ff_std'].append(get_std(ff[hcbvr == 9]))\n",
    "    \n",
    "for i in range(4):\n",
    "    data['HCBVR_segment_' + str(i+5) + '_ff_mean'].append(get_mean(ff[hcbvr == i+5]))\n",
    "    data['HCBVR_segment_' + str(i+5) + '_ff_median'].append(get_median(ff[hcbvr == i+5]))\n",
    "    data['HCBVR_segment_' + str(i+5) + '_ff_std'].append(get_std(ff[hcbvr == i+5]))\n",
    "    \n",
    "    \n",
    "    \n",
    "data['HCAVR_WHOLE_ff_mean'].append(get_mean(ff[hcavr != 0]))\n",
    "data['HCAVR_WHOLE_ff_median'].append(get_median(ff[hcavr != 0]))\n",
    "data['HCAVR_WHOLE_ff_std'].append(get_std(ff[hcavr != 0]))\n",
    "data['HCAVR_LEFT_LOBE_ff_mean'].append(get_mean(ff[hcavr_ll == 1]))\n",
    "data['HCAVR_LEFT_LOBE_ff_median'].append(get_median(ff[hcavr_ll == 1]))\n",
    "data['HCAVR_LEFT_LOBE_ff_std'].append(get_std(ff[hcavr_ll == 1]))\n",
    "data['HCAVR_RIGHT_LOBE_ff_mean'].append(get_mean(ff[hcavr_rl == 1]))\n",
    "data['HCAVR_RIGHT_LOBE_ff_median'].append(get_median(ff[hcavr_rl == 1]))\n",
    "data['HCAVR_RIGHT_LOBE_ff_std'].append(get_std(ff[hcavr_rl == 1]))\n",
    "data['HCAVR_CAUDATE_ff_mean'].append(get_mean(ff[hcavr == 1]))\n",
    "data['HCAVR_CAUDATE_ff_median'].append(get_median(ff[hcavr == 1]))\n",
    "data['HCAVR_CAUDATE_ff_std'].append(get_std(ff[hcavr == 1]))\n",
    "\n",
    "for i in range(2):\n",
    "    data['HCAVR_segment_' + str(i+2) + '_ff_mean'].append(get_mean(ff[hcavr == i+2]))\n",
    "    data['HCAVR_segment_' + str(i+2) + '_ff_median'].append(get_median(ff[hcavr == i+2]))\n",
    "    data['HCAVR_segment_' + str(i+2) + '_ff_std'].append(get_std(ff[hcavr == i+2]))\n",
    "\n",
    "data['HCAVR_segment_4a_ff_mean'].append(get_mean(ff[hcavr == 4]))\n",
    "data['HCAVR_segment_4a_ff_median'].append(get_median(ff[hcavr == 4]))\n",
    "data['HCAVR_segment_4a_ff_std'].append(get_std(ff[hcavr == 4]))\n",
    "data['HCAVR_segment_4b_ff_mean'].append(get_mean(ff[hcavr == 9]))\n",
    "data['HCAVR_segment_4b_ff_median'].append(get_median(ff[hcavr == 9]))\n",
    "data['HCAVR_segment_4b_ff_std'].append(get_std(ff[hcavr == 9]))\n",
    "    \n",
    "for i in range(4):\n",
    "    data['HCAVR_segment_' + str(i+5) + '_ff_mean'].append(get_mean(ff[hcavr == i+5]))\n",
    "    data['HCAVR_segment_' + str(i+5) + '_ff_median'].append(get_median(ff[hcavr == i+5]))\n",
    "    data['HCAVR_segment_' + str(i+5) + '_ff_std'].append(get_std(ff[hcavr == i+5]))"
   ]
  },
  {
   "cell_type": "code",
   "execution_count": 30,
   "id": "0e01162b-12cc-4b84-8444-0d182f1bb04d",
   "metadata": {},
   "outputs": [
    {
     "data": {
      "text/plain": [
       "['c_9122.nii']"
      ]
     },
     "execution_count": 30,
     "metadata": {},
     "output_type": "execute_result"
    }
   ],
   "source": [
    "data['Patient ID']"
   ]
  },
  {
   "cell_type": "code",
   "execution_count": 31,
   "id": "7c5c50b9-f1e0-4c03-a6c9-cf8f00f8b4cc",
   "metadata": {},
   "outputs": [
    {
     "data": {
      "text/plain": [
       "(1, 112)"
      ]
     },
     "execution_count": 31,
     "metadata": {},
     "output_type": "execute_result"
    }
   ],
   "source": [
    "df = pd.DataFrame(data)\n",
    "df.shape"
   ]
  },
  {
   "cell_type": "code",
   "execution_count": 32,
   "id": "56486d92-96f8-4de8-926b-555b69a30ef8",
   "metadata": {},
   "outputs": [],
   "source": [
    "df.to_excel('PDFF_analysis_results.xlsx', index=False)"
   ]
  },
  {
   "cell_type": "code",
   "execution_count": null,
   "id": "a386a79e-6f49-4fb8-8a93-51ef008dae3c",
   "metadata": {},
   "outputs": [],
   "source": []
  }
 ],
 "metadata": {
  "kernelspec": {
   "display_name": "gpu",
   "language": "python",
   "name": "gpu"
  },
  "language_info": {
   "codemirror_mode": {
    "name": "ipython",
    "version": 3
   },
   "file_extension": ".py",
   "mimetype": "text/x-python",
   "name": "python",
   "nbconvert_exporter": "python",
   "pygments_lexer": "ipython3",
   "version": "3.9.7"
  }
 },
 "nbformat": 4,
 "nbformat_minor": 5
}
