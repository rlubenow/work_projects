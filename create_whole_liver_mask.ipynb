{
 "cells": [
  {
   "cell_type": "code",
   "execution_count": 19,
   "id": "ebefe309-33be-45ae-8251-774c9b41ed3e",
   "metadata": {},
   "outputs": [],
   "source": [
    "import os\n",
    "import numpy as np\n",
    "import nibabel as nib\n",
    "import keras\n",
    "import matplotlib.pyplot as plt\n",
    "from keras.models import load_model\n",
    "from scipy.ndimage.interpolation import zoom\n",
    "from scipy.ndimage.measurements import label"
   ]
  },
  {
   "cell_type": "code",
   "execution_count": 20,
   "id": "d9e14eb0-4af0-49be-8c26-259d90abd916",
   "metadata": {},
   "outputs": [],
   "source": [
    "def load_segseg_model(model_seg_dir, weights_dir):\n",
    "    json_file = open(model_seg_dir, 'r'); loaded_model_json = json_file.read(); json_file.close()\n",
    "    model = keras.models.model_from_json(loaded_model_json)\n",
    "    model.load_weights(weights_dir)\n",
    "    return model\n",
    "\n",
    "def normalize_image(img,low_p=0,up_p=100):\n",
    "    \"\"\" Normalize image values to [0,1] \"\"\"\n",
    "    min_ = np.percentile(img.flatten(),low_p)\n",
    "    max_ = np.percentile(img.flatten(),up_p)\n",
    "    if min_ == max_ and max_ > 0:\n",
    "        return (img - min_) / (max_ - min_)\n",
    "    elif min_ == max_ and max_ == 0:\n",
    "        return img\n",
    "    else:\n",
    "        new_img  = (img - min_) / (max_ - min_)\n",
    "        new_img[new_img > 1] = 1\n",
    "        new_img[new_img < 0] = 0\n",
    "\n",
    "        return new_img\n",
    "    \n",
    "def process_mask(arr, out_shape):\n",
    "    liv = arr[:,:,:,0]\n",
    "    liv = zoom(liv, (out_shape[0]/192, out_shape[1]/192, out_shape[2]/96))\n",
    "    liv[liv >= 0.5] = 1; liv[liv < 0.5] = 0\n",
    "    liv = largestConnectedComponent(liv)\n",
    "    arr_resize = np.zeros((out_shape[0], out_shape[1], out_shape[2], 10))\n",
    "    for ii in range(arr.shape[-1]):\n",
    "        arr_resize[:,:,:,ii] = zoom(arr[:,:,:,ii], (out_shape[0]/192, out_shape[1]/192, out_shape[2]/96))\n",
    "    arr_resize[arr_resize <= 0.5] = 0.\n",
    "    arr = np.argmax(np.concatenate([ np.zeros((out_shape[0], out_shape[1], out_shape[2],1)), arr_resize[:,:,:,1:] ], -1), axis=-1)\n",
    "    arr_resize = np.zeros((out_shape[0], out_shape[1], out_shape[2], 9))\n",
    "    for ii in range(9):\n",
    "        arr_resize[:,:,:,ii][np.where(arr == (ii+1))] = 1\n",
    "        arr_resize[:,:,:,ii] = largestConnectedComponent(arr_resize[:,:,:,ii])\n",
    "    arr = np.argmax(np.concatenate([ np.zeros((out_shape[0], out_shape[1], out_shape[2],1)), arr_resize ], -1), axis=-1)\n",
    "    return liv,arr\n",
    "\n",
    "def largestConnectedComponent(cnn_seg):\n",
    "    cnn_seg[cnn_seg >= 0.5] = 1; cnn_seg[cnn_seg < 0.5] = 0\n",
    "    struct = np.ones((3,3,3))\n",
    "    pred_postp1 = cnn_seg\n",
    "    labels, num_features = label(pred_postp1,struct)\n",
    "    if num_features !=0:\n",
    "        feature_size = np.zeros((num_features,))\n",
    "        for ii in range(num_features):\n",
    "            feature_size[ii] = np.sum(labels==(ii+1))\n",
    "            label_liver = np.argmax(feature_size)\n",
    "            pred_postp = np.zeros(cnn_seg.shape)\n",
    "            pred_postp[labels== (label_liver+1)] = 1\n",
    "    else:\n",
    "        pred_postp = cnn_seg\n",
    "    return pred_postp"
   ]
  },
  {
   "cell_type": "code",
   "execution_count": 3,
   "id": "900a8f11-594a-411f-a86d-98a9a98f1ac3",
   "metadata": {},
   "outputs": [],
   "source": [
    "model_dir = 'segmental_segmentation_model.hdf5' \n",
    "weight_dir = 'segmental_segmentation_weights.hdf5' \n",
    "\n",
    "model = load_segseg_model(model_dir, weight_dir)"
   ]
  },
  {
   "cell_type": "code",
   "execution_count": 5,
   "id": "720d6862-bee6-47b4-a685-3733c6b44890",
   "metadata": {},
   "outputs": [],
   "source": [
    "mag_dir = r'N:\\2_Analysis\\automated_analysis\\Flint_SOT_EOT_volume\\nii files\\FLINT_EOT_NII'\n",
    "output = r'N:\\2_Analysis\\automated_analysis\\Flint_SOT_EOT_volume\\nii files\\FLINT_EOT_WHOLE_LIVER_MASKS_NII'"
   ]
  },
  {
   "cell_type": "code",
   "execution_count": 45,
   "id": "df2d4760-4a50-434a-9c3a-0f33bd887d4c",
   "metadata": {},
   "outputs": [],
   "source": [
    "for root, dirs, files in os.walk(mag_dir):\n",
    "    for file in files:\n",
    "        if file.endswith('.nii'):\n",
    "            case_id = file[:6]\n",
    "            \n",
    "            echo0_ni = nib.load(os.path.join(root, file))\n",
    "            echo0 = np.rot90(np.flip(echo0_ni.get_fdata(), 0))\n",
    "            \n",
    "            s0,s1,s2 = echo0.shape\n",
    "            inp = zoom(echo0, (192/s0,192/s1,96/s2))\n",
    "            inp = np.expand_dims(np.expand_dims(normalize_image(inp, 0, 95), 0), -1)\n",
    "\n",
    "            pred = model.predict(inp)[0]\n",
    "\n",
    "            liver,seg = process_mask(pred, echo0.shape)\n",
    "\n",
    "            liver = np.swapaxes(liver,0,1)\n",
    "            liver = np.rot90(np.flip(liver,0),3)\n",
    "            liver = liver.astype('int8')\n",
    "            \n",
    "            img = nib.Nifti1Image(np.rot90(np.flip(liver, 0)), echo0_ni.affine)\n",
    "            nib.save(img, os.path.join(output, case_id + '_EOT_whole_liver.nii'))"
   ]
  },
  {
   "cell_type": "code",
   "execution_count": null,
   "id": "e2f12037-8b81-490e-949c-da7494841820",
   "metadata": {},
   "outputs": [],
   "source": []
  },
  {
   "cell_type": "code",
   "execution_count": null,
   "id": "bc97f2d0-eecc-4d49-8eef-882778080b8d",
   "metadata": {},
   "outputs": [],
   "source": [
    "# SINGLE PREDICTION"
   ]
  },
  {
   "cell_type": "code",
   "execution_count": 34,
   "id": "fa983680-9ed5-4b77-b375-f0cbbc2f1646",
   "metadata": {},
   "outputs": [
    {
     "data": {
      "text/plain": [
       "(224, 224, 27)"
      ]
     },
     "execution_count": 34,
     "metadata": {},
     "output_type": "execute_result"
    }
   ],
   "source": [
    "echo0_ni = nib.load(os.path.join(mag_dir, 'f_2422_EOT.nii'))\n",
    "echo0 = np.rot90(np.flip(echo0_ni.get_fdata(), 0))\n",
    "echo0.shape"
   ]
  },
  {
   "cell_type": "code",
   "execution_count": 38,
   "id": "90c4a807-7dc8-4054-a67d-1d95533d162d",
   "metadata": {},
   "outputs": [
    {
     "data": {
      "text/plain": [
       "<function matplotlib.pyplot.show(close=None, block=None)>"
      ]
     },
     "execution_count": 38,
     "metadata": {},
     "output_type": "execute_result"
    },
    {
     "data": {
      "image/png": "[encoded data removed]",
      "text/plain": [
       "<Figure size 432x288 with 1 Axes>"
      ]
     },
     "metadata": {
      "needs_background": "light"
     },
     "output_type": "display_data"
    }
   ],
   "source": [
    "plt.imshow(echo0[:,:,10],cmap='gray')\n",
    "plt.show"
   ]
  },
  {
   "cell_type": "code",
   "execution_count": 36,
   "id": "33a2a862-f9c9-4b28-9ca7-77e39f3a433e",
   "metadata": {},
   "outputs": [],
   "source": [
    "s0,s1,s2 = echo0.shape\n",
    "inp = zoom(echo0, (192/s0,192/s1,96/s2))\n",
    "inp = np.expand_dims(np.expand_dims(normalize_image(inp, 0, 95), 0), -1)\n",
    "\n",
    "pred = model.predict(inp)[0]\n",
    "\n",
    "liver,seg = process_mask(pred, echo0.shape)\n",
    "\n",
    "liver = np.swapaxes(liver,0,1)\n",
    "liver = np.rot90(np.flip(liver,0),3)\n",
    "liver = liver.astype('int8')"
   ]
  },
  {
   "cell_type": "code",
   "execution_count": 37,
   "id": "0bc38247-8860-4545-8185-d6d94f8acd45",
   "metadata": {},
   "outputs": [
    {
     "data": {
      "text/plain": [
       "<function matplotlib.pyplot.show(close=None, block=None)>"
      ]
     },
     "execution_count": 37,
     "metadata": {},
     "output_type": "execute_result"
    },
    {
     "data": {
      "image/png": "[encoded data removed]",
      "text/plain": [
       "<Figure size 432x288 with 1 Axes>"
      ]
     },
     "metadata": {
      "needs_background": "light"
     },
     "output_type": "display_data"
    }
   ],
   "source": [
    "plt.imshow(liver[:,:,10],cmap='gray')\n",
    "plt.show"
   ]
  },
  {
   "cell_type": "code",
   "execution_count": 42,
   "id": "3d3f5f4d-2345-4d6b-92df-d72a880d83f9",
   "metadata": {},
   "outputs": [],
   "source": [
    "img = nib.Nifti1Image(np.rot90(np.flip(liver, 0)), echo0_ni.affine)\n",
    "nib.save(img, os.path.join(output, 'f_2422_EOT_whole_liver.nii'))"
   ]
  },
  {
   "cell_type": "code",
   "execution_count": null,
   "id": "48cdccf8-c10c-40c0-b7f4-14a4b5cae5b4",
   "metadata": {},
   "outputs": [],
   "source": []
  }
 ],
 "metadata": {
  "kernelspec": {
   "display_name": "gpu",
   "language": "python",
   "name": "gpu"
  },
  "language_info": {
   "codemirror_mode": {
    "name": "ipython",
    "version": 3
   },
   "file_extension": ".py",
   "mimetype": "text/x-python",
   "name": "python",
   "nbconvert_exporter": "python",
   "pygments_lexer": "ipython3",
   "version": "3.9.7"
  }
 },
 "nbformat": 4,
 "nbformat_minor": 5
}
