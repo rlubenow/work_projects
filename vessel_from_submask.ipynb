{
 "cells": [
  {
   "cell_type": "code",
   "execution_count": 1,
   "id": "1b6a5ef0-811d-4a86-b5f0-8277b663482b",
   "metadata": {},
   "outputs": [],
   "source": [
    "import os, glob\n",
    "import nibabel as nib\n",
    "import numpy as np\n",
    "import matplotlib.pyplot as plt\n",
    "import cv2"
   ]
  },
  {
   "cell_type": "code",
   "execution_count": 2,
   "id": "2f466628-b03b-4e61-8c28-604fd534d255",
   "metadata": {},
   "outputs": [
    {
     "name": "stdout",
     "output_type": "stream",
     "text": [
      "WARNING:tensorflow:From C:\\Users\\tdelg\\AppData\\Local\\Temp/ipykernel_2872/3053053118.py:4: is_gpu_available (from tensorflow.python.framework.test_util) is deprecated and will be removed in a future version.\n",
      "Instructions for updating:\n",
      "Use `tf.config.list_physical_devices('GPU')` instead.\n",
      "True\n",
      "------------------------------\n",
      "/device:GPU:0\n",
      "------------------------------\n",
      "[PhysicalDevice(name='/physical_device:GPU:0', device_type='GPU')]\n",
      "------------------------------\n",
      "[name: \"/device:CPU:0\"\n",
      "device_type: \"CPU\"\n",
      "memory_limit: 268435456\n",
      "locality {\n",
      "}\n",
      "incarnation: 13469510917499632505\n",
      "xla_global_id: -1\n",
      ", name: \"/device:GPU:0\"\n",
      "device_type: \"GPU\"\n",
      "memory_limit: 10317004800\n",
      "locality {\n",
      "  bus_id: 1\n",
      "  links {\n",
      "  }\n",
      "}\n",
      "incarnation: 7068581912755150143\n",
      "physical_device_desc: \"device: 0, name: NVIDIA TITAN V, pci bus id: 0000:01:00.0, compute capability: 7.0\"\n",
      "xla_global_id: 416903419\n",
      "]\n"
     ]
    }
   ],
   "source": [
    "import tensorflow as tf\n",
    "from tensorflow.python.client import device_lib\n",
    "\n",
    "print(tf.test.is_gpu_available())\n",
    "print('-'*30)\n",
    "print(tf.test.gpu_device_name())\n",
    "print('-'*30)\n",
    "print(tf.config.list_physical_devices('GPU'))\n",
    "print('-'*30)\n",
    "print(device_lib.list_local_devices())"
   ]
  },
  {
   "cell_type": "code",
   "execution_count": 3,
   "id": "d9486fb9-d339-492f-afca-c22e389febdc",
   "metadata": {},
   "outputs": [
    {
     "name": "stdout",
     "output_type": "stream",
     "text": [
      "N:\\2_Analysis\\automated_analysis\\cynch_segmentations\\cynch_additions\\whole_liver_seg/\n",
      "N:\\2_Analysis\\automated_analysis\\cynch_segmentations\\cynch_additions\\segmental_seg_vessels-subtracted-mb/\n",
      "N:\\2_Analysis\\automated_analysis\\cynch_segmentations\\cynch_additions/\n"
     ]
    }
   ],
   "source": [
    "whole_path = r'N:\\2_Analysis\\automated_analysis\\cynch_segmentations\\cynch_additions\\whole_liver_seg/'\n",
    "subseg_path = r'N:\\2_Analysis\\automated_analysis\\cynch_segmentations\\cynch_additions\\segmental_seg_vessels-subtracted-mb/'\n",
    "\n",
    "output_dir = r'N:\\2_Analysis\\automated_analysis\\cynch_segmentations\\cynch_additions/'\n",
    "\n",
    "print(whole_path)\n",
    "print(subseg_path)\n",
    "print(output_dir)"
   ]
  },
  {
   "cell_type": "code",
   "execution_count": 4,
   "id": "5a6c3c6d-65f4-41c8-8fc3-f92c0e75a4e9",
   "metadata": {},
   "outputs": [
    {
     "name": "stdout",
     "output_type": "stream",
     "text": [
      "1\n",
      "1\n"
     ]
    }
   ],
   "source": [
    "whole_seg_paths = []\n",
    "subseg_paths = []\n",
    "\n",
    "for root, dirs, files in os.walk(whole_path):\n",
    "    for file in files:\n",
    "        if file.endswith(\".nii\"):\n",
    "             whole_seg_paths.append(os.path.join(root, file))\n",
    "                \n",
    "for root, dirs, files in os.walk(subseg_path):\n",
    "    for file in files:\n",
    "        if file.endswith(\".nii\"):\n",
    "             subseg_paths.append(os.path.join(root, file))\n",
    "\n",
    "whole_seg_paths = sorted(whole_seg_paths)\n",
    "subseg_paths = sorted(subseg_paths)\n",
    "\n",
    "print(len(whole_seg_paths))\n",
    "print(len(subseg_paths))"
   ]
  },
  {
   "cell_type": "code",
   "execution_count": 9,
   "id": "48a3ff59-75c1-448e-b0e7-479de70bd222",
   "metadata": {},
   "outputs": [
    {
     "data": {
      "text/plain": [
       "' TEST SINGLE VESSEL MASK ONLY '"
      ]
     },
     "execution_count": 9,
     "metadata": {},
     "output_type": "execute_result"
    }
   ],
   "source": [
    "''' TEST SINGLE VESSEL MASK ONLY '''"
   ]
  },
  {
   "cell_type": "code",
   "execution_count": 5,
   "id": "622f5f95-2ae2-41ff-9ea4-bd5f29cf0303",
   "metadata": {},
   "outputs": [
    {
     "name": "stdout",
     "output_type": "stream",
     "text": [
      "N:\\2_Analysis\\automated_analysis\\cynch_segmentations\\cynch_additions\\whole_liver_seg/c_9122.nii\n",
      "N:\\2_Analysis\\automated_analysis\\cynch_segmentations\\cynch_additions\\segmental_seg_vessels-subtracted-mb/c_9122-vessels-mb.nii\n"
     ]
    }
   ],
   "source": [
    "case_id = 'c_9122'\n",
    "\n",
    "whole_seg_id = os.path.join(whole_path + case_id + '.nii')\n",
    "segseg_id = os.path.join(subseg_path + case_id + '-vessels-mb.nii')\n",
    "\n",
    "print(whole_seg_id)\n",
    "print(segseg_id)"
   ]
  },
  {
   "cell_type": "code",
   "execution_count": 6,
   "id": "4ca2af73-055f-47d6-bbc7-fa3d50142b17",
   "metadata": {},
   "outputs": [
    {
     "name": "stdout",
     "output_type": "stream",
     "text": [
      "N:\\2_Analysis\\automated_analysis\\cynch_segmentations\\cynch_additions\\whole_liver_seg/c_9122.nii\n"
     ]
    },
    {
     "data": {
      "image/png": "[encoded data removed]",
      "text/plain": [
       "<Figure size 432x288 with 1 Axes>"
      ]
     },
     "metadata": {
      "needs_background": "light"
     },
     "output_type": "display_data"
    },
    {
     "data": {
      "text/plain": [
       "(224, 224, 27)"
      ]
     },
     "execution_count": 6,
     "metadata": {},
     "output_type": "execute_result"
    }
   ],
   "source": [
    "print(whole_seg_id)\n",
    "whole_ni = nib.load(whole_seg_id)\n",
    "whole = whole_ni.get_fdata()\n",
    "whole = np.flip(np.rot90(whole), 1)\n",
    "\n",
    "whole[whole != 0] = 1\n",
    "\n",
    "plt.imshow(whole[:,:,12],cmap='gray')\n",
    "plt.show()\n",
    "\n",
    "whole.shape"
   ]
  },
  {
   "cell_type": "code",
   "execution_count": 7,
   "id": "b58b2673-ee41-4751-a384-36f66f6970c9",
   "metadata": {},
   "outputs": [
    {
     "name": "stdout",
     "output_type": "stream",
     "text": [
      "N:\\2_Analysis\\automated_analysis\\cynch_segmentations\\cynch_additions\\segmental_seg_vessels-subtracted-mb/c_9122-vessels-mb.nii\n"
     ]
    },
    {
     "data": {
      "image/png": "[encoded data removed]",
      "text/plain": [
       "<Figure size 432x288 with 1 Axes>"
      ]
     },
     "metadata": {
      "needs_background": "light"
     },
     "output_type": "display_data"
    },
    {
     "data": {
      "text/plain": [
       "(224, 224, 27)"
      ]
     },
     "execution_count": 7,
     "metadata": {},
     "output_type": "execute_result"
    }
   ],
   "source": [
    "print(segseg_id)\n",
    "seg_ni = nib.load(segseg_id)\n",
    "seg = seg_ni.get_fdata()\n",
    "seg = np.flip(np.rot90(seg), 1)\n",
    "\n",
    "plt.imshow(seg[:,:,12], cmap='gray')\n",
    "plt.show()\n",
    "\n",
    "seg.shape"
   ]
  },
  {
   "cell_type": "code",
   "execution_count": 8,
   "id": "4fa408a6-cdcf-4c0a-8920-e901e3ca906a",
   "metadata": {},
   "outputs": [
    {
     "data": {
      "text/plain": [
       "<function matplotlib.pyplot.show(close=None, block=None)>"
      ]
     },
     "execution_count": 8,
     "metadata": {},
     "output_type": "execute_result"
    },
    {
     "data": {
      "image/png": "[encoded data removed]",
      "text/plain": [
       "<Figure size 432x288 with 1 Axes>"
      ]
     },
     "metadata": {
      "needs_background": "light"
     },
     "output_type": "display_data"
    }
   ],
   "source": [
    "whole[seg != 0] = 0\n",
    "\n",
    "plt.imshow(whole[:,:,12],cmap='gray')\n",
    "plt.show"
   ]
  },
  {
   "cell_type": "code",
   "execution_count": 9,
   "id": "d1072208-9018-4e11-bf27-2c1e5e469258",
   "metadata": {},
   "outputs": [],
   "source": [
    "seg_vessel_ni = nib.Nifti1Image(np.flip(np.rot90(whole,3),0), whole_ni.affine)\n",
    "nib.save(seg_vessel_ni, os.path.join(output_dir + case_id))"
   ]
  },
  {
   "cell_type": "code",
   "execution_count": null,
   "id": "db3b8a9d-5d4b-498c-9a92-742cc2b23707",
   "metadata": {},
   "outputs": [],
   "source": []
  },
  {
   "cell_type": "code",
   "execution_count": null,
   "id": "3a921bb8-9151-4a9a-b2b8-19d0cd9fc2ad",
   "metadata": {},
   "outputs": [],
   "source": []
  },
  {
   "cell_type": "code",
   "execution_count": null,
   "id": "e69478ae-075c-40c3-8fa7-935ccc196f48",
   "metadata": {},
   "outputs": [],
   "source": []
  },
  {
   "cell_type": "code",
   "execution_count": 28,
   "id": "94cd48c8-9ee1-4429-824a-3c7a238ffeac",
   "metadata": {},
   "outputs": [
    {
     "data": {
      "text/plain": [
       "' CREATE VESSEL MASKS FOR ENTIRE DIRECTORY '"
      ]
     },
     "execution_count": 28,
     "metadata": {},
     "output_type": "execute_result"
    }
   ],
   "source": [
    "''' CREATE VESSEL MASKS FOR ENTIRE DIRECTORY '''"
   ]
  },
  {
   "cell_type": "code",
   "execution_count": 52,
   "id": "ab1e70e4-b95c-4e2f-b680-2d32aed0545f",
   "metadata": {},
   "outputs": [],
   "source": [
    "test = whole_seg_paths[:4]"
   ]
  },
  {
   "cell_type": "code",
   "execution_count": null,
   "id": "44aca674-2afc-42e4-a2e4-1e12d031bfe5",
   "metadata": {},
   "outputs": [],
   "source": [
    "for i in whole_seg_paths:\n",
    "    case_id = i[107:][:6]\n",
    "    print(i)\n",
    "    \n",
    "    whole_ni = nib.load(i)\n",
    "    whole = whole_ni.get_fdata()\n",
    "    whole = np.flip(np.rot90(whole), 1)\n",
    "    \n",
    "    seg_ni = nib.load(os.path.join(subseg_path + case_id + '_edited.nii'))\n",
    "    seg = seg_ni.get_fdata()\n",
    "    seg = np.flip(np.rot90(seg), 1)\n",
    "\n",
    "    whole[whole != 0] = 1\n",
    "    whole[seg != 0] = 0\n",
    "                      \n",
    "    seg_vessel_ni = nib.Nifti1Image(np.flip(np.rot90(whole,3),0), whole_ni.affine)\n",
    "    nib.save(seg_vessel_ni, os.path.join(output_dir + case_id + '.nii'))"
   ]
  },
  {
   "cell_type": "code",
   "execution_count": null,
   "id": "253605d5-3e59-462b-90df-cbe6d9a14989",
   "metadata": {},
   "outputs": [],
   "source": []
  }
 ],
 "metadata": {
  "kernelspec": {
   "display_name": "gpu",
   "language": "python",
   "name": "gpu"
  },
  "language_info": {
   "codemirror_mode": {
    "name": "ipython",
    "version": 3
   },
   "file_extension": ".py",
   "mimetype": "text/x-python",
   "name": "python",
   "nbconvert_exporter": "python",
   "pygments_lexer": "ipython3",
   "version": "3.9.7"
  }
 },
 "nbformat": 4,
 "nbformat_minor": 5
}
