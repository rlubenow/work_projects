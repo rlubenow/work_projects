{
 "cells": [
  {
   "cell_type": "code",
   "execution_count": 1,
   "id": "05a694db-cc1a-4027-8112-5d36b88adaed",
   "metadata": {},
   "outputs": [],
   "source": [
    "import nibabel as nib\n",
    "from pydicom import dcmread\n",
    "import numpy as np\n",
    "import os"
   ]
  },
  {
   "cell_type": "code",
   "execution_count": 5,
   "id": "8d85c202-ce5e-43a4-a356-af6bd53726e6",
   "metadata": {},
   "outputs": [],
   "source": [
    "dcm_dir = r'N:\\2_Analysis\\automated_analysis\\Flint_SOT_EOT_volume\\dicoms\\FLINT_EOT'\n",
    "nii_dir = r'N:\\2_Analysis\\automated_analysis\\Flint_SOT_EOT_volume\\nii files\\FLINT_EOT_NII'\n",
    "output = r'N:\\2_Analysis\\automated_analysis\\Flint_SOT_EOT_volume\\nii files\\FLINT_EOT_NII_CORRECTED_AFFINE'"
   ]
  },
  {
   "cell_type": "code",
   "execution_count": 3,
   "id": "7db282c7-4504-4dc1-a08b-5cc5417e618f",
   "metadata": {},
   "outputs": [
    {
     "data": {
      "text/plain": [
       "84"
      ]
     },
     "execution_count": 3,
     "metadata": {},
     "output_type": "execute_result"
    }
   ],
   "source": [
    "patient_id = []\n",
    "\n",
    "for root, dirs, files in os.walk(dcm_dir):\n",
    "    for dirs in dirs:\n",
    "        if dirs.startswith('f_'):\n",
    "            patient_id.append(dirs)\n",
    "            \n",
    "len(patient_id)"
   ]
  },
  {
   "cell_type": "code",
   "execution_count": 7,
   "id": "acd45bf6-1db2-43a6-a5d6-88095ebb0940",
   "metadata": {},
   "outputs": [
    {
     "name": "stdout",
     "output_type": "stream",
     "text": [
      "f_7315 did not work\n",
      "f_7323 did not work\n"
     ]
    }
   ],
   "source": [
    "for i in patient_id:\n",
    "    try:\n",
    "        dcm_list = []\n",
    "\n",
    "        for root, dirs, files in os.walk(os.path.join(dcm_dir, i)):\n",
    "            for file in files:\n",
    "                if file.endswith('.dcm'):\n",
    "                    dcm_list.append(os.path.join(root, file))\n",
    "                    \n",
    "        dcm = dcmread(dcm_list[0])\n",
    "    \n",
    "        pixel_spacing = dcm.PixelSpacing\n",
    "        slice_gap = dcm.SliceThickness\n",
    "        \n",
    "        col_ratio = dcm.Columns / 224\n",
    "        row_ratio = dcm.Rows / 224\n",
    "    \n",
    "        affine = np.eye(4)\n",
    "        affine[0][0] = pixel_spacing[0] * col_ratio\n",
    "        affine[1][1] = pixel_spacing[1] * row_ratio\n",
    "        affine[2][2] = slice_gap\n",
    "    \n",
    "        nifti = nib.load(os.path.join(nii_dir, i + '_EOT.nii')).get_fdata()\n",
    "    \n",
    "        new_img = nib.Nifti1Image(nifti, affine = affine)\n",
    "        nib.save(new_img, os.path.join(output, i + '_EOT.nii'))\n",
    "    except:\n",
    "        print(i + ' did not work')"
   ]
  },
  {
   "cell_type": "code",
   "execution_count": null,
   "id": "5287bda9-765e-454d-b750-a6e5cd5b511a",
   "metadata": {},
   "outputs": [],
   "source": []
  }
 ],
 "metadata": {
  "kernelspec": {
   "display_name": "gpu",
   "language": "python",
   "name": "gpu"
  },
  "language_info": {
   "codemirror_mode": {
    "name": "ipython",
    "version": 3
   },
   "file_extension": ".py",
   "mimetype": "text/x-python",
   "name": "python",
   "nbconvert_exporter": "python",
   "pygments_lexer": "ipython3",
   "version": "3.9.7"
  }
 },
 "nbformat": 4,
 "nbformat_minor": 5
}
