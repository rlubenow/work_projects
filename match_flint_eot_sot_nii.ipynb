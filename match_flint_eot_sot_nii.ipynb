{
 "cells": [
  {
   "cell_type": "code",
   "execution_count": 2,
   "id": "be534278-f5e9-4d37-8e56-b404d7e561db",
   "metadata": {},
   "outputs": [],
   "source": [
    "import shutil, os"
   ]
  },
  {
   "cell_type": "code",
   "execution_count": 3,
   "id": "20c798d4-7cb0-43f8-af40-ab19b1b2e1fe",
   "metadata": {},
   "outputs": [],
   "source": [
    "flint_eot_nii = r'N:\\2_Analysis\\automated_analysis\\Flint_SOT_EOT_volume\\nii files\\FLINT_SOT_NII'\n",
    "liver_seg = r'N:\\2_Analysis\\automated_analysis\\flint_segmentations\\analysis_masks\\human_corrected_without_vessel_removal'\n",
    "\n",
    "dest = r'N:\\2_Analysis\\automated_analysis\\Flint_SOT_EOT_volume\\nii files\\FLINT_SOT_WHOLE_LIVER_MASKS_NII'"
   ]
  },
  {
   "cell_type": "code",
   "execution_count": 6,
   "id": "7044866f-f87f-47ad-80bc-1d58f8984836",
   "metadata": {},
   "outputs": [],
   "source": [
    "flint_eot = []\n",
    "\n",
    "for root, dirs, files in os.walk(flint_eot_nii):\n",
    "    for file in files:\n",
    "        if file.endswith('.nii'):\n",
    "            file = file[:6] + '_edited.nii'\n",
    "            flint_eot.append(file)"
   ]
  },
  {
   "cell_type": "code",
   "execution_count": 9,
   "id": "12fd8ddd-7caa-4375-8244-0eb2f0f14751",
   "metadata": {},
   "outputs": [
    {
     "data": {
      "text/plain": [
       "(['f_2421_edited.nii',\n",
       "  'f_2422_edited.nii',\n",
       "  'f_2423_edited.nii',\n",
       "  'f_2429_edited.nii',\n",
       "  'f_2433_edited.nii'],\n",
       " 83)"
      ]
     },
     "execution_count": 9,
     "metadata": {},
     "output_type": "execute_result"
    }
   ],
   "source": [
    "flint_eot[:5], len(flint_eot)"
   ]
  },
  {
   "cell_type": "code",
   "execution_count": 10,
   "id": "b8e0a398-70d2-481c-a472-8be2a04fa158",
   "metadata": {},
   "outputs": [
    {
     "name": "stdout",
     "output_type": "stream",
     "text": [
      "f_2429_edited.nii does not have whole liver segmentation\n",
      "f_3325_edited.nii does not have whole liver segmentation\n",
      "f_5443_edited.nii does not have whole liver segmentation\n",
      "f_7315_edited.nii does not have whole liver segmentation\n",
      "f_7325_edited.nii does not have whole liver segmentation\n",
      "f_8391_edited.nii does not have whole liver segmentation\n"
     ]
    }
   ],
   "source": [
    "for i in flint_eot:\n",
    "    try:\n",
    "        shutil.copy(os.path.join(liver_seg, i), dest)\n",
    "    except:\n",
    "        print(i + ' does not have whole liver segmentation')"
   ]
  },
  {
   "cell_type": "code",
   "execution_count": null,
   "id": "b2b8d8d0-e23a-4a0d-a709-09a6619c1f42",
   "metadata": {},
   "outputs": [],
   "source": []
  }
 ],
 "metadata": {
  "kernelspec": {
   "display_name": "gpu",
   "language": "python",
   "name": "gpu"
  },
  "language_info": {
   "codemirror_mode": {
    "name": "ipython",
    "version": 3
   },
   "file_extension": ".py",
   "mimetype": "text/x-python",
   "name": "python",
   "nbconvert_exporter": "python",
   "pygments_lexer": "ipython3",
   "version": "3.9.7"
  }
 },
 "nbformat": 4,
 "nbformat_minor": 5
}
