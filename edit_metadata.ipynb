{
 "cells": [
  {
   "cell_type": "code",
   "execution_count": 5,
   "id": "b295d040-8fbd-4556-b8a2-16b896cd600c",
   "metadata": {},
   "outputs": [],
   "source": [
    "import os\n",
    "import pydicom\n",
    "import pandas as pd\n",
    "import numpy as np\n",
    "import datetime\n",
    "\n",
    "from datetime import date, timedelta\n",
    "from pydicom import dcmread"
   ]
  },
  {
   "cell_type": "code",
   "execution_count": 6,
   "id": "c5d43bf8-ee27-4597-a105-b728373f61c0",
   "metadata": {},
   "outputs": [
    {
     "name": "stdout",
     "output_type": "stream",
     "text": [
      "N:\\1_Databases\\_Research\\DOD AMRI\\7. Images\\Ultrasounds\n"
     ]
    }
   ],
   "source": [
    "study_folder = r'N:\\1_Databases\\_Research\\DOD AMRI\\7. Images\\Ultrasounds'\n",
    "print(study_folder)"
   ]
  },
  {
   "cell_type": "code",
   "execution_count": 7,
   "id": "747301b0-850e-4eef-aedb-6dc2dc54c119",
   "metadata": {},
   "outputs": [],
   "source": [
    "def get_all_paths(study_folder):\n",
    "    paths=[]\n",
    "    for path in os.listdir(study_folder):\n",
    "        rpath = os.path.join(study_folder, path)\n",
    "        paths.append(rpath)\n",
    "    return paths"
   ]
  },
  {
   "cell_type": "code",
   "execution_count": 8,
   "id": "3fa1bbd8-f177-40d4-ab9e-1a3f22a60295",
   "metadata": {},
   "outputs": [
    {
     "name": "stdout",
     "output_type": "stream",
     "text": [
      "81\n",
      "N:\\1_Databases\\_Research\\DOD AMRI\\7. Images\\Ultrasounds\\DOD-002\n"
     ]
    }
   ],
   "source": [
    "all_paths = get_all_paths(study_folder)\n",
    "print(len(all_paths))\n",
    "print(all_paths[1])"
   ]
  },
  {
   "cell_type": "code",
   "execution_count": 9,
   "id": "e42b8084-aa9c-4d4c-8d53-91cbd5778651",
   "metadata": {},
   "outputs": [],
   "source": [
    "dcm_paths = []\n",
    "\n",
    "for root, dirs, files in os.walk(study_folder):\n",
    "    for file in files:\n",
    "        if file.endswith(\".dcm\"):\n",
    "             dcm_paths.append(os.path.join(root, file))"
   ]
  },
  {
   "cell_type": "code",
   "execution_count": 10,
   "id": "7ee3f709-6cf2-4a46-87e6-29eb2b856870",
   "metadata": {},
   "outputs": [
    {
     "name": "stdout",
     "output_type": "stream",
     "text": [
      "7882\n",
      "N:\\1_Databases\\_Research\\DOD AMRI\\7. Images\\Ultrasounds\\DOD-001\\unnamed - 0\\unnamed_1\\IM-0001-0000.dcm\n"
     ]
    }
   ],
   "source": [
    "print(len(dcm_paths))\n",
    "print(dcm_paths[0])"
   ]
  },
  {
   "cell_type": "code",
   "execution_count": 11,
   "id": "48de9a3c-6c2f-4edf-9e79-eb658993bcfe",
   "metadata": {},
   "outputs": [
    {
     "data": {
      "text/plain": [
       "Dataset.file_meta -------------------------------\n",
       "(0002, 0000) File Meta Information Group Length  UL: 218\n",
       "(0002, 0001) File Meta Information Version       OB: b'\\x00\\x01'\n",
       "(0002, 0002) Media Storage SOP Class UID         UI: Ultrasound Image Storage\n",
       "(0002, 0003) Media Storage SOP Instance UID      UI: 1.2.840.113654.2.70.1.315918217264386651866775191447476890958\n",
       "(0002, 0010) Transfer Syntax UID                 UI: Explicit VR Little Endian\n",
       "(0002, 0012) Implementation Class UID            UI: 1.2.276.0.7238010.5.0.3.5.4\n",
       "(0002, 0013) Implementation Version Name         SH: 'OSIRIX'\n",
       "(0002, 0016) Source Application Entity Title     AE: 'MR3T_OSIRIX'\n",
       "-------------------------------------------------\n",
       "(0008, 0005) Specific Character Set              CS: 'ISO_IR 100'\n",
       "(0008, 0008) Image Type                          CS: ['ORIGINAL', 'PRIMARY', 'ABDOMINAL', '0001', 'GEMSSINGLEFRAME', 'GEMSMGCOUNT1']\n",
       "(0008, 0016) SOP Class UID                       UI: Ultrasound Image Storage\n",
       "(0008, 0018) SOP Instance UID                    UI: 1.2.840.113654.2.70.1.315918217264386651866775191447476890958\n",
       "(0008, 0020) Study Date                          DA: '20190207'\n",
       "(0008, 0021) Series Date                         DA: '20190207'\n",
       "(0008, 0023) Content Date                        DA: '20190207'\n",
       "(0008, 0030) Study Time                          TM: '112700.000'\n",
       "(0008, 0031) Series Time                         TM: '112700.000'\n",
       "(0008, 0033) Content Time                        TM: '114714'\n",
       "(0008, 0050) Accession Number                    SH: '8852288437993911'\n",
       "(0008, 0060) Modality                            CS: 'US'\n",
       "(0008, 0070) Manufacturer                        LO: 'GE Healthcare'\n",
       "(0008, 0090) Referring Physician's Name          PN: ''\n",
       "(0008, 1090) Manufacturer's Model Name           LO: 'LOGIQE9'\n",
       "(0010, 0010) Patient's Name                      PN: '305091'\n",
       "(0010, 0020) Patient ID                          LO: 'DOD-001'\n",
       "(0010, 0024)  Issuer of Patient ID Qualifiers Sequence  1 item(s) ---- \n",
       "   (0040, 0032) Universal Entity ID                 UT: 'UCSDHS01'\n",
       "   (0040, 0033) Universal Entity ID Type            CS: 'L'\n",
       "   ---------\n",
       "(0010, 0030) Patient's Birth Date                DA: ''\n",
       "(0010, 0040) Patient's Sex                       CS: 'O'\n",
       "(0010, 1010) Patient's Age                       AS: '069Y'\n",
       "(0012, 0030) Clinical Trial Site ID              LO: '181260'\n",
       "(0012, 0062) Patient Identity Removed            CS: 'YES'\n",
       "(0012, 0063) De-identification Method            LO: 'CTP Default:  based on DICOM PS3.15 AnnexE. Details in 0012,0064'\n",
       "(0012, 0064)  De-identification Method Code Sequence  5 item(s) ---- \n",
       "   (0008, 0100) Code Value                          SH: '113100'\n",
       "   (0008, 0102) Coding Scheme Designator            SH: 'DCM'\n",
       "   (0008, 0104) Code Meaning                        LO: 'Basic Application Confidentiality Profile'\n",
       "   ---------\n",
       "   (0008, 0100) Code Value                          SH: '113105'\n",
       "   (0008, 0102) Coding Scheme Designator            SH: 'DCM'\n",
       "   (0008, 0104) Code Meaning                        LO: 'Clean Descriptors Option'\n",
       "   ---------\n",
       "   (0008, 0100) Code Value                          SH: '113107'\n",
       "   (0008, 0102) Coding Scheme Designator            SH: 'DCM'\n",
       "   (0008, 0104) Code Meaning                        LO: 'Retain Longitudinal Temporal Information Modified Dates Option'\n",
       "   ---------\n",
       "   (0008, 0100) Code Value                          SH: '113108'\n",
       "   (0008, 0102) Coding Scheme Designator            SH: 'DCM'\n",
       "   (0008, 0104) Code Meaning                        LO: 'Retain Patient Characteristics Option'\n",
       "   ---------\n",
       "   (0008, 0100) Code Value                          SH: '113109'\n",
       "   (0008, 0102) Coding Scheme Designator            SH: 'DCM'\n",
       "   (0008, 0104) Code Meaning                        LO: 'Retain Device Identity Option'\n",
       "   ---------\n",
       "(0018, 1000) Device Serial Number                LO: '137723US3'\n",
       "(0018, 1020) Software Versions                   LO: 'LOGIQE9:R6.1.3'\n",
       "(0018, 1088) Heart Rate                          IS: '-1'\n",
       "(0018, 6011)  Sequence of Ultrasound Regions  1 item(s) ---- \n",
       "   (0018, 6012) Region Spatial Format               US: 1\n",
       "   (0018, 6014) Region Data Type                    US: 1\n",
       "   (0018, 6016) Region Flags                        UL: 0\n",
       "   (0018, 6018) Region Location Min X0              UL: 2\n",
       "   (0018, 601a) Region Location Min Y0              UL: 133\n",
       "   (0018, 601c) Region Location Max X1              UL: 1173\n",
       "   (0018, 601e) Region Location Max Y1              UL: 632\n",
       "   (0018, 6020) Reference Pixel X0                  SL: 586\n",
       "   (0018, 6022) Reference Pixel Y0                  SL: -38\n",
       "   (0018, 6024) Physical Units X Direction          US: 3\n",
       "   (0018, 6026) Physical Units Y Direction          US: 3\n",
       "   (0018, 6028) Reference Pixel Physical Value X    FD: 0.0\n",
       "   (0018, 602a) Reference Pixel Physical Value Y    FD: 0.0\n",
       "   (0018, 602c) Physical Delta X                    FD: 0.03381349502052021\n",
       "   (0018, 602e) Physical Delta Y                    FD: 0.03381349502052021\n",
       "   (0018, 6030) Transducer Frequency                UL: 3000\n",
       "   ---------\n",
       "(0018, 6031) Transducer Type                     CS: 'CURVED LINEAR'\n",
       "(0020, 000d) Study Instance UID                  UI: 1.2.840.113654.2.70.1.144411780449417489855761943421374528859\n",
       "(0020, 000e) Series Instance UID                 UI: 1.2.840.113654.2.70.1.306517621435394020641013816791326649373\n",
       "(0020, 0010) Study ID                            SH: ''\n",
       "(0020, 0011) Series Number                       IS: '1'\n",
       "(0020, 0013) Instance Number                     IS: '10240'\n",
       "(0020, 0020) Patient Orientation                 CS: ''\n",
       "(0028, 0002) Samples per Pixel                   US: 1\n",
       "(0028, 0004) Photometric Interpretation          CS: 'MONOCHROME2'\n",
       "(0028, 0006) Planar Configuration                US: 0\n",
       "(0028, 0010) Rows                                US: 720\n",
       "(0028, 0011) Columns                             US: 1280\n",
       "(0028, 0100) Bits Allocated                      US: 8\n",
       "(0028, 0101) Bits Stored                         US: 8\n",
       "(0028, 0102) High Bit                            US: 7\n",
       "(0028, 0103) Pixel Representation                US: 0\n",
       "(0028, 0303) Longitudinal Temporal Information M CS: 'MODIFIED'\n",
       "(0028, 1050) Window Center                       DS: '127.0'\n",
       "(0028, 1051) Window Width                        DS: '256.0'\n",
       "(0028, 2110) Lossy Image Compression             CS: '00'\n",
       "(0032, 000a) Study Status ID                     CS: 'COMPLETED'\n",
       "(0032, 1040) Study Arrival Date                  DA: '20190209'\n",
       "(0032, 1041) Study Arrival Time                  TM: '025902.000'\n",
       "(0032, 1050) Study Completion Date               DA: '20190209'\n",
       "(0032, 1051) Study Completion Time               TM: '030109.000'\n",
       "(7fe0, 0010) Pixel Data                          OB: Array of 921600 elements"
      ]
     },
     "execution_count": 11,
     "metadata": {},
     "output_type": "execute_result"
    }
   ],
   "source": [
    "dcm = dcmread(dcm_paths[4])\n",
    "dcm"
   ]
  },
  {
   "cell_type": "code",
   "execution_count": 12,
   "id": "5bfdca90-3f42-4e12-9c38-56805588ff4e",
   "metadata": {},
   "outputs": [
    {
     "name": "stdout",
     "output_type": "stream",
     "text": [
      "N:\\1_Databases\\_Research\\DOD AMRI\\7. Images\\Ultrasounds\\DOD-099\\unnamed - 0\\unnamed_1\\IM-0021-9984.dcmm7-9984.dcmm.dcm4.dcmm\r"
     ]
    }
   ],
   "source": [
    "''' CHANGE PATIENT NAME ONLY '''\n",
    "\n",
    "for i in dcm_paths:\n",
    " \n",
    "    #print(i + '               ', end = '\\r') space after i is so that it always replaces the leftover text\n",
    "    print(i, end='\\r')\n",
    "               \n",
    "    dcm = dcmread(i)\n",
    "\n",
    "    \n",
    "    # Change PatientName\n",
    "    patient_ID = dcm.PatientID\n",
    "    dcm.PatientName = patient_ID\n",
    "\n",
    "\n",
    "    dcm.save_as(i)"
   ]
  },
  {
   "cell_type": "code",
   "execution_count": null,
   "id": "d9f85422-e0df-489a-ba7d-da247f0e793e",
   "metadata": {},
   "outputs": [],
   "source": []
  },
  {
   "cell_type": "code",
   "execution_count": null,
   "id": "96735333-1d07-4373-90d6-a10681ff02e0",
   "metadata": {},
   "outputs": [],
   "source": []
  },
  {
   "cell_type": "code",
   "execution_count": null,
   "id": "0c879d0f-da4b-4374-be1c-029896ddef37",
   "metadata": {},
   "outputs": [],
   "source": []
  },
  {
   "cell_type": "code",
   "execution_count": null,
   "id": "d9f600e4-f54c-4174-a368-793a52707f68",
   "metadata": {},
   "outputs": [],
   "source": [
    "''' CHANGE PATIENT ID AND DATE '''\n",
    "\n",
    "for i in dcm_paths:\n",
    " \n",
    "    #print(i + '               ', end = '\\r') space after i is so that it always replaces the leftover text\n",
    "    print(i, end='\\r')\n",
    "               \n",
    "    dcm = dcmread(i)\n",
    "\n",
    "    \n",
    "    # Change PatientName\n",
    "    patient_ID = dcm.PatientID\n",
    "    dcm.PatientName = patient_ID\n",
    "    \n",
    "    \n",
    "    # Change Dates -181 days\n",
    "    td = timedelta(-181)\n",
    "    \n",
    "    date1 = dcm.StudyDate\n",
    "    year1 = int(date1[:4])\n",
    "    month1 = int(date1[4:6])\n",
    "    day1 = int(date1[6:8])\n",
    "    d1 = date(year1,month1,day1)\n",
    "    newdate1 = d1 + td\n",
    "    dcm.StudyDate = newdate1\n",
    "    \n",
    "    date2 = dcm.SeriesDate\n",
    "    year2 = int(date2[:4])\n",
    "    month2 = int(date2[4:6])\n",
    "    day2 = int(date2[6:8])\n",
    "    d2 = date(year2,month2,day2)\n",
    "    newdate2 = d2 + td\n",
    "    dcm.SeriesDate = newdate2\n",
    "    \n",
    "    date3 = dcm.AcquisitionDate\n",
    "    year3 = int(date3[:4])\n",
    "    month3 = int(date3[4:6])\n",
    "    day3 = int(date3[6:8])\n",
    "    d3 = date(year3,month3,day3)\n",
    "    newdate3 = d3 + td\n",
    "    dcm.AcquisitionDate = newdate3\n",
    "    \n",
    "    date4 = dcm.ContentDate\n",
    "    year4 = int(date4[:4])\n",
    "    month4 = int(date4[4:6])\n",
    "    day4 = int(date4[6:8])\n",
    "    d4 = date(year4,month4,day4)\n",
    "    newdate4 = d4 + td\n",
    "    dcm.ContentDate = newdate4\n",
    "    \n",
    "    date5 = dcm.StudyArrivalDate\n",
    "    year5 = int(date5[:4])\n",
    "    month5 = int(date5[4:6])\n",
    "    day5 = int(date5[6:8])\n",
    "    d5 = date(year5,month5,day5)\n",
    "    newdate5 = d5 + td\n",
    "    dcm.StudyArrivalDate = newdate5\n",
    "    \n",
    "    date6 = dcm.StudyCompletionDate\n",
    "    year6 = int(date6[:4])\n",
    "    month6 = int(date6[4:6])\n",
    "    day6 = int(date6[6:8])\n",
    "    d6 = date(year6,month6,day6)\n",
    "    newdate6 = d6 + td\n",
    "    dcm.StudyCompletionDate = newdate6\n",
    "    \n",
    "    date7 = dcm.PerformedProcedureStepStartDate\n",
    "    year7 = int(date7[:4])\n",
    "    month7 = int(date7[4:6])\n",
    "    day7 = int(date7[6:8])\n",
    "    d7 = date(year7,month7,day7)\n",
    "    newdate7 = d7 + td\n",
    "    dcm.PerformedProcedureStepStartDate = newdate7\n",
    "    \n",
    "\n",
    "    dcm.save_as(i)"
   ]
  }
 ],
 "metadata": {
  "kernelspec": {
   "display_name": "gpu",
   "language": "python",
   "name": "gpu"
  },
  "language_info": {
   "codemirror_mode": {
    "name": "ipython",
    "version": 3
   },
   "file_extension": ".py",
   "mimetype": "text/x-python",
   "name": "python",
   "nbconvert_exporter": "python",
   "pygments_lexer": "ipython3",
   "version": "3.9.7"
  }
 },
 "nbformat": 4,
 "nbformat_minor": 5
}
