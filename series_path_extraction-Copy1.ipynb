{
 "cells": [
  {
   "cell_type": "code",
   "execution_count": 32,
   "id": "4019419e-4e26-46c7-a513-640e75355d5e",
   "metadata": {},
   "outputs": [],
   "source": [
    "import os\n",
    "import pandas as pd\n",
    "import numpy as np"
   ]
  },
  {
   "cell_type": "code",
   "execution_count": 33,
   "id": "71195745-c5d0-4668-90ce-289850e10cf4",
   "metadata": {},
   "outputs": [],
   "source": [
    "study_folder = r'N:\\1_Databases\\_Research\\Pediatric Pilot QUS\\MR exams'\n",
    "output_dest = r'N:\\2_Analysis\\automated_analysis\\PQUS_IDEAL_Volume'"
   ]
  },
  {
   "cell_type": "code",
   "execution_count": 34,
   "id": "54f33d65-420a-4002-a7e3-061019f00141",
   "metadata": {},
   "outputs": [
    {
     "name": "stdout",
     "output_type": "stream",
     "text": [
      "Input Directory:   N:\\2_Analysis\\_Research\\LIG\\WLS Phase 2\\UW\\WLS01\n",
      "Output Directory:  \n"
     ]
    }
   ],
   "source": [
    "print('Input Directory:  ', study_folder)\n",
    "print('Output Directory: ', output_dest)"
   ]
  },
  {
   "cell_type": "code",
   "execution_count": 35,
   "id": "dcb94321-f682-41b5-8cf5-31d6065aa2d0",
   "metadata": {},
   "outputs": [],
   "source": [
    "series_paths = []\n",
    "\n",
    "for root, dirs, files in os.walk(study_folder):\n",
    "    for dirs in dirs:\n",
    "        upper_dir = dirs\n",
    "        dirs = dirs.lower()\n",
    "        if dirs.startswith('WATER_3D_Ax_IDEAL_IQ'):\n",
    "            #print(os.path.join(root, upper_dir))\n",
    "            series_paths.append(os.path.join(root,upper_dir))"
   ]
  },
  {
   "cell_type": "code",
   "execution_count": 36,
   "id": "57445870-24cf-4fa7-b907-5832c343446d",
   "metadata": {},
   "outputs": [
    {
     "name": "stdout",
     "output_type": "stream",
     "text": [
      "2522\n"
     ]
    }
   ],
   "source": [
    "print(len(series_paths))"
   ]
  },
  {
   "cell_type": "code",
   "execution_count": 37,
   "id": "62858511-48c7-4abc-9ba0-e90006c90ee2",
   "metadata": {},
   "outputs": [
    {
     "name": "stdout",
     "output_type": "stream",
     "text": [
      "(2522, 1)\n"
     ]
    }
   ],
   "source": [
    "df2D = pd.DataFrame({\"series_path\": series_paths})\n",
    "\n",
    "print(df2D.shape)"
   ]
  },
  {
   "cell_type": "code",
   "execution_count": 38,
   "id": "57607cee-fa9a-42bf-a739-cd27cdae0f68",
   "metadata": {},
   "outputs": [],
   "source": [
    "df2D['series_prefix'] = df2D['series_path'].str.split('Phs').str[0]\n",
    "df2D['folder_name'] = df2D['series_path'].str.split('Phs').str[-1]#.str[:-2]\n",
    "df2D['folder_name'] = 'Phs' + df2D['folder_name']\n",
    "df2D.loc[df2D['folder_name'].str.contains('quant', case=False), 'folder_name'] = ''\n",
    "df2D.loc[df2D['folder_name'].str.contains('100', case=False), 'folder_name'] = ''\n",
    "df2D.loc[df2D['folder_name'].str.contains('101', case=False), 'folder_name'] = ''\n",
    "df2D.loc[df2D['folder_name'].str.contains('102', case=False), 'folder_name'] = ''\n",
    "df2D.loc[df2D['folder_name'].str.contains('103', case=False), 'folder_name'] = ''\n",
    "df2D.loc[df2D['folder_name'].str.contains('104', case=False), 'folder_name'] = ''\n",
    "df2D.loc[df2D['folder_name'].str.contains('105', case=False), 'folder_name'] = ''\n",
    "df2D.loc[df2D['folder_name'].str.contains('106', case=False), 'folder_name'] = ''\n",
    "df2D.loc[df2D['folder_name'].str.contains('107', case=False), 'folder_name'] = ''\n",
    "df2D['folder_name'].replace('', np.nan, inplace=True)\n",
    "df2D.dropna(subset = ['folder_name'], inplace=True)\n",
    "df2D['series_path'] = df2D['series_prefix'] + df2D['folder_name']\n",
    "df2D.drop(['series_prefix','folder_name'], axis=1, inplace=True);"
   ]
  },
  {
   "cell_type": "code",
   "execution_count": 39,
   "id": "12beec92-47d0-4971-955c-8c70978f55c1",
   "metadata": {},
   "outputs": [
    {
     "name": "stdout",
     "output_type": "stream",
     "text": [
      "(281, 1)\n"
     ]
    }
   ],
   "source": [
    "print(df2D.shape)"
   ]
  },
  {
   "cell_type": "code",
   "execution_count": null,
   "id": "a21e38e6-6cb1-4650-ae01-6e86ff12007d",
   "metadata": {},
   "outputs": [],
   "source": [
    "df2D.to_excel(os.path.join(output_dest, 'N:\\2_Analysis\\automated_analysis\\PQUS_IDEAL_Volume\\volume_analysis_results.xlsx'), index = False, header = True)"
   ]
  },
  {
   "cell_type": "code",
   "execution_count": null,
   "id": "07122eb6-1681-4250-a505-2609aa016a4c",
   "metadata": {},
   "outputs": [],
   "source": []
  }
 ],
 "metadata": {
  "kernelspec": {
   "display_name": "gpu",
   "language": "python",
   "name": "gpu"
  },
  "language_info": {
   "codemirror_mode": {
    "name": "ipython",
    "version": 3
   },
   "file_extension": ".py",
   "mimetype": "text/x-python",
   "name": "python",
   "nbconvert_exporter": "python",
   "pygments_lexer": "ipython3",
   "version": "3.9.7"
  }
 },
 "nbformat": 4,
 "nbformat_minor": 5
}
