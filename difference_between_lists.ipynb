{
 "cells": [
  {
   "cell_type": "code",
   "execution_count": 1,
   "metadata": {},
   "outputs": [],
   "source": [
    "import os, glob\n",
    "import nibabel as nib\n",
    "import numpy as np\n",
    "import matplotlib.pyplot as plt\n",
    "import pandas as pd"
   ]
  },
  {
   "cell_type": "code",
   "execution_count": 14,
   "metadata": {},
   "outputs": [],
   "source": [
    "dir1 = r'N:\\2_Analysis\\automated_analysis\\RSNA_WLS_DATA_AUTOMATED\\UCSD_2D_MRE.xlsx'\n",
    "dir2 = r'WLS_UCSD_PHS_MAG_PATHS.xlsx'"
   ]
  },
  {
   "cell_type": "code",
   "execution_count": 24,
   "metadata": {},
   "outputs": [
    {
     "name": "stdout",
     "output_type": "stream",
     "text": [
      "46\n"
     ]
    }
   ],
   "source": [
    "dir1_csv = pd.read_excel(dir1)\n",
    "dir1_list = dir1_csv['series_path'].tolist()\n",
    "print(len(dir1_list))"
   ]
  },
  {
   "cell_type": "code",
   "execution_count": 25,
   "metadata": {},
   "outputs": [
    {
     "name": "stdout",
     "output_type": "stream",
     "text": [
      "73\n"
     ]
    }
   ],
   "source": [
    "dir2_csv = pd.read_excel(dir2)\n",
    "dir2_list = dir2_csv['series_path'].tolist()\n",
    "print(len(dir2_list))"
   ]
  },
  {
   "cell_type": "code",
   "execution_count": 29,
   "metadata": {},
   "outputs": [
    {
     "name": "stdout",
     "output_type": "stream",
     "text": [
      "['N:\\\\2_Analysis\\\\_Research\\\\LIG\\\\WLS Phase 2\\\\UCSD\\\\WLS02\\\\WLS02_001\\\\WLS02_001_3T_V2\\\\WLS02_001_V2\\\\Mri_Abdomen_WO_Contrast - 7349\\\\Phs_and_Mag_2D_SE_EPI_301', 'N:\\\\2_Analysis\\\\_Research\\\\LIG\\\\WLS Phase 2\\\\UCSD\\\\WLS02\\\\WLS02_001\\\\Wls02_001_V3\\\\Mri_Abdomen_WO_Contrast - wls02_001_v3\\\\Phs_and_Mag_2D_SE_EPI_301', 'N:\\\\2_Analysis\\\\_Research\\\\LIG\\\\WLS Phase 2\\\\UCSD\\\\WLS02\\\\WLS02_002\\\\Wls02_002_V12\\\\Mri_Abdomen_WO_Contrast - wls02_002_v12\\\\Phs_and_Mag_2D_SE_EPI_301', 'N:\\\\2_Analysis\\\\_Research\\\\LIG\\\\WLS Phase 2\\\\UCSD\\\\WLS02\\\\WLS02_002\\\\Wls02_002_V2\\\\Mri_Abdomen_WO_Contrast - wls02_002_v2\\\\Phs_and_Mag_2D_SE_EPI_301', 'N:\\\\2_Analysis\\\\_Research\\\\LIG\\\\WLS Phase 2\\\\UCSD\\\\WLS02\\\\WLS02_003\\\\Wls02_003_V12\\\\Mri_Abdomen_WO_Contrast - wls02_003_v12\\\\Phs_and_Mag_2D_SE_EPI_301', 'N:\\\\2_Analysis\\\\_Research\\\\LIG\\\\WLS Phase 2\\\\UCSD\\\\WLS02\\\\WLS02_003\\\\Wls02_003_V2\\\\Mri_Abdomen_WO_Contrast - wls02_003_v2\\\\Phs_and_Mag_2D_SE_EPI_301', 'N:\\\\2_Analysis\\\\_Research\\\\LIG\\\\WLS Phase 2\\\\UCSD\\\\WLS02\\\\WLS02_004\\\\Wls02_004_V12\\\\Mri_Abdomen_WO_Contrast - wls02_004_v12\\\\Phs_and_Mag_2D_SE_EPI_1201', 'N:\\\\2_Analysis\\\\_Research\\\\LIG\\\\WLS Phase 2\\\\UCSD\\\\WLS02\\\\WLS02_005\\\\Wls02_005_V12\\\\Mri_Abdomen_WO_Contrast - wls02_005_v12\\\\Phs_and_Mag_2D_SE_EPI_301', 'N:\\\\2_Analysis\\\\_Research\\\\LIG\\\\WLS Phase 2\\\\UCSD\\\\WLS02\\\\WLS02_005\\\\Wls02_005_V2\\\\Mri_Abdomen_WO_Contrast - 0\\\\Phs_and_Mag_2D_SE_EPI_401', 'N:\\\\2_Analysis\\\\_Research\\\\LIG\\\\WLS Phase 2\\\\UCSD\\\\WLS02\\\\WLS02_006\\\\Wls02_006_V12\\\\Mri_Abdomen_WO_Contrast - wls02_006_v12\\\\Phs_and_Mag_2D_SE_EPI_301', 'N:\\\\2_Analysis\\\\_Research\\\\LIG\\\\WLS Phase 2\\\\UCSD\\\\WLS02\\\\WLS02_007\\\\Wls02_007_2_R\\\\Mri_Abdomen_WO_Contrast\\uf028\\\\Phs_and_Mag_2D_SE_EPI_1201', 'N:\\\\2_Analysis\\\\_Research\\\\LIG\\\\WLS Phase 2\\\\UCSD\\\\WLS02\\\\WLS02_007\\\\Wls02_007_2_R\\\\Mri_Abdomen_WO_Contrast\\uf028\\\\Phs_and_Mag_2D_SE_EPI_301', 'N:\\\\2_Analysis\\\\_Research\\\\LIG\\\\WLS Phase 2\\\\UCSD\\\\WLS02\\\\WLS02_007\\\\Wls02_007_V2\\\\Mri_Abdomen_WO_Contrast - wls02_007_v2\\\\Phs_and_Mag_2D_SE_EPI_301', 'N:\\\\2_Analysis\\\\_Research\\\\LIG\\\\WLS Phase 2\\\\UCSD\\\\WLS02\\\\WLS02_008\\\\Wls02_008_V12\\\\Mri_Abdomen_WO_Contrast - wls02_008_v12\\\\Phs_and_Mag_2D_SE_EPI_401', 'N:\\\\2_Analysis\\\\_Research\\\\LIG\\\\WLS Phase 2\\\\UCSD\\\\WLS02\\\\WLS02_008\\\\Wls02_008_V2\\\\Mri_Abdomen_WO_Contrast - wls02_008_v2\\\\Phs_and_Mag_2D_SE_EPI_301', 'N:\\\\2_Analysis\\\\_Research\\\\LIG\\\\WLS Phase 2\\\\UCSD\\\\WLS02\\\\WLS02_009\\\\Wls02_009_V12\\\\Mri_Abdomen_WO_Contrast - wls02_009_v12\\\\Phs_and_Mag_2D_SE_EPI_301', 'N:\\\\2_Analysis\\\\_Research\\\\LIG\\\\WLS Phase 2\\\\UCSD\\\\WLS02\\\\WLS02_010\\\\WLS02_010_V2\\\\Wls02_010_2\\\\Mri_Abdomen_WO_Contrast - WLS02_010_2\\\\Phs_and_Mag_2D_SE_EPI_301', 'N:\\\\2_Analysis\\\\_Research\\\\LIG\\\\WLS Phase 2\\\\UCSD\\\\WLS02\\\\WLS02_010\\\\Wls02_010_2\\\\Mri_Abdomen_WO_Contrast - WLS02_010_2\\\\Phs_and_Mag_2D_SE_EPI_1201', 'N:\\\\2_Analysis\\\\_Research\\\\LIG\\\\WLS Phase 2\\\\UCSD\\\\WLS02\\\\WLS02_010\\\\Wls02_010_2\\\\Mri_Abdomen_WO_Contrast - WLS02_010_2\\\\Phs_and_Mag_2D_SE_EPI_301', 'N:\\\\2_Analysis\\\\_Research\\\\LIG\\\\WLS Phase 2\\\\UCSD\\\\WLS02\\\\WLS02_011\\\\Wls02_011_V12\\\\Unnamed - WLS02_011_V12\\\\Phs_and_Mag_2D_SE_EPI_401', 'N:\\\\2_Analysis\\\\_Research\\\\LIG\\\\WLS Phase 2\\\\UCSD\\\\WLS02\\\\WLS02_011\\\\Wls02_011_V12\\\\Unnamed - WLS02_011_V12\\\\Phs_and_Mag_2D_SE_EPI_501', 'N:\\\\2_Analysis\\\\_Research\\\\LIG\\\\WLS Phase 2\\\\UCSD\\\\WLS02\\\\WLS02_011\\\\Wls02_011_V2\\\\Mri_Abdomen_WO_Contrast - WLS02_011_V2\\\\Phs_and_Mag_2D_SE_EPI_301', 'N:\\\\2_Analysis\\\\_Research\\\\LIG\\\\WLS Phase 2\\\\UCSD\\\\WLS02\\\\WLS02_011\\\\Wls02_011_V2\\\\Mri_Abdomen_WO_Contrast - WLS02_011_V2\\\\Phs_and_Mag_2D_SE_EPI_401', 'N:\\\\2_Analysis\\\\_Research\\\\LIG\\\\WLS Phase 2\\\\UCSD\\\\WLS02\\\\WLS02_012\\\\Wls02_012_V12\\\\Mri_Abdomen_WO_Contrast - WLS02_012_V12\\\\Phs_and_Mag_2D_SE_EPI_301', 'N:\\\\2_Analysis\\\\_Research\\\\LIG\\\\WLS Phase 2\\\\UCSD\\\\WLS02\\\\WLS02_012\\\\Wls02_012_V2\\\\Mri_Abdomen_WO_Contrast - wls02_012_v2\\\\Phs_and_Mag_2D_SE_EPI_601', 'N:\\\\2_Analysis\\\\_Research\\\\LIG\\\\WLS Phase 2\\\\UCSD\\\\WLS02\\\\WLS02_014\\\\Wls02_014_V12\\\\Mri_Abdomen_WO_Contrast - WLS02_014_V12\\\\Phs_and_Mag_2D_SE_EPI_301', 'N:\\\\2_Analysis\\\\_Research\\\\LIG\\\\WLS Phase 2\\\\UCSD\\\\WLS02\\\\WLS02_014\\\\Wls02_014_V2\\\\Mri_Abdomen_WO_Contrast - wls02_014_v2\\\\Phs_and_Mag_2D_SE_EPI_301']\n",
      "27\n"
     ]
    },
    {
     "data": {
      "text/plain": [
       "(None, None)"
      ]
     },
     "execution_count": 29,
     "metadata": {},
     "output_type": "execute_result"
    }
   ],
   "source": [
    "missing = sorted(list(set(dir2_list) - set(dir1_list)))\n",
    "print(missing), print(len(missing))"
   ]
  },
  {
   "cell_type": "code",
   "execution_count": null,
   "metadata": {},
   "outputs": [],
   "source": []
  },
  {
   "cell_type": "code",
   "execution_count": null,
   "metadata": {},
   "outputs": [],
   "source": []
  },
  {
   "cell_type": "code",
   "execution_count": null,
   "metadata": {},
   "outputs": [],
   "source": []
  },
  {
   "cell_type": "code",
   "execution_count": null,
   "metadata": {},
   "outputs": [],
   "source": []
  },
  {
   "cell_type": "code",
   "execution_count": null,
   "metadata": {},
   "outputs": [],
   "source": []
  },
  {
   "cell_type": "code",
   "execution_count": null,
   "metadata": {},
   "outputs": [],
   "source": []
  },
  {
   "cell_type": "code",
   "execution_count": 3,
   "metadata": {},
   "outputs": [
    {
     "name": "stdout",
     "output_type": "stream",
     "text": [
      "['c_1309.nii', 'c_1326.nii', 'c_1370.nii', 'c_1445.nii', 'c_1453.nii', 'c_1459.nii', 'c_1464.nii', 'c_1481.nii', 'c_1493.nii', 'c_1501.nii', 'c_1509.nii', 'c_1512.nii', 'c_1513.nii', 'c_1514.nii', 'c_2281.nii', 'c_2288.nii', 'c_2351.nii', 'c_2354.nii', 'c_2355.nii', 'c_2356.nii', 'c_3307.nii', 'c_3310.nii', 'c_3311.nii', 'c_3312.nii', 'c_3313.nii', 'c_3316.nii', 'c_3357.nii', 'c_3358.nii', 'c_3361.nii', 'c_4218.nii', 'c_4322.nii', 'c_4323.nii', 'c_4325.nii', 'c_4372.nii', 'c_4379.nii', 'c_4381.nii', 'c_4382.nii', 'c_4385.nii', 'c_4398.nii', 'c_4408.nii', 'c_4409.nii', 'c_5127.nii', 'c_5258.nii', 'c_5304.nii', 'c_5311.nii', 'c_5348.nii', 'c_5378.nii', 'c_5413.nii', 'c_5421.nii', 'c_5423.nii', 'c_5424.nii', 'c_5425.nii', 'c_5426.nii', 'c_5427.nii', 'c_5428.nii', 'c_5429.nii', 'c_5430.nii', 'c_5431.nii', 'c_5434.nii', 'c_5435.nii', 'c_5437.nii', 'c_5438.nii', 'c_5440.nii', 'c_5511.nii', 'c_5512.nii', 'c_5513.nii', 'c_5514.nii', 'c_5517.nii', 'c_5518.nii', 'c_5519.nii', 'c_5522.nii', 'c_5524.nii', 'c_5525.nii', 'c_5528.nii', 'c_5533.nii', 'c_5535.nii', 'c_5536.nii', 'c_5538.nii', 'c_5540.nii', 'c_5541.nii', 'c_5542.nii', 'c_5543.nii', 'c_5544.nii', 'c_5545.nii', 'c_5546.nii', 'c_5548.nii', 'c_5553.nii', 'c_5554.nii', 'c_5555.nii', 'c_5585.nii', 'c_5586.nii', 'c_5587.nii', 'c_5589.nii', 'c_5593.nii', 'c_6080.nii', 'c_7353.nii', 'c_8728.nii', 'c_8733.nii', 'c_8740.nii', 'c_9110.nii', 'c_9119.nii', 'c_9121.nii', 'c_9122.nii', 'c_9124.nii', 'c_9125.nii', 'c_9131.nii', 'c_9132.nii', 'c_9135.nii', 'c_9137.nii', 'c_9142.nii', 'c_9143.nii', 'f_2396.nii', 'f_2413.nii', 'f_2421.nii', 'f_2422.nii', 'f_2423.nii', 'f_2428.nii', 'f_2433.nii', 'f_2440.nii', 'f_2447.nii', 'f_2449.nii', 'f_2458.nii', 'f_2481.nii', 'f_2487.nii', 'f_2488.nii', 'f_3283.nii', 'f_3284.nii', 'f_3290.nii', 'f_3292.nii', 'f_3297.nii', 'f_3300.nii', 'f_3325.nii', 'f_3326.nii', 'f_3328.nii', 'f_3334.nii', 'f_3339.nii', 'f_3342.nii', 'f_3345.nii', 'f_3346.nii', 'f_3348.nii', 'f_4032.nii', 'f_4069.nii', 'f_4072.nii', 'f_4088.nii', 'f_4093.nii', 'f_4103.nii', 'f_4153.nii', 'f_4156.nii', 'f_4166.nii', 'f_4176.nii', 'f_4326.nii', 'f_4329.nii', 'f_4330.nii', 'f_4333.nii', 'f_4335.nii', 'f_4336.nii', 'f_4391.nii', 'f_4999.nii', 'f_5084.nii', 'f_5175.nii', 'f_5338.nii', 'f_5376.nii', 'f_5390.nii', 'f_5391.nii', 'f_5392.nii', 'f_5394.nii', 'f_5397.nii', 'f_5398.nii', 'f_5405.nii', 'f_5442.nii', 'f_5445.nii', 'f_5446.nii', 'f_5447.nii', 'f_5448.nii', 'f_5449.nii', 'f_5452.nii', 'f_5453.nii', 'f_5458.nii', 'f_5459.nii', 'f_5460.nii', 'f_5468.nii', 'f_5471.nii', 'f_5472.nii', 'f_5473.nii', 'f_5475.nii', 'f_5478.nii', 'f_5480.nii', 'f_5481.nii', 'f_5482.nii', 'f_5483.nii', 'f_5485.nii', 'f_5486.nii', 'f_5487.nii', 'f_5488.nii', 'f_6172.nii', 'f_6254.nii', 'f_6261.nii', 'f_6262.nii', 'f_6264.nii', 'f_6269.nii', 'f_6273.nii', 'f_7089.nii', 'f_7120.nii', 'f_7274.nii', 'f_7282.nii', 'f_7295.nii', 'f_7314.nii', 'f_7316.nii', 'f_7318.nii', 'f_7321.nii', 'f_7322.nii', 'f_7324.nii', 'f_7329.nii', 'f_7340.nii', 'f_7341.nii', 'f_7344.nii', 'f_7347.nii', 'f_8120.nii', 'f_8378.nii', 'f_8379.nii', 'f_8380.nii', 'f_8385.nii', 'f_8390.nii', 'f_8394.nii', 'f_8406.nii']\n"
     ]
    },
    {
     "data": {
      "text/plain": [
       "(None, 225)"
      ]
     },
     "execution_count": 3,
     "metadata": {},
     "output_type": "execute_result"
    }
   ],
   "source": [
    "patient_folders = os.listdir(sot_dir)\n",
    "print(patient_folders), len(patient_folders)"
   ]
  },
  {
   "cell_type": "code",
   "execution_count": 4,
   "metadata": {},
   "outputs": [
    {
     "name": "stdout",
     "output_type": "stream",
     "text": [
      "['c_1309.nii', 'c_1326.nii', 'c_1370.nii', 'c_1445.nii', 'c_1453.nii', 'c_1459.nii', 'c_1464.nii', 'c_1481.nii', 'c_1493.nii', 'c_1501.nii', 'c_1509.nii', 'c_1512.nii', 'c_1513.nii', 'c_1514.nii', 'c_2281.nii', 'c_2288.nii', 'c_2351.nii', 'c_2354.nii', 'c_2355.nii', 'c_2356.nii', 'c_3307.nii', 'c_3310.nii', 'c_3311.nii', 'c_3312.nii', 'c_3313.nii', 'c_3316.nii', 'c_3357.nii', 'c_3358.nii', 'c_3361.nii', 'c_4218.nii', 'c_4322.nii', 'c_4323.nii', 'c_4325.nii', 'c_4372.nii', 'c_4379.nii', 'c_4381.nii', 'c_4382.nii', 'c_4385.nii', 'c_4398.nii', 'c_4408.nii', 'c_4409.nii', 'c_5127.nii', 'c_5258.nii', 'c_5304.nii', 'c_5311.nii', 'c_5348.nii', 'c_5378.nii', 'c_5413.nii', 'c_5421.nii', 'c_5423.nii', 'c_5424.nii', 'c_5425.nii', 'c_5426.nii', 'c_5427.nii', 'c_5428.nii', 'c_5429.nii', 'c_5430.nii', 'c_5431.nii', 'c_5434.nii', 'c_5435.nii', 'c_5437.nii', 'c_5438.nii', 'c_5440.nii', 'c_5511.nii', 'c_5512.nii', 'c_5513.nii', 'c_5514.nii', 'c_5517.nii', 'c_5518.nii', 'c_5519.nii', 'c_5522.nii', 'c_5524.nii', 'c_5525.nii', 'c_5528.nii', 'c_5533.nii', 'c_5535.nii', 'c_5536.nii', 'c_5538.nii', 'c_5540.nii', 'c_5541.nii', 'c_5542.nii', 'c_5543.nii', 'c_5544.nii', 'c_5545.nii', 'c_5546.nii', 'c_5548.nii', 'c_5553.nii', 'c_5554.nii', 'c_5555.nii', 'c_5585.nii', 'c_5586.nii', 'c_5587.nii', 'c_5589.nii', 'c_5593.nii', 'c_6080.nii', 'c_7353.nii', 'c_8728.nii', 'c_8733.nii', 'c_8740.nii', 'c_9110.nii', 'c_9119.nii', 'c_9121.nii', 'c_9122.nii', 'c_9124.nii', 'c_9125.nii', 'c_9131.nii', 'c_9132.nii', 'c_9135.nii', 'c_9137.nii', 'c_9142.nii', 'c_9143.nii', 'f_2396.nii', 'f_2413.nii', 'f_2421.nii', 'f_2422.nii', 'f_2423.nii', 'f_2428.nii', 'f_2433.nii', 'f_2440.nii', 'f_2447.nii', 'f_2449.nii', 'f_2458.nii', 'f_2481.nii', 'f_2487.nii', 'f_2488.nii', 'f_3283.nii', 'f_3284.nii', 'f_3290.nii', 'f_3292.nii', 'f_3297.nii', 'f_3300.nii', 'f_3325.nii', 'f_3326.nii', 'f_3328.nii', 'f_3334.nii', 'f_3339.nii', 'f_3342.nii', 'f_3345.nii', 'f_3346.nii', 'f_3348.nii', 'f_4032.nii', 'f_4069.nii', 'f_4072.nii', 'f_4088.nii', 'f_4093.nii', 'f_4103.nii', 'f_4153.nii', 'f_4156.nii', 'f_4166.nii', 'f_4176.nii', 'f_4326.nii', 'f_4329.nii', 'f_4330.nii', 'f_4333.nii', 'f_4335.nii', 'f_4336.nii', 'f_4391.nii', 'f_4999.nii', 'f_5084.nii', 'f_5175.nii', 'f_5338.nii', 'f_5376.nii', 'f_5390.nii', 'f_5391.nii', 'f_5392.nii', 'f_5394.nii', 'f_5397.nii', 'f_5398.nii', 'f_5405.nii', 'f_5442.nii', 'f_5445.nii', 'f_5446.nii', 'f_5447.nii', 'f_5448.nii', 'f_5449.nii', 'f_5452.nii', 'f_5453.nii', 'f_5458.nii', 'f_5459.nii', 'f_5460.nii', 'f_5468.nii', 'f_5471.nii', 'f_5472.nii', 'f_5473.nii', 'f_5475.nii', 'f_5478.nii', 'f_5480.nii', 'f_5481.nii', 'f_5482.nii', 'f_5483.nii', 'f_5485.nii', 'f_5486.nii', 'f_5487.nii', 'f_5488.nii', 'f_6172.nii', 'f_6254.nii', 'f_6261.nii', 'f_6262.nii', 'f_6264.nii', 'f_6269.nii', 'f_6273.nii', 'f_7089.nii', 'f_7120.nii', 'f_7274.nii', 'f_7282.nii', 'f_7295.nii', 'f_7314.nii', 'f_7316.nii', 'f_7318.nii', 'f_7321.nii', 'f_7322.nii', 'f_7324.nii', 'f_7329.nii', 'f_7340.nii', 'f_7341.nii', 'f_7344.nii', 'f_7347.nii', 'f_8120.nii', 'f_8378.nii', 'f_8379.nii', 'f_8380.nii', 'f_8385.nii', 'f_8390.nii', 'f_8394.nii', 'f_8406.nii']\n"
     ]
    },
    {
     "data": {
      "text/plain": [
       "(None, 225)"
      ]
     },
     "execution_count": 4,
     "metadata": {},
     "output_type": "execute_result"
    }
   ],
   "source": [
    "folders = os.listdir(dir_two)\n",
    "print(folders), len(folders)"
   ]
  },
  {
   "cell_type": "code",
   "execution_count": 6,
   "metadata": {},
   "outputs": [
    {
     "name": "stdout",
     "output_type": "stream",
     "text": [
      "[]\n"
     ]
    }
   ],
   "source": [
    "missing = list(set(folders) - set(patient_folders))\n",
    "print(missing)"
   ]
  },
  {
   "cell_type": "code",
   "execution_count": null,
   "metadata": {},
   "outputs": [],
   "source": []
  }
 ],
 "metadata": {
  "kernelspec": {
   "display_name": "Python 3",
   "language": "python",
   "name": "python3"
  },
  "language_info": {
   "codemirror_mode": {
    "name": "ipython",
    "version": 3
   },
   "file_extension": ".py",
   "mimetype": "text/x-python",
   "name": "python",
   "nbconvert_exporter": "python",
   "pygments_lexer": "ipython3",
   "version": "3.7.1"
  }
 },
 "nbformat": 4,
 "nbformat_minor": 5
}
