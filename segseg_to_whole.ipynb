{
 "cells": [
  {
   "cell_type": "code",
   "execution_count": 1,
   "id": "3b8a4376-bba0-4595-acc4-0480b0b7e23b",
   "metadata": {},
   "outputs": [],
   "source": [
    "import numpy as np\n",
    "import nibabel as nib\n",
    "import os\n",
    "import matplotlib.pyplot as plt"
   ]
  },
  {
   "cell_type": "code",
   "execution_count": 11,
   "id": "64b1a395-df54-400b-8f6c-123d6d1b7694",
   "metadata": {},
   "outputs": [],
   "source": [
    "seg_path = r'N:\\2_Analysis\\automated_analysis\\Flint_SOT_EOT_volume\\nii files\\FLINT_SOT_WHOLE_LIVER_MASKS_NII'\n",
    "output_path = r'N:\\2_Analysis\\automated_analysis\\Flint_SOT_EOT_volume\\nii files\\FLINT_SOT_WHOLE_LIVER_MASKS_NII'"
   ]
  },
  {
   "cell_type": "code",
   "execution_count": 12,
   "id": "14936fae-b347-4a27-b07f-34579cb558e5",
   "metadata": {},
   "outputs": [],
   "source": [
    "case_id = []\n",
    "\n",
    "for root, dirs, files in os.walk(seg_path):\n",
    "    for file in files:\n",
    "        if file.endswith('.nii'):\n",
    "            patient = file[:6]\n",
    "            case_id.append(patient)\n",
    "    "
   ]
  },
  {
   "cell_type": "code",
   "execution_count": 13,
   "id": "12d037b6-11ac-4c61-91ea-98fce68bca9a",
   "metadata": {},
   "outputs": [
    {
     "data": {
      "text/plain": [
       "(['f_2421', 'f_2422', 'f_2423', 'f_2429', 'f_2433'], 82)"
      ]
     },
     "execution_count": 13,
     "metadata": {},
     "output_type": "execute_result"
    }
   ],
   "source": [
    "case_id[:5], len(case_id)"
   ]
  },
  {
   "cell_type": "code",
   "execution_count": 15,
   "id": "ac798e4d-63ad-46b1-8f66-a055494c6ae6",
   "metadata": {},
   "outputs": [],
   "source": [
    "for i in case_id:\n",
    "    case_path = os.path.join(seg_path, i + '_edited.nii')\n",
    "    \n",
    "    seg_ni = nib.load(case_path)\n",
    "\n",
    "    seg_np = seg_ni.get_fdata()\n",
    "    \n",
    "    whole_np = np.zeros((seg_np.shape[0], seg_np.shape[1], seg_np.shape[2]))\n",
    "    \n",
    "    whole_np[seg_np != 0] = 1\n",
    "    \n",
    "    img = nib.Nifti1Image(whole_np, seg_ni.affine)\n",
    "    nib.save(img, os.path.join(output_path, i + '_whole_liver_mask.nii'))"
   ]
  },
  {
   "cell_type": "code",
   "execution_count": null,
   "id": "a2fc968f-274d-43f7-85c0-1b0ea4e0b081",
   "metadata": {},
   "outputs": [],
   "source": []
  },
  {
   "cell_type": "code",
   "execution_count": null,
   "id": "f8a598ca-3760-48e6-8f8b-12309f1c2c48",
   "metadata": {},
   "outputs": [],
   "source": []
  },
  {
   "cell_type": "code",
   "execution_count": 4,
   "id": "016d51c6-530c-4573-ac31-c83786eab787",
   "metadata": {},
   "outputs": [],
   "source": [
    "case_id = 'f_2421'\n",
    "\n",
    "seg_path = r'N:\\2_Analysis\\automated_analysis\\Flint_SOT_EOT_volume\\nii files\\FLINT_SOT_WHOLE_LIVER_MASKS_NII'\n",
    "output_path = r'N:\\2_Analysis\\automated_analysis\\Flint_SOT_EOT_volume\\nii files\\FLINT_SOT_WHOLE_LIVER_MASKS_NII'\n",
    "\n",
    "case_path = os.path.join(seg_path, case_id + '_edited.nii')"
   ]
  },
  {
   "cell_type": "code",
   "execution_count": 5,
   "id": "ad124d4a-ff91-4134-ab7d-f90a80583e83",
   "metadata": {},
   "outputs": [
    {
     "data": {
      "text/plain": [
       "(224, 224, 26)"
      ]
     },
     "execution_count": 5,
     "metadata": {},
     "output_type": "execute_result"
    }
   ],
   "source": [
    "seg_ni = nib.load(case_path)\n",
    "\n",
    "seg_np = seg_ni.get_fdata()\n",
    "\n",
    "seg_np.shape"
   ]
  },
  {
   "cell_type": "code",
   "execution_count": 7,
   "id": "244bb469-052a-4224-b893-f09904d7cf54",
   "metadata": {},
   "outputs": [
    {
     "data": {
      "text/plain": [
       "<function matplotlib.pyplot.show(close=None, block=None)>"
      ]
     },
     "execution_count": 7,
     "metadata": {},
     "output_type": "execute_result"
    },
    {
     "data": {
      "image/png": "[encoded data removed]",
      "text/plain": [
       "<Figure size 432x288 with 1 Axes>"
      ]
     },
     "metadata": {
      "needs_background": "light"
     },
     "output_type": "display_data"
    }
   ],
   "source": [
    "plt.imshow(seg_np[:,:,15],cmap='gray')\n",
    "plt.show"
   ]
  },
  {
   "cell_type": "code",
   "execution_count": 8,
   "id": "5f2f4484-5d1d-4b6e-af20-11d4d84aa4d7",
   "metadata": {},
   "outputs": [
    {
     "data": {
      "text/plain": [
       "(224, 224, 26)"
      ]
     },
     "execution_count": 8,
     "metadata": {},
     "output_type": "execute_result"
    }
   ],
   "source": [
    "whole_np = np.zeros((seg_np.shape[0], seg_np.shape[1], seg_np.shape[2]))\n",
    "whole_np.shape"
   ]
  },
  {
   "cell_type": "code",
   "execution_count": 9,
   "id": "b0c7bbfa-8bdb-4678-a5a2-e9bf5da2fe88",
   "metadata": {},
   "outputs": [],
   "source": [
    "whole_np[seg_np != 0] = 1"
   ]
  },
  {
   "cell_type": "code",
   "execution_count": 10,
   "id": "d3bab110-1eb1-43ab-8862-fa65d0514b34",
   "metadata": {},
   "outputs": [
    {
     "data": {
      "text/plain": [
       "<function matplotlib.pyplot.show(close=None, block=None)>"
      ]
     },
     "execution_count": 10,
     "metadata": {},
     "output_type": "execute_result"
    },
    {
     "data": {
      "image/png": "[encoded data removed]",
      "text/plain": [
       "<Figure size 432x288 with 1 Axes>"
      ]
     },
     "metadata": {
      "needs_background": "light"
     },
     "output_type": "display_data"
    }
   ],
   "source": [
    "plt.imshow(whole_np[:,:,15],cmap='gray')\n",
    "plt.show"
   ]
  },
  {
   "cell_type": "code",
   "execution_count": 75,
   "id": "b480bcdc-d779-4801-a566-82d517b71d59",
   "metadata": {},
   "outputs": [],
   "source": [
    "img = nib.Nifti1Image(whole_np, seg_ni.affine)\n",
    "nib.save(img, os.path.join(output_path, case_id + '.nii'))"
   ]
  },
  {
   "cell_type": "code",
   "execution_count": null,
   "id": "dcf41155-bbe9-4571-aec8-aaaa74478d2b",
   "metadata": {},
   "outputs": [],
   "source": []
  },
  {
   "cell_type": "code",
   "execution_count": null,
   "id": "e585e2b8-4e13-45fb-8f98-7aedaef1b06b",
   "metadata": {},
   "outputs": [],
   "source": []
  }
 ],
 "metadata": {
  "kernelspec": {
   "display_name": "gpu",
   "language": "python",
   "name": "gpu"
  },
  "language_info": {
   "codemirror_mode": {
    "name": "ipython",
    "version": 3
   },
   "file_extension": ".py",
   "mimetype": "text/x-python",
   "name": "python",
   "nbconvert_exporter": "python",
   "pygments_lexer": "ipython3",
   "version": "3.9.7"
  }
 },
 "nbformat": 4,
 "nbformat_minor": 5
}
