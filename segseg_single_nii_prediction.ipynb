{
 "cells": [
  {
   "cell_type": "code",
   "execution_count": 7,
   "id": "619d97be-dac5-4b59-ac01-a78c4093087b",
   "metadata": {},
   "outputs": [],
   "source": [
    "from tensorflow.keras.models import load_model\n",
    "import nibabel as nib\n",
    "import numpy as np\n",
    "import matplotlib.pyplot as plt\n",
    "import cv2\n",
    "import keras.backend as K\n",
    "import keras\n",
    "import os \n",
    "from scipy.ndimage.interpolation import zoom\n",
    "from scipy.ndimage.measurements import label"
   ]
  },
  {
   "cell_type": "code",
   "execution_count": 2,
   "id": "71202ce5-e5a3-491a-8505-d98b44088b14",
   "metadata": {},
   "outputs": [
    {
     "name": "stdout",
     "output_type": "stream",
     "text": [
      "WARNING:tensorflow:From C:\\Users\\tdelg\\AppData\\Local\\Temp/ipykernel_8940/3053053118.py:4: is_gpu_available (from tensorflow.python.framework.test_util) is deprecated and will be removed in a future version.\n",
      "Instructions for updating:\n",
      "Use `tf.config.list_physical_devices('GPU')` instead.\n",
      "True\n",
      "------------------------------\n",
      "/device:GPU:0\n",
      "------------------------------\n",
      "[PhysicalDevice(name='/physical_device:GPU:0', device_type='GPU')]\n",
      "------------------------------\n",
      "[name: \"/device:CPU:0\"\n",
      "device_type: \"CPU\"\n",
      "memory_limit: 268435456\n",
      "locality {\n",
      "}\n",
      "incarnation: 1281303024777305390\n",
      "xla_global_id: -1\n",
      ", name: \"/device:GPU:0\"\n",
      "device_type: \"GPU\"\n",
      "memory_limit: 10317004800\n",
      "locality {\n",
      "  bus_id: 1\n",
      "  links {\n",
      "  }\n",
      "}\n",
      "incarnation: 9372135219030433619\n",
      "physical_device_desc: \"device: 0, name: NVIDIA TITAN V, pci bus id: 0000:01:00.0, compute capability: 7.0\"\n",
      "xla_global_id: 416903419\n",
      "]\n"
     ]
    }
   ],
   "source": [
    "import tensorflow as tf\n",
    "from tensorflow.python.client import device_lib\n",
    "\n",
    "print(tf.test.is_gpu_available())\n",
    "print('-'*30)\n",
    "print(tf.test.gpu_device_name())\n",
    "print('-'*30)\n",
    "print(tf.config.list_physical_devices('GPU'))\n",
    "print('-'*30)\n",
    "print(device_lib.list_local_devices())"
   ]
  },
  {
   "cell_type": "code",
   "execution_count": 3,
   "id": "c705753e-c344-457c-87df-3d6b692320bf",
   "metadata": {},
   "outputs": [],
   "source": [
    "IMAGE_HEIGHT = 224\n",
    "IMAGE_WIDTH = 224\n",
    "IMG_SIZE = (IMAGE_HEIGHT, IMAGE_WIDTH)"
   ]
  },
  {
   "cell_type": "code",
   "execution_count": 4,
   "id": "711c51d2-5789-4e7d-989c-2bdcb785041b",
   "metadata": {},
   "outputs": [],
   "source": [
    "def load_segseg_model(model_seg_dir, weights_dir):\n",
    "    json_file = open(model_seg_dir, 'r'); loaded_model_json = json_file.read(); json_file.close()\n",
    "    model = keras.models.model_from_json(loaded_model_json)\n",
    "    model.load_weights(weights_dir) # Load model weights\n",
    "    return model\n",
    "\n",
    "def normalize_image(img,low_p=0,up_p=100):\n",
    "    min_ = np.percentile(img.flatten(),low_p)\n",
    "    max_ = np.percentile(img.flatten(),up_p)\n",
    "    if min_ == max_ and max_ > 0:\n",
    "        return (img - min_) / (max_ - min_)\n",
    "    elif min_ == max_ and max_ == 0:\n",
    "        return img\n",
    "    else:\n",
    "        new_img  = (img - min_) / (max_ - min_)\n",
    "        new_img[new_img > 1] = 1\n",
    "        new_img[new_img < 0] = 0\n",
    "\n",
    "        return new_img\n",
    "\n",
    "def process_mask(arr, out_shape):\n",
    "    liv = arr[:,:,:,0]\n",
    "    liv = zoom(liv, (out_shape[0]/192, out_shape[1]/192, out_shape[2]/96))\n",
    "    liv[liv >= 0.5] = 1; liv[liv < 0.5] = 0\n",
    "    liv = largestConnectedComponent(liv)\n",
    "    arr_resize = np.zeros((out_shape[0], out_shape[1], out_shape[2], 10))\n",
    "    for ii in range(arr.shape[-1]):\n",
    "        arr_resize[:,:,:,ii] = zoom(arr[:,:,:,ii], (out_shape[0]/192, out_shape[1]/192, out_shape[2]/96))\n",
    "    arr_resize[arr_resize <= 0.5] = 0.\n",
    "    arr = np.argmax(np.concatenate([ np.zeros((out_shape[0], out_shape[1], out_shape[2],1)), arr_resize[:,:,:,1:] ], -1), axis=-1)\n",
    "    arr_resize = np.zeros((out_shape[0], out_shape[1], out_shape[2], 9))\n",
    "    for ii in range(9):\n",
    "        arr_resize[:,:,:,ii][np.where(arr == (ii+1))] = 1\n",
    "        arr_resize[:,:,:,ii] = largestConnectedComponent(arr_resize[:,:,:,ii])\n",
    "    arr = np.argmax(np.concatenate([ np.zeros((out_shape[0], out_shape[1], out_shape[2],1)), arr_resize ], -1), axis=-1)\n",
    "    return liv,arr\n",
    "\n",
    "def largestConnectedComponent(cnn_seg):\n",
    "    cnn_seg[cnn_seg >= 0.5] = 1; cnn_seg[cnn_seg < 0.5] = 0\n",
    "    struct = np.ones((3,3,3))\n",
    "    pred_postp1 = cnn_seg\n",
    "    labels, num_features = label(pred_postp1,struct)\n",
    "    if num_features !=0:\n",
    "        feature_size = np.zeros((num_features,))\n",
    "        for ii in range(num_features):\n",
    "            feature_size[ii] = np.sum(labels==(ii+1))\n",
    "            label_liver = np.argmax(feature_size)\n",
    "            pred_postp = np.zeros(cnn_seg.shape)\n",
    "            pred_postp[labels== (label_liver+1)] = 1\n",
    "    else:\n",
    "        pred_postp = cnn_seg\n",
    "    return pred_postp"
   ]
  },
  {
   "cell_type": "code",
   "execution_count": 5,
   "id": "b4c72372-25f1-4969-a696-a19220a403fe",
   "metadata": {},
   "outputs": [],
   "source": [
    "model_dir = 'segmental_segmentation_model.hdf5' \n",
    "weight_dir = 'segmental_segmentation_weights.hdf5' \n",
    "\n",
    "model = load_segseg_model(model_dir, weight_dir)"
   ]
  },
  {
   "cell_type": "code",
   "execution_count": 97,
   "id": "8f711b6d-9494-4b4b-aeda-ccb989e47227",
   "metadata": {},
   "outputs": [],
   "source": [
    "case_id = 'c_9122.nii'\n",
    "\n",
    "parent_dir = r'N:\\2_Analysis\\automated_analysis\\cynch_segmentations\\cynch_additions\\mag_ni/'\n",
    "\n",
    "mag_dir = os.path.join(parent_dir, case_id)"
   ]
  },
  {
   "cell_type": "code",
   "execution_count": 98,
   "id": "ef2e6f00-a8ae-41b9-8096-d9a003c3a54a",
   "metadata": {},
   "outputs": [],
   "source": [
    "mag_ni = nib.load(mag_dir)\n",
    "\n",
    "mag = normalize_image(mag_ni.get_fdata())\n",
    "\n",
    "echo0 = np.flip(np.rot90(mag), 1)"
   ]
  },
  {
   "cell_type": "code",
   "execution_count": 99,
   "id": "3ac6b84d-86c3-4109-aa1b-edc70f88bc9f",
   "metadata": {},
   "outputs": [
    {
     "data": {
      "text/plain": [
       "((224, 224, 27), 0.0, 1.0)"
      ]
     },
     "execution_count": 99,
     "metadata": {},
     "output_type": "execute_result"
    }
   ],
   "source": [
    "echo0.shape, echo0.min(), echo0.max()"
   ]
  },
  {
   "cell_type": "code",
   "execution_count": 100,
   "id": "3d34836c-2c61-41c6-a734-24e6944611a6",
   "metadata": {},
   "outputs": [],
   "source": [
    "test_slice = echo0[:,:,15]"
   ]
  },
  {
   "cell_type": "code",
   "execution_count": 101,
   "id": "287d3fea-660b-4b88-95b1-9d00e71ffc06",
   "metadata": {},
   "outputs": [
    {
     "data": {
      "image/png": "[encoded data removed]",
      "text/plain": [
       "<Figure size 432x288 with 1 Axes>"
      ]
     },
     "metadata": {
      "needs_background": "light"
     },
     "output_type": "display_data"
    },
    {
     "data": {
      "text/plain": [
       "((224, 224), 0.0, 0.909667446019236)"
      ]
     },
     "execution_count": 101,
     "metadata": {},
     "output_type": "execute_result"
    }
   ],
   "source": [
    "plt.imshow(test_slice,cmap='gray')\n",
    "plt.show()\n",
    "test_slice.shape, test_slice.min(), test_slice.max()"
   ]
  },
  {
   "cell_type": "code",
   "execution_count": 102,
   "id": "f9a5751d-6ef3-4afb-aa3f-d0dd9fe578a2",
   "metadata": {},
   "outputs": [],
   "source": [
    "s0,s1,s2 = echo0.shape\n",
    "inp = zoom(echo0, (192/s0,192/s1,96/s2))\n",
    "inp = np.expand_dims(np.expand_dims(normalize_image(inp, 0, 95), 0), -1)\n",
    "\n",
    "pred = model.predict(inp)[0]\n",
    "\n",
    "liver,seg = process_mask(pred, echo0.shape)\n",
    "\n",
    "liver = liver.astype('int8')"
   ]
  },
  {
   "cell_type": "code",
   "execution_count": 103,
   "id": "989e1c29-4be6-49e3-8ad8-d4aa568cbff1",
   "metadata": {},
   "outputs": [],
   "source": [
    "liver = np.swapaxes(liver,0,1)\n",
    "liver = np.flip(liver,0)\n",
    "liver = np.flip(liver,1)"
   ]
  },
  {
   "cell_type": "code",
   "execution_count": 104,
   "id": "b5f8b007-971c-4877-8266-6aeb2f70f392",
   "metadata": {},
   "outputs": [],
   "source": [
    "output = r'N:\\2_Analysis\\automated_analysis\\cynch_segmentations\\cynch_additions\\whole_liver_seg/'\n",
    "\n",
    "new = nib.Nifti1Image(liver, mag_ni.affine)\n",
    "nib.save(new, os.path.join(output, case_id))"
   ]
  },
  {
   "cell_type": "code",
   "execution_count": null,
   "id": "009babcf-fdb1-4620-b496-cb1aa1fbd36b",
   "metadata": {},
   "outputs": [],
   "source": []
  }
 ],
 "metadata": {
  "kernelspec": {
   "display_name": "gpu",
   "language": "python",
   "name": "gpu"
  },
  "language_info": {
   "codemirror_mode": {
    "name": "ipython",
    "version": 3
   },
   "file_extension": ".py",
   "mimetype": "text/x-python",
   "name": "python",
   "nbconvert_exporter": "python",
   "pygments_lexer": "ipython3",
   "version": "3.9.7"
  }
 },
 "nbformat": 4,
 "nbformat_minor": 5
}
