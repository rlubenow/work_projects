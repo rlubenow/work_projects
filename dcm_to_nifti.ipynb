{
 "cells": [
  {
   "cell_type": "code",
   "execution_count": 89,
   "id": "620a4b31-fd24-44c3-b5a1-2c7c1091e7e0",
   "metadata": {},
   "outputs": [],
   "source": [
    "import glob\n",
    "import os\n",
    "import pydicom\n",
    "import numpy as np\n",
    "import nibabel as nib"
   ]
  },
  {
   "cell_type": "code",
   "execution_count": 92,
   "id": "616e9d50-cad5-46ed-bcb0-f0a822673f05",
   "metadata": {},
   "outputs": [],
   "source": [
    "numbers = [1, 2, 3, 5, 8, 10, 13, 15, 19, 20, 21, 22, 31, 32, 33, 34, 36, 37, 38, 39]\n",
    "dest = r'N:\\2_Analysis\\automated_analysis\\00_2D_UNET_FRAMEWORK\\Binary\\Spleen Segmentation\\3D_NII_IMAGES\\CHAOS_SPLEEN_MR\\\\T1DUAL\\OutPhaseImage'"
   ]
  },
  {
   "cell_type": "code",
   "execution_count": 93,
   "id": "19735273-0191-4859-ba60-e7235393d13a",
   "metadata": {},
   "outputs": [],
   "source": [
    "for i in numbers:\n",
    "    num = str(i)\n",
    "    first = r'D:\\CHAOS_Train_Sets (1)\\Train_Sets\\MR'\n",
    "    filepath = os.path.join(r'D:\\CHAOS_Train_Sets (1)\\Train_Sets\\MR/' + num + '\\T1DUAL\\DICOM_anon\\OutPhase\\*.dcm')\n",
    "    filelist = glob.glob(filepath)\n",
    "                         \n",
    "    RefDs = pydicom.read_file(filelist[0])\n",
    "                         \n",
    "    ConstPixelDims = (int(RefDs.Rows), int(RefDs.Columns), len(filelist))\n",
    "    \n",
    "    ConstPixelSpacing = (float(RefDs.PixelSpacing[0]), float(RefDs.PixelSpacing[1]), float(RefDs.SliceThickness))\n",
    "                         \n",
    "    ArrayDicom = np.zeros(ConstPixelDims, dtype=RefDs.pixel_array.dtype)\n",
    "                         \n",
    "    for filenameDCM in filelist:\n",
    "    # read the file\n",
    "        ds = pydicom.read_file(filenameDCM)\n",
    "    # store the raw image data\n",
    "        ArrayDicom[:, :, filelist.index(filenameDCM)] = ds.pixel_array\n",
    "                         \n",
    "    image_ni = nib.Nifti1Image(np.flip(np.rot90(ArrayDicom), 1), affine = np.eye(4))\n",
    "    nib.save(image_ni, os.path.join(dest, num + '.nii'))"
   ]
  },
  {
   "cell_type": "code",
   "execution_count": null,
   "id": "2b6da0ac-4d22-4e8a-b77a-3d74747c578d",
   "metadata": {},
   "outputs": [],
   "source": []
  }
 ],
 "metadata": {
  "kernelspec": {
   "display_name": "gpu",
   "language": "python",
   "name": "gpu"
  },
  "language_info": {
   "codemirror_mode": {
    "name": "ipython",
    "version": 3
   },
   "file_extension": ".py",
   "mimetype": "text/x-python",
   "name": "python",
   "nbconvert_exporter": "python",
   "pygments_lexer": "ipython3",
   "version": "3.9.7"
  }
 },
 "nbformat": 4,
 "nbformat_minor": 5
}
